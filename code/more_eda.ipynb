{
 "cells": [
  {
   "cell_type": "markdown",
   "metadata": {},
   "source": [
    "# More EDA"
   ]
  },
  {
   "cell_type": "code",
   "execution_count": 7,
   "metadata": {},
   "outputs": [],
   "source": [
    "import pandas as pd\n",
    "import numpy as np\n",
    "import matplotlib.pyplot as plt\n",
    "import seaborn as sns\n",
    "sns.set_style('white')\n",
    "\n",
    "from IPython.display import Markdown, display as ipd\n",
    "\n",
    "pd.set_option('display.max_row', 200) # Set ipython's max row display\n",
    "pd.set_option('display.max_columns', 85) # Set iPython's max column count\n",
    "pd.set_option('display.max_colwidth', 1_000) # Set iPython's max column width\n",
    "\n",
    "# pseudo-markdown in code cells\n",
    "def printmd(string):\n",
    "    ipd(Markdown(string))\n",
    "# ref: https://discuss.analyticsvidhya.com/t/how-to-make-a-text-bold-within-print-statement-in-ipython-notebook/14552/2"
   ]
  },
  {
   "cell_type": "code",
   "execution_count": 3,
   "metadata": {},
   "outputs": [],
   "source": [
    "# Just top notes\n",
    "fragrance_df = pd.read_csv('../data/data_subsets/fragrance_df_top_mid_base_3_4_rating.csv')"
   ]
  },
  {
   "cell_type": "code",
   "execution_count": 4,
   "metadata": {},
   "outputs": [
    {
     "data": {
      "text/plain": [
       "(42051, 3720)"
      ]
     },
     "execution_count": 4,
     "metadata": {},
     "output_type": "execute_result"
    }
   ],
   "source": [
    "ipd(fragrance_df.shape)\n",
    "fragrance_df.head(1)"
   ]
  },
  {
   "cell_type": "code",
   "execution_count": 11,
   "metadata": {},
   "outputs": [
    {
     "data": {
      "text/plain": [
       "array(['top_0_bergamot', 'top_0_bergamot_blossom', 'top_0_bergamot_leaf',\n",
       "       'top_0_calabrian_bergamot', 'top_0_sicilian_bergamot',\n",
       "       'top_1_bergamot', 'top_1_bergamot_blossom', 'top_1_bergamot_leaf',\n",
       "       'top_1_calabrian_bergamot', 'top_1_sicilian_bergamot',\n",
       "       'top_1_white_bergamot', 'top_2_bergamot', 'top_2_bergamot_leaf',\n",
       "       'top_2_calabrian_bergamot', 'top_2_sicilian_bergamot',\n",
       "       'top_3_bergamot', 'top_3_bergamot_blossom', 'top_3_bergamot_leaf',\n",
       "       'top_3_calabrian_bergamot', 'top_3_sicilian_bergamot',\n",
       "       'top_3_white_bergamot'], dtype='<U24')"
      ]
     },
     "execution_count": 11,
     "metadata": {},
     "output_type": "execute_result"
    }
   ],
   "source": [
    "# Check bergamot's relationship with ratings\n",
    "bergamot_cols = []\n",
    "for col in fragrance_df.columns:\n",
    "    if 'bergamot' in col:\n",
    "        bergamot_cols.append(col)\n",
    "        \n",
    "np.array(bergamot_cols)"
   ]
  },
  {
   "cell_type": "code",
   "execution_count": null,
   "metadata": {},
   "outputs": [],
   "source": []
  },
  {
   "cell_type": "code",
   "execution_count": null,
   "metadata": {},
   "outputs": [],
   "source": []
  },
  {
   "cell_type": "code",
   "execution_count": null,
   "metadata": {},
   "outputs": [],
   "source": []
  },
  {
   "cell_type": "code",
   "execution_count": null,
   "metadata": {},
   "outputs": [],
   "source": []
  },
  {
   "cell_type": "code",
   "execution_count": null,
   "metadata": {},
   "outputs": [],
   "source": []
  }
 ],
 "metadata": {
  "kernelspec": {
   "display_name": "Python 3",
   "language": "python",
   "name": "python3"
  },
  "language_info": {
   "codemirror_mode": {
    "name": "ipython",
    "version": 3
   },
   "file_extension": ".py",
   "mimetype": "text/x-python",
   "name": "python",
   "nbconvert_exporter": "python",
   "pygments_lexer": "ipython3",
   "version": "3.8.3"
  }
 },
 "nbformat": 4,
 "nbformat_minor": 4
}

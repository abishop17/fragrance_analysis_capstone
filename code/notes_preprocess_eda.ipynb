{
 "cells": [
  {
   "cell_type": "markdown",
   "metadata": {},
   "source": [
    "# Fragrance notes\n",
    "\n",
    "## Preprocessing / EDA"
   ]
  },
  {
   "cell_type": "markdown",
   "metadata": {},
   "source": [
    "## Import libraries and dataset"
   ]
  },
  {
   "cell_type": "markdown",
   "metadata": {},
   "source": [
    "#### Library imports"
   ]
  },
  {
   "cell_type": "code",
   "execution_count": 108,
   "metadata": {},
   "outputs": [],
   "source": [
    "import pandas as pd\n",
    "import numpy as np\n",
    "import matplotlib.pyplot as plt\n",
    "import seaborn as sns\n",
    "sns.set_style('white')\n",
    "\n",
    "from sklearn.preprocessing import StandardScaler\n",
    "\n",
    "from mpl_toolkits.mplot3d import Axes3D\n",
    "\n",
    "# Hide deprecation/ future warnings\n",
    "\n",
    "import warnings; warnings.simplefilter('ignore')\n",
    "\n",
    "# User-friendly formatting\n",
    "\n",
    "from IPython.display import Markdown, display as ipd\n",
    "\n",
    "pd.set_option('display.max_row', 200) # Set IPython's max row display\n",
    "pd.set_option('display.max_columns', 85) # Set IPython's max column count\n",
    "pd.set_option('display.max_colwidth', 1_000) # Set IPython's max column width\n",
    "\n",
    "# pseudo-markdown in code cells\n",
    "def printmd(string):\n",
    "    ipd(Markdown(string))\n",
    "# ref: https://discuss.analyticsvidhya.com/t/how-to-make-a-text-bold-within-print-statement-in-ipython-notebook/14552/2"
   ]
  },
  {
   "cell_type": "markdown",
   "metadata": {},
   "source": [
    "#### About the dataset\n",
    "\n",
    "\n",
    "I found this dataset on Kaggle with specifics on the fragrance components as well as user rating. See below info from the dataset provider.\n",
    "* [Fragrances - Notes and User Rating](https://www.kaggle.com/sagikeren88/fragrances-and-perfumes) | `notes_and_user_ratings.csv`\n",
    ">An enhanced dataset with scent breakdown, user ranking and segmentation and many more<br>\n",
    ">Perfume notes are divided into 3 main notes - Top, Middle (Heart) and Base."
   ]
  },
  {
   "cell_type": "markdown",
   "metadata": {},
   "source": [
    "#### Read in the dataset"
   ]
  },
  {
   "cell_type": "code",
   "execution_count": 134,
   "metadata": {},
   "outputs": [
    {
     "data": {
      "text/html": [
       "<div>\n",
       "<style scoped>\n",
       "    .dataframe tbody tr th:only-of-type {\n",
       "        vertical-align: middle;\n",
       "    }\n",
       "\n",
       "    .dataframe tbody tr th {\n",
       "        vertical-align: top;\n",
       "    }\n",
       "\n",
       "    .dataframe thead th {\n",
       "        text-align: right;\n",
       "    }\n",
       "</style>\n",
       "<table border=\"1\" class=\"dataframe\">\n",
       "  <thead>\n",
       "    <tr style=\"text-align: right;\">\n",
       "      <th></th>\n",
       "      <th>url</th>\n",
       "      <th>title</th>\n",
       "      <th>longevity_poor</th>\n",
       "      <th>longevity_weak</th>\n",
       "      <th>longevity_moderate</th>\n",
       "      <th>longevity_long</th>\n",
       "      <th>longevity_very_long</th>\n",
       "      <th>sillage_soft</th>\n",
       "      <th>sillage_moderate</th>\n",
       "      <th>sillage_heavy</th>\n",
       "      <th>sillage_enormous</th>\n",
       "      <th>perfume_id</th>\n",
       "      <th>clslove</th>\n",
       "      <th>clslike</th>\n",
       "      <th>clsdislike</th>\n",
       "      <th>clswinter</th>\n",
       "      <th>clsspring</th>\n",
       "      <th>clssummer</th>\n",
       "      <th>clsautumn</th>\n",
       "      <th>clscold</th>\n",
       "      <th>clshot</th>\n",
       "      <th>clsday</th>\n",
       "      <th>clsnight</th>\n",
       "      <th>people</th>\n",
       "      <th>clslove_female25under</th>\n",
       "      <th>clslove_male25under</th>\n",
       "      <th>clslove_female25older</th>\n",
       "      <th>clslove_male25older</th>\n",
       "      <th>clslike_female25under</th>\n",
       "      <th>clslike_male25under</th>\n",
       "      <th>clslike_female25older</th>\n",
       "      <th>clslike_male25older</th>\n",
       "      <th>clsdislike_female25under</th>\n",
       "      <th>clsdislike_male25under</th>\n",
       "      <th>clsdislike_female25older</th>\n",
       "      <th>clsdislike_male25older</th>\n",
       "      <th>clswinter_female25under</th>\n",
       "      <th>clswinter_male25under</th>\n",
       "      <th>clswinter_female25older</th>\n",
       "      <th>clswinter_male25older</th>\n",
       "      <th>clsspring_female25under</th>\n",
       "      <th>clsspring_male25under</th>\n",
       "      <th>...</th>\n",
       "      <th>martini</th>\n",
       "      <th>metallic</th>\n",
       "      <th>milky</th>\n",
       "      <th>mossy</th>\n",
       "      <th>musky</th>\n",
       "      <th>narcotic</th>\n",
       "      <th>nutty</th>\n",
       "      <th>oud</th>\n",
       "      <th>ozonic</th>\n",
       "      <th>patchouli</th>\n",
       "      <th>plastic</th>\n",
       "      <th>powdery</th>\n",
       "      <th>rose</th>\n",
       "      <th>rum</th>\n",
       "      <th>salty</th>\n",
       "      <th>sand</th>\n",
       "      <th>savory</th>\n",
       "      <th>smoky</th>\n",
       "      <th>soapy</th>\n",
       "      <th>soft spicy</th>\n",
       "      <th>sour</th>\n",
       "      <th>sweet</th>\n",
       "      <th>tennis ball</th>\n",
       "      <th>terpenic</th>\n",
       "      <th>tobacco</th>\n",
       "      <th>tonka (coumarin)</th>\n",
       "      <th>tropical</th>\n",
       "      <th>tuberose</th>\n",
       "      <th>unknown</th>\n",
       "      <th>vanilla</th>\n",
       "      <th>vinyl</th>\n",
       "      <th>violet</th>\n",
       "      <th>vodka</th>\n",
       "      <th>warm spicy</th>\n",
       "      <th>watery</th>\n",
       "      <th>wet plaster</th>\n",
       "      <th>whiskey</th>\n",
       "      <th>white floral</th>\n",
       "      <th>white wine</th>\n",
       "      <th>wine</th>\n",
       "      <th>woody</th>\n",
       "      <th>yellow floral</th>\n",
       "    </tr>\n",
       "  </thead>\n",
       "  <tbody>\n",
       "    <tr>\n",
       "      <th>0</th>\n",
       "      <td>https://www.fragrantica.com/perfume/The-Spirit-of-Dubai/Aamal-44152.html</td>\n",
       "      <td>Aamal The Spirit of Dubai for women and men</td>\n",
       "      <td>0</td>\n",
       "      <td>0</td>\n",
       "      <td>0</td>\n",
       "      <td>0</td>\n",
       "      <td>3</td>\n",
       "      <td>0</td>\n",
       "      <td>1</td>\n",
       "      <td>0</td>\n",
       "      <td>3</td>\n",
       "      <td>44152</td>\n",
       "      <td>100</td>\n",
       "      <td>1</td>\n",
       "      <td>1</td>\n",
       "      <td>50</td>\n",
       "      <td>50</td>\n",
       "      <td>50</td>\n",
       "      <td>50</td>\n",
       "      <td>0</td>\n",
       "      <td>0</td>\n",
       "      <td>50</td>\n",
       "      <td>50</td>\n",
       "      <td>3</td>\n",
       "      <td>1</td>\n",
       "      <td>1</td>\n",
       "      <td>1</td>\n",
       "      <td>100</td>\n",
       "      <td>1</td>\n",
       "      <td>1</td>\n",
       "      <td>1</td>\n",
       "      <td>1</td>\n",
       "      <td>1</td>\n",
       "      <td>1</td>\n",
       "      <td>1</td>\n",
       "      <td>1</td>\n",
       "      <td>1</td>\n",
       "      <td>100</td>\n",
       "      <td>1</td>\n",
       "      <td>1</td>\n",
       "      <td>1</td>\n",
       "      <td>100</td>\n",
       "      <td>...</td>\n",
       "      <td>0</td>\n",
       "      <td>0</td>\n",
       "      <td>0</td>\n",
       "      <td>0</td>\n",
       "      <td>1</td>\n",
       "      <td>0</td>\n",
       "      <td>0</td>\n",
       "      <td>0</td>\n",
       "      <td>0</td>\n",
       "      <td>0</td>\n",
       "      <td>0</td>\n",
       "      <td>0</td>\n",
       "      <td>0</td>\n",
       "      <td>0</td>\n",
       "      <td>0</td>\n",
       "      <td>0</td>\n",
       "      <td>0</td>\n",
       "      <td>0</td>\n",
       "      <td>0</td>\n",
       "      <td>0</td>\n",
       "      <td>0</td>\n",
       "      <td>0</td>\n",
       "      <td>0</td>\n",
       "      <td>0</td>\n",
       "      <td>0</td>\n",
       "      <td>0</td>\n",
       "      <td>0</td>\n",
       "      <td>0</td>\n",
       "      <td>0</td>\n",
       "      <td>0</td>\n",
       "      <td>0</td>\n",
       "      <td>0</td>\n",
       "      <td>0</td>\n",
       "      <td>0</td>\n",
       "      <td>0</td>\n",
       "      <td>0</td>\n",
       "      <td>0</td>\n",
       "      <td>0</td>\n",
       "      <td>0</td>\n",
       "      <td>0</td>\n",
       "      <td>1</td>\n",
       "      <td>0</td>\n",
       "    </tr>\n",
       "  </tbody>\n",
       "</table>\n",
       "<p>1 rows × 155 columns</p>\n",
       "</div>"
      ],
      "text/plain": [
       "                                                                        url  \\\n",
       "0  https://www.fragrantica.com/perfume/The-Spirit-of-Dubai/Aamal-44152.html   \n",
       "\n",
       "                                         title  longevity_poor  \\\n",
       "0  Aamal The Spirit of Dubai for women and men               0   \n",
       "\n",
       "   longevity_weak  longevity_moderate  longevity_long  longevity_very_long  \\\n",
       "0               0                   0               0                    3   \n",
       "\n",
       "   sillage_soft  sillage_moderate  sillage_heavy  sillage_enormous  \\\n",
       "0             0                 1              0                 3   \n",
       "\n",
       "   perfume_id  clslove  clslike  clsdislike  clswinter  clsspring  clssummer  \\\n",
       "0       44152      100        1           1         50         50         50   \n",
       "\n",
       "   clsautumn  clscold  clshot  clsday  clsnight  people  \\\n",
       "0         50        0       0      50        50       3   \n",
       "\n",
       "   clslove_female25under  clslove_male25under  clslove_female25older  \\\n",
       "0                      1                    1                      1   \n",
       "\n",
       "   clslove_male25older  clslike_female25under  clslike_male25under  \\\n",
       "0                  100                      1                    1   \n",
       "\n",
       "   clslike_female25older  clslike_male25older  clsdislike_female25under  \\\n",
       "0                      1                    1                         1   \n",
       "\n",
       "   clsdislike_male25under  clsdislike_female25older  clsdislike_male25older  \\\n",
       "0                       1                         1                       1   \n",
       "\n",
       "   clswinter_female25under  clswinter_male25under  clswinter_female25older  \\\n",
       "0                        1                    100                        1   \n",
       "\n",
       "   clswinter_male25older  clsspring_female25under  clsspring_male25under  ...  \\\n",
       "0                      1                        1                    100  ...   \n",
       "\n",
       "   martini  metallic  milky  mossy  musky  narcotic  nutty  oud  ozonic  \\\n",
       "0        0         0      0      0      1         0      0    0       0   \n",
       "\n",
       "   patchouli  plastic  powdery  rose  rum  salty  sand  savory  smoky  soapy  \\\n",
       "0          0        0        0     0    0      0     0       0      0      0   \n",
       "\n",
       "   soft spicy  sour  sweet  tennis ball terpenic tobacco tonka (coumarin)  \\\n",
       "0           0     0      0            0        0       0                0   \n",
       "\n",
       "  tropical  tuberose  unknown  vanilla  vinyl  violet  vodka  warm spicy  \\\n",
       "0        0         0        0        0      0       0      0           0   \n",
       "\n",
       "   watery  wet plaster  whiskey  white floral  white wine  wine  woody  \\\n",
       "0       0            0        0             0           0     0      1   \n",
       "\n",
       "   yellow floral  \n",
       "0              0  \n",
       "\n",
       "[1 rows x 155 columns]"
      ]
     },
     "metadata": {},
     "output_type": "display_data"
    },
    {
     "data": {
      "text/markdown": [
       "**`notes_ratings` shape:**"
      ],
      "text/plain": [
       "<IPython.core.display.Markdown object>"
      ]
     },
     "metadata": {},
     "output_type": "display_data"
    },
    {
     "data": {
      "text/plain": [
       "(41905, 155)"
      ]
     },
     "execution_count": 134,
     "metadata": {},
     "output_type": "execute_result"
    }
   ],
   "source": [
    "notes_ratings = pd.read_csv('../../capstone_scratch/global/datasets/notes_and_user_ratings.csv')\n",
    "ipd(notes_ratings.head(1))\n",
    "printmd('**`notes_ratings` shape:**')\n",
    "notes_ratings.shape"
   ]
  },
  {
   "cell_type": "markdown",
   "metadata": {},
   "source": [
    "## Check out the basic characteristics of the dataset "
   ]
  },
  {
   "cell_type": "code",
   "execution_count": 110,
   "metadata": {},
   "outputs": [
    {
     "data": {
      "text/markdown": [
       "**Column names**"
      ],
      "text/plain": [
       "<IPython.core.display.Markdown object>"
      ]
     },
     "metadata": {},
     "output_type": "display_data"
    },
    {
     "data": {
      "text/plain": [
       "array(['url', 'title', 'longevity_poor', 'longevity_weak',\n",
       "       'longevity_moderate', 'longevity_long', 'longevity_very_long',\n",
       "       'sillage_soft', 'sillage_moderate', 'sillage_heavy',\n",
       "       'sillage_enormous', 'perfume_id', 'clslove', 'clslike',\n",
       "       'clsdislike', 'clswinter', 'clsspring', 'clssummer', 'clsautumn',\n",
       "       'clscold', 'clshot', 'clsday', 'clsnight', 'people',\n",
       "       'clslove_female25under', 'clslove_male25under',\n",
       "       'clslove_female25older', 'clslove_male25older',\n",
       "       'clslike_female25under', 'clslike_male25under',\n",
       "       'clslike_female25older', 'clslike_male25older',\n",
       "       'clsdislike_female25under', 'clsdislike_male25under',\n",
       "       'clsdislike_female25older', 'clsdislike_male25older',\n",
       "       'clswinter_female25under', 'clswinter_male25under',\n",
       "       'clswinter_female25older', 'clswinter_male25older',\n",
       "       'clsspring_female25under', 'clsspring_male25under',\n",
       "       'clsspring_female25older', 'clsspring_male25older',\n",
       "       'clssummer_female25under', 'clssummer_male25under',\n",
       "       'clssummer_female25older', 'clssummer_male25older',\n",
       "       'clsautumn_female25under', 'clsautumn_male25under',\n",
       "       'clsautumn_female25older', 'clsautumn_male25older',\n",
       "       'clsday_female25under', 'clsday_male25under',\n",
       "       'clsday_female25older', 'clsday_male25older',\n",
       "       'clsnight_female25under', 'clsnight_male25under',\n",
       "       'clsnight_female25older', 'clsnight_male25older',\n",
       "       'average_rating_', 'date', 'Ihaveit', 'Ihadit', 'Iwantit', '0',\n",
       "       '1', '2', '3', 'Champagne', 'Pictures', 'Videos', 'alcohol',\n",
       "       'aldehydic', 'almond', 'amber', 'animalic', 'anis', 'aquatic',\n",
       "       'aromatic', 'asphault', 'bacon', 'balsamic', 'bbq', 'beeswax',\n",
       "       'bitter', 'cacao', 'camphor', 'caramel', 'caramela', 'cherry',\n",
       "       'cinnamon', 'citrus', 'clay', 'coca-cola', 'coconut', 'coffee',\n",
       "       'cognac', 'conifer', 'earthy', 'floral', 'foresty', 'fresh',\n",
       "       'fresh spicy', 'fruity', 'gourmand', 'green', 'herbal', 'honey',\n",
       "       'industrial glue', 'lactonic', 'leather', 'marine', 'martini',\n",
       "       'metallic', 'milky', 'mossy', 'musky', 'narcotic', 'nutty', 'oud',\n",
       "       'ozonic', 'patchouli', 'plastic', 'powdery', 'rose', 'rum',\n",
       "       'salty', 'sand', 'savory', 'smoky', 'soapy', 'soft spicy', 'sour',\n",
       "       'sweet', 'tennis ball', 'terpenic', 'tobacco', 'tonka (coumarin)',\n",
       "       'tropical', 'tuberose', 'unknown', 'vanilla', 'vinyl', 'violet',\n",
       "       'vodka', 'warm spicy', 'watery', 'wet plaster', 'whiskey',\n",
       "       'white floral', 'white wine', 'wine', 'woody', 'yellow floral'],\n",
       "      dtype=object)"
      ]
     },
     "execution_count": 110,
     "metadata": {},
     "output_type": "execute_result"
    }
   ],
   "source": [
    "printmd('**Column names**')\n",
    "cols_notes_ratings = np.array(notes_ratings.columns)\n",
    "cols_notes_ratings"
   ]
  },
  {
   "cell_type": "code",
   "execution_count": 111,
   "metadata": {},
   "outputs": [
    {
     "data": {
      "text/html": [
       "<div>\n",
       "<style scoped>\n",
       "    .dataframe tbody tr th:only-of-type {\n",
       "        vertical-align: middle;\n",
       "    }\n",
       "\n",
       "    .dataframe tbody tr th {\n",
       "        vertical-align: top;\n",
       "    }\n",
       "\n",
       "    .dataframe thead th {\n",
       "        text-align: right;\n",
       "    }\n",
       "</style>\n",
       "<table border=\"1\" class=\"dataframe\">\n",
       "  <thead>\n",
       "    <tr style=\"text-align: right;\">\n",
       "      <th></th>\n",
       "      <th>longevity_poor</th>\n",
       "      <th>longevity_weak</th>\n",
       "      <th>longevity_moderate</th>\n",
       "      <th>longevity_long</th>\n",
       "      <th>longevity_very_long</th>\n",
       "      <th>sillage_soft</th>\n",
       "      <th>sillage_moderate</th>\n",
       "      <th>sillage_heavy</th>\n",
       "      <th>sillage_enormous</th>\n",
       "      <th>perfume_id</th>\n",
       "      <th>clslove</th>\n",
       "      <th>clslike</th>\n",
       "      <th>clsdislike</th>\n",
       "      <th>clswinter</th>\n",
       "      <th>clsspring</th>\n",
       "      <th>clssummer</th>\n",
       "      <th>clsautumn</th>\n",
       "      <th>clscold</th>\n",
       "      <th>clshot</th>\n",
       "      <th>clsday</th>\n",
       "      <th>clsnight</th>\n",
       "      <th>people</th>\n",
       "      <th>clslove_female25under</th>\n",
       "      <th>clslove_male25under</th>\n",
       "      <th>clslove_female25older</th>\n",
       "      <th>clslove_male25older</th>\n",
       "      <th>clslike_female25under</th>\n",
       "      <th>clslike_male25under</th>\n",
       "      <th>clslike_female25older</th>\n",
       "      <th>clslike_male25older</th>\n",
       "      <th>clsdislike_female25under</th>\n",
       "      <th>clsdislike_male25under</th>\n",
       "      <th>clsdislike_female25older</th>\n",
       "      <th>clsdislike_male25older</th>\n",
       "      <th>clswinter_female25under</th>\n",
       "      <th>clswinter_male25under</th>\n",
       "      <th>clswinter_female25older</th>\n",
       "      <th>clswinter_male25older</th>\n",
       "      <th>clsspring_female25under</th>\n",
       "      <th>clsspring_male25under</th>\n",
       "      <th>clsspring_female25older</th>\n",
       "      <th>clsspring_male25older</th>\n",
       "      <th>...</th>\n",
       "      <th>martini</th>\n",
       "      <th>metallic</th>\n",
       "      <th>milky</th>\n",
       "      <th>mossy</th>\n",
       "      <th>musky</th>\n",
       "      <th>narcotic</th>\n",
       "      <th>nutty</th>\n",
       "      <th>oud</th>\n",
       "      <th>ozonic</th>\n",
       "      <th>patchouli</th>\n",
       "      <th>plastic</th>\n",
       "      <th>powdery</th>\n",
       "      <th>rose</th>\n",
       "      <th>rum</th>\n",
       "      <th>salty</th>\n",
       "      <th>sand</th>\n",
       "      <th>savory</th>\n",
       "      <th>smoky</th>\n",
       "      <th>soapy</th>\n",
       "      <th>soft spicy</th>\n",
       "      <th>sour</th>\n",
       "      <th>sweet</th>\n",
       "      <th>tennis ball</th>\n",
       "      <th>terpenic</th>\n",
       "      <th>tobacco</th>\n",
       "      <th>tonka (coumarin)</th>\n",
       "      <th>tropical</th>\n",
       "      <th>tuberose</th>\n",
       "      <th>unknown</th>\n",
       "      <th>vanilla</th>\n",
       "      <th>vinyl</th>\n",
       "      <th>violet</th>\n",
       "      <th>vodka</th>\n",
       "      <th>warm spicy</th>\n",
       "      <th>watery</th>\n",
       "      <th>wet plaster</th>\n",
       "      <th>whiskey</th>\n",
       "      <th>white floral</th>\n",
       "      <th>white wine</th>\n",
       "      <th>wine</th>\n",
       "      <th>woody</th>\n",
       "      <th>yellow floral</th>\n",
       "    </tr>\n",
       "  </thead>\n",
       "  <tbody>\n",
       "    <tr>\n",
       "      <th>count</th>\n",
       "      <td>41905.000000</td>\n",
       "      <td>41905.000000</td>\n",
       "      <td>41905.000000</td>\n",
       "      <td>41905.000000</td>\n",
       "      <td>41905.000000</td>\n",
       "      <td>41905.000000</td>\n",
       "      <td>41905.000000</td>\n",
       "      <td>41905.000000</td>\n",
       "      <td>41905.000000</td>\n",
       "      <td>41905.000000</td>\n",
       "      <td>41905.000000</td>\n",
       "      <td>41905.000000</td>\n",
       "      <td>41905.000000</td>\n",
       "      <td>41905.000000</td>\n",
       "      <td>41905.000000</td>\n",
       "      <td>41905.000000</td>\n",
       "      <td>41905.000000</td>\n",
       "      <td>41905.000000</td>\n",
       "      <td>41905.000000</td>\n",
       "      <td>41905.000000</td>\n",
       "      <td>41905.000000</td>\n",
       "      <td>41905.000000</td>\n",
       "      <td>41905.000000</td>\n",
       "      <td>41905.000000</td>\n",
       "      <td>41905.000000</td>\n",
       "      <td>41905.000000</td>\n",
       "      <td>41905.000000</td>\n",
       "      <td>41905.000000</td>\n",
       "      <td>41905.000000</td>\n",
       "      <td>41905.000000</td>\n",
       "      <td>41905.000000</td>\n",
       "      <td>41905.000000</td>\n",
       "      <td>41905.000000</td>\n",
       "      <td>41905.000000</td>\n",
       "      <td>41905.000000</td>\n",
       "      <td>41905.000000</td>\n",
       "      <td>41905.000000</td>\n",
       "      <td>41905.000000</td>\n",
       "      <td>41905.000000</td>\n",
       "      <td>41905.000000</td>\n",
       "      <td>41905.000000</td>\n",
       "      <td>41905.000000</td>\n",
       "      <td>...</td>\n",
       "      <td>41905.000000</td>\n",
       "      <td>41905.000000</td>\n",
       "      <td>41905.000000</td>\n",
       "      <td>41905.000000</td>\n",
       "      <td>41905.000000</td>\n",
       "      <td>41905.000000</td>\n",
       "      <td>41905.000000</td>\n",
       "      <td>41905.000000</td>\n",
       "      <td>41905.000000</td>\n",
       "      <td>41905.000000</td>\n",
       "      <td>41905.000000</td>\n",
       "      <td>41905.000000</td>\n",
       "      <td>41905.000000</td>\n",
       "      <td>41905.000000</td>\n",
       "      <td>41905.000000</td>\n",
       "      <td>41905.000000</td>\n",
       "      <td>41905.000000</td>\n",
       "      <td>41905.000000</td>\n",
       "      <td>41905.000000</td>\n",
       "      <td>41905.000000</td>\n",
       "      <td>41905.000000</td>\n",
       "      <td>41905.000000</td>\n",
       "      <td>41905.000000</td>\n",
       "      <td>41905.000000</td>\n",
       "      <td>41905.000000</td>\n",
       "      <td>41905.000000</td>\n",
       "      <td>41905.000000</td>\n",
       "      <td>41905.000000</td>\n",
       "      <td>41905.000000</td>\n",
       "      <td>41905.000000</td>\n",
       "      <td>41905.000000</td>\n",
       "      <td>41905.000000</td>\n",
       "      <td>41905.000000</td>\n",
       "      <td>41905.000000</td>\n",
       "      <td>41905.000000</td>\n",
       "      <td>41905.000000</td>\n",
       "      <td>41905.000000</td>\n",
       "      <td>41905.000000</td>\n",
       "      <td>41905.000000</td>\n",
       "      <td>41905.000000</td>\n",
       "      <td>41905.000000</td>\n",
       "      <td>41905.000000</td>\n",
       "    </tr>\n",
       "    <tr>\n",
       "      <th>mean</th>\n",
       "      <td>2.295454</td>\n",
       "      <td>2.998115</td>\n",
       "      <td>8.138695</td>\n",
       "      <td>7.910369</td>\n",
       "      <td>4.318983</td>\n",
       "      <td>5.940795</td>\n",
       "      <td>13.019115</td>\n",
       "      <td>8.180766</td>\n",
       "      <td>5.759456</td>\n",
       "      <td>25734.681375</td>\n",
       "      <td>65.719938</td>\n",
       "      <td>70.617015</td>\n",
       "      <td>29.888939</td>\n",
       "      <td>26.964968</td>\n",
       "      <td>38.376900</td>\n",
       "      <td>31.323303</td>\n",
       "      <td>35.259372</td>\n",
       "      <td>0.808997</td>\n",
       "      <td>0.809498</td>\n",
       "      <td>52.454027</td>\n",
       "      <td>33.207899</td>\n",
       "      <td>105.554445</td>\n",
       "      <td>7.928600</td>\n",
       "      <td>4.930939</td>\n",
       "      <td>33.867772</td>\n",
       "      <td>22.488677</td>\n",
       "      <td>9.522658</td>\n",
       "      <td>5.009784</td>\n",
       "      <td>39.583057</td>\n",
       "      <td>18.418351</td>\n",
       "      <td>4.736857</td>\n",
       "      <td>3.016275</td>\n",
       "      <td>16.117743</td>\n",
       "      <td>9.828732</td>\n",
       "      <td>2.795943</td>\n",
       "      <td>6.900561</td>\n",
       "      <td>10.816418</td>\n",
       "      <td>13.329436</td>\n",
       "      <td>4.430140</td>\n",
       "      <td>7.404940</td>\n",
       "      <td>16.225343</td>\n",
       "      <td>17.118554</td>\n",
       "      <td>...</td>\n",
       "      <td>0.000024</td>\n",
       "      <td>0.001742</td>\n",
       "      <td>0.010404</td>\n",
       "      <td>0.000573</td>\n",
       "      <td>0.193318</td>\n",
       "      <td>0.002983</td>\n",
       "      <td>0.010691</td>\n",
       "      <td>0.040091</td>\n",
       "      <td>0.034316</td>\n",
       "      <td>0.072283</td>\n",
       "      <td>0.000048</td>\n",
       "      <td>0.226465</td>\n",
       "      <td>0.166543</td>\n",
       "      <td>0.004319</td>\n",
       "      <td>0.007875</td>\n",
       "      <td>0.001217</td>\n",
       "      <td>0.002339</td>\n",
       "      <td>0.045484</td>\n",
       "      <td>0.004653</td>\n",
       "      <td>0.040377</td>\n",
       "      <td>0.016800</td>\n",
       "      <td>0.315475</td>\n",
       "      <td>0.000024</td>\n",
       "      <td>0.001837</td>\n",
       "      <td>0.017898</td>\n",
       "      <td>0.003866</td>\n",
       "      <td>0.026775</td>\n",
       "      <td>0.025081</td>\n",
       "      <td>0.012719</td>\n",
       "      <td>0.149720</td>\n",
       "      <td>0.000358</td>\n",
       "      <td>0.000549</td>\n",
       "      <td>0.000692</td>\n",
       "      <td>0.223816</td>\n",
       "      <td>0.001527</td>\n",
       "      <td>0.000024</td>\n",
       "      <td>0.002792</td>\n",
       "      <td>0.250352</td>\n",
       "      <td>0.000191</td>\n",
       "      <td>0.001169</td>\n",
       "      <td>0.546856</td>\n",
       "      <td>0.038540</td>\n",
       "    </tr>\n",
       "    <tr>\n",
       "      <th>std</th>\n",
       "      <td>7.272181</td>\n",
       "      <td>9.655673</td>\n",
       "      <td>30.716214</td>\n",
       "      <td>37.637801</td>\n",
       "      <td>24.921431</td>\n",
       "      <td>18.990463</td>\n",
       "      <td>47.289679</td>\n",
       "      <td>33.912306</td>\n",
       "      <td>21.259010</td>\n",
       "      <td>16398.910355</td>\n",
       "      <td>36.070871</td>\n",
       "      <td>35.461496</td>\n",
       "      <td>29.548864</td>\n",
       "      <td>28.507364</td>\n",
       "      <td>30.096368</td>\n",
       "      <td>29.822052</td>\n",
       "      <td>29.539934</td>\n",
       "      <td>5.048300</td>\n",
       "      <td>4.378074</td>\n",
       "      <td>31.839277</td>\n",
       "      <td>29.858856</td>\n",
       "      <td>398.416975</td>\n",
       "      <td>15.007792</td>\n",
       "      <td>10.767726</td>\n",
       "      <td>32.956296</td>\n",
       "      <td>30.631818</td>\n",
       "      <td>15.342282</td>\n",
       "      <td>11.075876</td>\n",
       "      <td>33.963985</td>\n",
       "      <td>26.424864</td>\n",
       "      <td>10.564349</td>\n",
       "      <td>8.211060</td>\n",
       "      <td>22.004788</td>\n",
       "      <td>18.574904</td>\n",
       "      <td>6.849236</td>\n",
       "      <td>18.894363</td>\n",
       "      <td>16.944519</td>\n",
       "      <td>22.929124</td>\n",
       "      <td>9.572257</td>\n",
       "      <td>19.037055</td>\n",
       "      <td>20.898556</td>\n",
       "      <td>25.269095</td>\n",
       "      <td>...</td>\n",
       "      <td>0.004885</td>\n",
       "      <td>0.041702</td>\n",
       "      <td>0.101472</td>\n",
       "      <td>0.023925</td>\n",
       "      <td>0.394905</td>\n",
       "      <td>0.054535</td>\n",
       "      <td>0.102844</td>\n",
       "      <td>0.196174</td>\n",
       "      <td>0.182041</td>\n",
       "      <td>0.258958</td>\n",
       "      <td>0.006908</td>\n",
       "      <td>0.418548</td>\n",
       "      <td>0.372572</td>\n",
       "      <td>0.065580</td>\n",
       "      <td>0.088392</td>\n",
       "      <td>0.034865</td>\n",
       "      <td>0.048303</td>\n",
       "      <td>0.208365</td>\n",
       "      <td>0.068058</td>\n",
       "      <td>0.196844</td>\n",
       "      <td>0.128523</td>\n",
       "      <td>0.464711</td>\n",
       "      <td>0.004885</td>\n",
       "      <td>0.042827</td>\n",
       "      <td>0.132581</td>\n",
       "      <td>0.062057</td>\n",
       "      <td>0.161427</td>\n",
       "      <td>0.156372</td>\n",
       "      <td>0.112061</td>\n",
       "      <td>0.356801</td>\n",
       "      <td>0.018916</td>\n",
       "      <td>0.023422</td>\n",
       "      <td>0.026298</td>\n",
       "      <td>0.416805</td>\n",
       "      <td>0.039051</td>\n",
       "      <td>0.004885</td>\n",
       "      <td>0.052766</td>\n",
       "      <td>0.433221</td>\n",
       "      <td>0.013816</td>\n",
       "      <td>0.034176</td>\n",
       "      <td>0.497806</td>\n",
       "      <td>0.192497</td>\n",
       "    </tr>\n",
       "    <tr>\n",
       "      <th>min</th>\n",
       "      <td>-1.000000</td>\n",
       "      <td>-2.000000</td>\n",
       "      <td>0.000000</td>\n",
       "      <td>0.000000</td>\n",
       "      <td>0.000000</td>\n",
       "      <td>-1.000000</td>\n",
       "      <td>0.000000</td>\n",
       "      <td>-2.000000</td>\n",
       "      <td>0.000000</td>\n",
       "      <td>1.000000</td>\n",
       "      <td>1.000000</td>\n",
       "      <td>1.000000</td>\n",
       "      <td>1.000000</td>\n",
       "      <td>1.000000</td>\n",
       "      <td>1.000000</td>\n",
       "      <td>1.000000</td>\n",
       "      <td>1.000000</td>\n",
       "      <td>0.000000</td>\n",
       "      <td>0.000000</td>\n",
       "      <td>1.000000</td>\n",
       "      <td>1.000000</td>\n",
       "      <td>1.000000</td>\n",
       "      <td>1.000000</td>\n",
       "      <td>1.000000</td>\n",
       "      <td>1.000000</td>\n",
       "      <td>1.000000</td>\n",
       "      <td>1.000000</td>\n",
       "      <td>1.000000</td>\n",
       "      <td>1.000000</td>\n",
       "      <td>1.000000</td>\n",
       "      <td>1.000000</td>\n",
       "      <td>1.000000</td>\n",
       "      <td>1.000000</td>\n",
       "      <td>1.000000</td>\n",
       "      <td>1.000000</td>\n",
       "      <td>1.000000</td>\n",
       "      <td>1.000000</td>\n",
       "      <td>1.000000</td>\n",
       "      <td>1.000000</td>\n",
       "      <td>1.000000</td>\n",
       "      <td>1.000000</td>\n",
       "      <td>1.000000</td>\n",
       "      <td>...</td>\n",
       "      <td>0.000000</td>\n",
       "      <td>0.000000</td>\n",
       "      <td>0.000000</td>\n",
       "      <td>0.000000</td>\n",
       "      <td>0.000000</td>\n",
       "      <td>0.000000</td>\n",
       "      <td>0.000000</td>\n",
       "      <td>0.000000</td>\n",
       "      <td>0.000000</td>\n",
       "      <td>0.000000</td>\n",
       "      <td>0.000000</td>\n",
       "      <td>0.000000</td>\n",
       "      <td>0.000000</td>\n",
       "      <td>0.000000</td>\n",
       "      <td>0.000000</td>\n",
       "      <td>0.000000</td>\n",
       "      <td>0.000000</td>\n",
       "      <td>0.000000</td>\n",
       "      <td>0.000000</td>\n",
       "      <td>0.000000</td>\n",
       "      <td>0.000000</td>\n",
       "      <td>0.000000</td>\n",
       "      <td>0.000000</td>\n",
       "      <td>0.000000</td>\n",
       "      <td>0.000000</td>\n",
       "      <td>0.000000</td>\n",
       "      <td>0.000000</td>\n",
       "      <td>0.000000</td>\n",
       "      <td>0.000000</td>\n",
       "      <td>0.000000</td>\n",
       "      <td>0.000000</td>\n",
       "      <td>0.000000</td>\n",
       "      <td>0.000000</td>\n",
       "      <td>0.000000</td>\n",
       "      <td>0.000000</td>\n",
       "      <td>0.000000</td>\n",
       "      <td>0.000000</td>\n",
       "      <td>0.000000</td>\n",
       "      <td>0.000000</td>\n",
       "      <td>0.000000</td>\n",
       "      <td>0.000000</td>\n",
       "      <td>0.000000</td>\n",
       "    </tr>\n",
       "    <tr>\n",
       "      <th>25%</th>\n",
       "      <td>0.000000</td>\n",
       "      <td>0.000000</td>\n",
       "      <td>0.000000</td>\n",
       "      <td>0.000000</td>\n",
       "      <td>0.000000</td>\n",
       "      <td>0.000000</td>\n",
       "      <td>1.000000</td>\n",
       "      <td>0.000000</td>\n",
       "      <td>0.000000</td>\n",
       "      <td>11268.000000</td>\n",
       "      <td>38.000000</td>\n",
       "      <td>50.000000</td>\n",
       "      <td>1.000000</td>\n",
       "      <td>1.000000</td>\n",
       "      <td>13.000000</td>\n",
       "      <td>1.000000</td>\n",
       "      <td>10.000000</td>\n",
       "      <td>0.000000</td>\n",
       "      <td>0.000000</td>\n",
       "      <td>30.000000</td>\n",
       "      <td>8.000000</td>\n",
       "      <td>5.000000</td>\n",
       "      <td>1.000000</td>\n",
       "      <td>1.000000</td>\n",
       "      <td>1.000000</td>\n",
       "      <td>1.000000</td>\n",
       "      <td>1.000000</td>\n",
       "      <td>1.000000</td>\n",
       "      <td>1.000000</td>\n",
       "      <td>1.000000</td>\n",
       "      <td>1.000000</td>\n",
       "      <td>1.000000</td>\n",
       "      <td>1.000000</td>\n",
       "      <td>1.000000</td>\n",
       "      <td>1.000000</td>\n",
       "      <td>1.000000</td>\n",
       "      <td>1.000000</td>\n",
       "      <td>1.000000</td>\n",
       "      <td>1.000000</td>\n",
       "      <td>1.000000</td>\n",
       "      <td>1.000000</td>\n",
       "      <td>1.000000</td>\n",
       "      <td>...</td>\n",
       "      <td>0.000000</td>\n",
       "      <td>0.000000</td>\n",
       "      <td>0.000000</td>\n",
       "      <td>0.000000</td>\n",
       "      <td>0.000000</td>\n",
       "      <td>0.000000</td>\n",
       "      <td>0.000000</td>\n",
       "      <td>0.000000</td>\n",
       "      <td>0.000000</td>\n",
       "      <td>0.000000</td>\n",
       "      <td>0.000000</td>\n",
       "      <td>0.000000</td>\n",
       "      <td>0.000000</td>\n",
       "      <td>0.000000</td>\n",
       "      <td>0.000000</td>\n",
       "      <td>0.000000</td>\n",
       "      <td>0.000000</td>\n",
       "      <td>0.000000</td>\n",
       "      <td>0.000000</td>\n",
       "      <td>0.000000</td>\n",
       "      <td>0.000000</td>\n",
       "      <td>0.000000</td>\n",
       "      <td>0.000000</td>\n",
       "      <td>0.000000</td>\n",
       "      <td>0.000000</td>\n",
       "      <td>0.000000</td>\n",
       "      <td>0.000000</td>\n",
       "      <td>0.000000</td>\n",
       "      <td>0.000000</td>\n",
       "      <td>0.000000</td>\n",
       "      <td>0.000000</td>\n",
       "      <td>0.000000</td>\n",
       "      <td>0.000000</td>\n",
       "      <td>0.000000</td>\n",
       "      <td>0.000000</td>\n",
       "      <td>0.000000</td>\n",
       "      <td>0.000000</td>\n",
       "      <td>0.000000</td>\n",
       "      <td>0.000000</td>\n",
       "      <td>0.000000</td>\n",
       "      <td>0.000000</td>\n",
       "      <td>0.000000</td>\n",
       "    </tr>\n",
       "    <tr>\n",
       "      <th>50%</th>\n",
       "      <td>0.000000</td>\n",
       "      <td>1.000000</td>\n",
       "      <td>1.000000</td>\n",
       "      <td>1.000000</td>\n",
       "      <td>1.000000</td>\n",
       "      <td>1.000000</td>\n",
       "      <td>2.000000</td>\n",
       "      <td>1.000000</td>\n",
       "      <td>1.000000</td>\n",
       "      <td>24088.000000</td>\n",
       "      <td>75.000000</td>\n",
       "      <td>90.000000</td>\n",
       "      <td>24.000000</td>\n",
       "      <td>18.000000</td>\n",
       "      <td>34.000000</td>\n",
       "      <td>25.000000</td>\n",
       "      <td>32.000000</td>\n",
       "      <td>0.000000</td>\n",
       "      <td>0.000000</td>\n",
       "      <td>50.000000</td>\n",
       "      <td>26.000000</td>\n",
       "      <td>15.000000</td>\n",
       "      <td>1.000000</td>\n",
       "      <td>1.000000</td>\n",
       "      <td>28.000000</td>\n",
       "      <td>6.000000</td>\n",
       "      <td>1.000000</td>\n",
       "      <td>1.000000</td>\n",
       "      <td>37.000000</td>\n",
       "      <td>3.000000</td>\n",
       "      <td>1.000000</td>\n",
       "      <td>1.000000</td>\n",
       "      <td>6.000000</td>\n",
       "      <td>1.000000</td>\n",
       "      <td>1.000000</td>\n",
       "      <td>1.000000</td>\n",
       "      <td>1.000000</td>\n",
       "      <td>1.000000</td>\n",
       "      <td>1.000000</td>\n",
       "      <td>1.000000</td>\n",
       "      <td>7.000000</td>\n",
       "      <td>3.000000</td>\n",
       "      <td>...</td>\n",
       "      <td>0.000000</td>\n",
       "      <td>0.000000</td>\n",
       "      <td>0.000000</td>\n",
       "      <td>0.000000</td>\n",
       "      <td>0.000000</td>\n",
       "      <td>0.000000</td>\n",
       "      <td>0.000000</td>\n",
       "      <td>0.000000</td>\n",
       "      <td>0.000000</td>\n",
       "      <td>0.000000</td>\n",
       "      <td>0.000000</td>\n",
       "      <td>0.000000</td>\n",
       "      <td>0.000000</td>\n",
       "      <td>0.000000</td>\n",
       "      <td>0.000000</td>\n",
       "      <td>0.000000</td>\n",
       "      <td>0.000000</td>\n",
       "      <td>0.000000</td>\n",
       "      <td>0.000000</td>\n",
       "      <td>0.000000</td>\n",
       "      <td>0.000000</td>\n",
       "      <td>0.000000</td>\n",
       "      <td>0.000000</td>\n",
       "      <td>0.000000</td>\n",
       "      <td>0.000000</td>\n",
       "      <td>0.000000</td>\n",
       "      <td>0.000000</td>\n",
       "      <td>0.000000</td>\n",
       "      <td>0.000000</td>\n",
       "      <td>0.000000</td>\n",
       "      <td>0.000000</td>\n",
       "      <td>0.000000</td>\n",
       "      <td>0.000000</td>\n",
       "      <td>0.000000</td>\n",
       "      <td>0.000000</td>\n",
       "      <td>0.000000</td>\n",
       "      <td>0.000000</td>\n",
       "      <td>0.000000</td>\n",
       "      <td>0.000000</td>\n",
       "      <td>0.000000</td>\n",
       "      <td>1.000000</td>\n",
       "      <td>0.000000</td>\n",
       "    </tr>\n",
       "    <tr>\n",
       "      <th>75%</th>\n",
       "      <td>2.000000</td>\n",
       "      <td>2.000000</td>\n",
       "      <td>5.000000</td>\n",
       "      <td>4.000000</td>\n",
       "      <td>2.000000</td>\n",
       "      <td>4.000000</td>\n",
       "      <td>8.000000</td>\n",
       "      <td>5.000000</td>\n",
       "      <td>4.000000</td>\n",
       "      <td>40016.000000</td>\n",
       "      <td>100.000000</td>\n",
       "      <td>100.000000</td>\n",
       "      <td>44.000000</td>\n",
       "      <td>43.000000</td>\n",
       "      <td>55.000000</td>\n",
       "      <td>50.000000</td>\n",
       "      <td>50.000000</td>\n",
       "      <td>0.000000</td>\n",
       "      <td>0.000000</td>\n",
       "      <td>75.000000</td>\n",
       "      <td>50.000000</td>\n",
       "      <td>58.000000</td>\n",
       "      <td>10.000000</td>\n",
       "      <td>4.000000</td>\n",
       "      <td>55.000000</td>\n",
       "      <td>37.000000</td>\n",
       "      <td>14.000000</td>\n",
       "      <td>3.000000</td>\n",
       "      <td>66.000000</td>\n",
       "      <td>28.000000</td>\n",
       "      <td>4.000000</td>\n",
       "      <td>1.000000</td>\n",
       "      <td>25.000000</td>\n",
       "      <td>11.000000</td>\n",
       "      <td>1.000000</td>\n",
       "      <td>3.000000</td>\n",
       "      <td>15.000000</td>\n",
       "      <td>16.000000</td>\n",
       "      <td>2.000000</td>\n",
       "      <td>5.000000</td>\n",
       "      <td>25.000000</td>\n",
       "      <td>25.000000</td>\n",
       "      <td>...</td>\n",
       "      <td>0.000000</td>\n",
       "      <td>0.000000</td>\n",
       "      <td>0.000000</td>\n",
       "      <td>0.000000</td>\n",
       "      <td>0.000000</td>\n",
       "      <td>0.000000</td>\n",
       "      <td>0.000000</td>\n",
       "      <td>0.000000</td>\n",
       "      <td>0.000000</td>\n",
       "      <td>0.000000</td>\n",
       "      <td>0.000000</td>\n",
       "      <td>0.000000</td>\n",
       "      <td>0.000000</td>\n",
       "      <td>0.000000</td>\n",
       "      <td>0.000000</td>\n",
       "      <td>0.000000</td>\n",
       "      <td>0.000000</td>\n",
       "      <td>0.000000</td>\n",
       "      <td>0.000000</td>\n",
       "      <td>0.000000</td>\n",
       "      <td>0.000000</td>\n",
       "      <td>1.000000</td>\n",
       "      <td>0.000000</td>\n",
       "      <td>0.000000</td>\n",
       "      <td>0.000000</td>\n",
       "      <td>0.000000</td>\n",
       "      <td>0.000000</td>\n",
       "      <td>0.000000</td>\n",
       "      <td>0.000000</td>\n",
       "      <td>0.000000</td>\n",
       "      <td>0.000000</td>\n",
       "      <td>0.000000</td>\n",
       "      <td>0.000000</td>\n",
       "      <td>0.000000</td>\n",
       "      <td>0.000000</td>\n",
       "      <td>0.000000</td>\n",
       "      <td>0.000000</td>\n",
       "      <td>1.000000</td>\n",
       "      <td>0.000000</td>\n",
       "      <td>0.000000</td>\n",
       "      <td>1.000000</td>\n",
       "      <td>0.000000</td>\n",
       "    </tr>\n",
       "    <tr>\n",
       "      <th>max</th>\n",
       "      <td>427.000000</td>\n",
       "      <td>364.000000</td>\n",
       "      <td>1124.000000</td>\n",
       "      <td>1421.000000</td>\n",
       "      <td>1258.000000</td>\n",
       "      <td>906.000000</td>\n",
       "      <td>1815.000000</td>\n",
       "      <td>1185.000000</td>\n",
       "      <td>1189.000000</td>\n",
       "      <td>56831.000000</td>\n",
       "      <td>100.000000</td>\n",
       "      <td>100.000000</td>\n",
       "      <td>100.000000</td>\n",
       "      <td>100.000000</td>\n",
       "      <td>100.000000</td>\n",
       "      <td>100.000000</td>\n",
       "      <td>100.000000</td>\n",
       "      <td>202.000000</td>\n",
       "      <td>208.000000</td>\n",
       "      <td>100.000000</td>\n",
       "      <td>100.000000</td>\n",
       "      <td>11188.000000</td>\n",
       "      <td>750.000000</td>\n",
       "      <td>375.000000</td>\n",
       "      <td>1275.000000</td>\n",
       "      <td>950.000000</td>\n",
       "      <td>200.000000</td>\n",
       "      <td>100.000000</td>\n",
       "      <td>300.000000</td>\n",
       "      <td>200.000000</td>\n",
       "      <td>200.000000</td>\n",
       "      <td>133.000000</td>\n",
       "      <td>400.000000</td>\n",
       "      <td>300.000000</td>\n",
       "      <td>100.000000</td>\n",
       "      <td>400.000000</td>\n",
       "      <td>125.000000</td>\n",
       "      <td>500.000000</td>\n",
       "      <td>100.000000</td>\n",
       "      <td>400.000000</td>\n",
       "      <td>200.000000</td>\n",
       "      <td>300.000000</td>\n",
       "      <td>...</td>\n",
       "      <td>1.000000</td>\n",
       "      <td>1.000000</td>\n",
       "      <td>1.000000</td>\n",
       "      <td>1.000000</td>\n",
       "      <td>1.000000</td>\n",
       "      <td>1.000000</td>\n",
       "      <td>1.000000</td>\n",
       "      <td>1.000000</td>\n",
       "      <td>1.000000</td>\n",
       "      <td>1.000000</td>\n",
       "      <td>1.000000</td>\n",
       "      <td>1.000000</td>\n",
       "      <td>1.000000</td>\n",
       "      <td>1.000000</td>\n",
       "      <td>1.000000</td>\n",
       "      <td>1.000000</td>\n",
       "      <td>1.000000</td>\n",
       "      <td>1.000000</td>\n",
       "      <td>1.000000</td>\n",
       "      <td>1.000000</td>\n",
       "      <td>1.000000</td>\n",
       "      <td>1.000000</td>\n",
       "      <td>1.000000</td>\n",
       "      <td>1.000000</td>\n",
       "      <td>1.000000</td>\n",
       "      <td>1.000000</td>\n",
       "      <td>1.000000</td>\n",
       "      <td>1.000000</td>\n",
       "      <td>1.000000</td>\n",
       "      <td>1.000000</td>\n",
       "      <td>1.000000</td>\n",
       "      <td>1.000000</td>\n",
       "      <td>1.000000</td>\n",
       "      <td>1.000000</td>\n",
       "      <td>1.000000</td>\n",
       "      <td>1.000000</td>\n",
       "      <td>1.000000</td>\n",
       "      <td>1.000000</td>\n",
       "      <td>1.000000</td>\n",
       "      <td>1.000000</td>\n",
       "      <td>1.000000</td>\n",
       "      <td>1.000000</td>\n",
       "    </tr>\n",
       "  </tbody>\n",
       "</table>\n",
       "<p>8 rows × 149 columns</p>\n",
       "</div>"
      ],
      "text/plain": [
       "       longevity_poor  longevity_weak  longevity_moderate  longevity_long  \\\n",
       "count    41905.000000    41905.000000        41905.000000    41905.000000   \n",
       "mean         2.295454        2.998115            8.138695        7.910369   \n",
       "std          7.272181        9.655673           30.716214       37.637801   \n",
       "min         -1.000000       -2.000000            0.000000        0.000000   \n",
       "25%          0.000000        0.000000            0.000000        0.000000   \n",
       "50%          0.000000        1.000000            1.000000        1.000000   \n",
       "75%          2.000000        2.000000            5.000000        4.000000   \n",
       "max        427.000000      364.000000         1124.000000     1421.000000   \n",
       "\n",
       "       longevity_very_long  sillage_soft  sillage_moderate  sillage_heavy  \\\n",
       "count         41905.000000  41905.000000      41905.000000   41905.000000   \n",
       "mean              4.318983      5.940795         13.019115       8.180766   \n",
       "std              24.921431     18.990463         47.289679      33.912306   \n",
       "min               0.000000     -1.000000          0.000000      -2.000000   \n",
       "25%               0.000000      0.000000          1.000000       0.000000   \n",
       "50%               1.000000      1.000000          2.000000       1.000000   \n",
       "75%               2.000000      4.000000          8.000000       5.000000   \n",
       "max            1258.000000    906.000000       1815.000000    1185.000000   \n",
       "\n",
       "       sillage_enormous    perfume_id       clslove       clslike  \\\n",
       "count      41905.000000  41905.000000  41905.000000  41905.000000   \n",
       "mean           5.759456  25734.681375     65.719938     70.617015   \n",
       "std           21.259010  16398.910355     36.070871     35.461496   \n",
       "min            0.000000      1.000000      1.000000      1.000000   \n",
       "25%            0.000000  11268.000000     38.000000     50.000000   \n",
       "50%            1.000000  24088.000000     75.000000     90.000000   \n",
       "75%            4.000000  40016.000000    100.000000    100.000000   \n",
       "max         1189.000000  56831.000000    100.000000    100.000000   \n",
       "\n",
       "         clsdislike     clswinter     clsspring     clssummer     clsautumn  \\\n",
       "count  41905.000000  41905.000000  41905.000000  41905.000000  41905.000000   \n",
       "mean      29.888939     26.964968     38.376900     31.323303     35.259372   \n",
       "std       29.548864     28.507364     30.096368     29.822052     29.539934   \n",
       "min        1.000000      1.000000      1.000000      1.000000      1.000000   \n",
       "25%        1.000000      1.000000     13.000000      1.000000     10.000000   \n",
       "50%       24.000000     18.000000     34.000000     25.000000     32.000000   \n",
       "75%       44.000000     43.000000     55.000000     50.000000     50.000000   \n",
       "max      100.000000    100.000000    100.000000    100.000000    100.000000   \n",
       "\n",
       "            clscold        clshot        clsday      clsnight        people  \\\n",
       "count  41905.000000  41905.000000  41905.000000  41905.000000  41905.000000   \n",
       "mean       0.808997      0.809498     52.454027     33.207899    105.554445   \n",
       "std        5.048300      4.378074     31.839277     29.858856    398.416975   \n",
       "min        0.000000      0.000000      1.000000      1.000000      1.000000   \n",
       "25%        0.000000      0.000000     30.000000      8.000000      5.000000   \n",
       "50%        0.000000      0.000000     50.000000     26.000000     15.000000   \n",
       "75%        0.000000      0.000000     75.000000     50.000000     58.000000   \n",
       "max      202.000000    208.000000    100.000000    100.000000  11188.000000   \n",
       "\n",
       "       clslove_female25under  clslove_male25under  clslove_female25older  \\\n",
       "count           41905.000000         41905.000000           41905.000000   \n",
       "mean                7.928600             4.930939              33.867772   \n",
       "std                15.007792            10.767726              32.956296   \n",
       "min                 1.000000             1.000000               1.000000   \n",
       "25%                 1.000000             1.000000               1.000000   \n",
       "50%                 1.000000             1.000000              28.000000   \n",
       "75%                10.000000             4.000000              55.000000   \n",
       "max               750.000000           375.000000            1275.000000   \n",
       "\n",
       "       clslove_male25older  clslike_female25under  clslike_male25under  \\\n",
       "count         41905.000000           41905.000000         41905.000000   \n",
       "mean             22.488677               9.522658             5.009784   \n",
       "std              30.631818              15.342282            11.075876   \n",
       "min               1.000000               1.000000             1.000000   \n",
       "25%               1.000000               1.000000             1.000000   \n",
       "50%               6.000000               1.000000             1.000000   \n",
       "75%              37.000000              14.000000             3.000000   \n",
       "max             950.000000             200.000000           100.000000   \n",
       "\n",
       "       clslike_female25older  clslike_male25older  clsdislike_female25under  \\\n",
       "count           41905.000000         41905.000000              41905.000000   \n",
       "mean               39.583057            18.418351                  4.736857   \n",
       "std                33.963985            26.424864                 10.564349   \n",
       "min                 1.000000             1.000000                  1.000000   \n",
       "25%                 1.000000             1.000000                  1.000000   \n",
       "50%                37.000000             3.000000                  1.000000   \n",
       "75%                66.000000            28.000000                  4.000000   \n",
       "max               300.000000           200.000000                200.000000   \n",
       "\n",
       "       clsdislike_male25under  clsdislike_female25older  \\\n",
       "count            41905.000000              41905.000000   \n",
       "mean                 3.016275                 16.117743   \n",
       "std                  8.211060                 22.004788   \n",
       "min                  1.000000                  1.000000   \n",
       "25%                  1.000000                  1.000000   \n",
       "50%                  1.000000                  6.000000   \n",
       "75%                  1.000000                 25.000000   \n",
       "max                133.000000                400.000000   \n",
       "\n",
       "       clsdislike_male25older  clswinter_female25under  clswinter_male25under  \\\n",
       "count            41905.000000             41905.000000           41905.000000   \n",
       "mean                 9.828732                 2.795943               6.900561   \n",
       "std                 18.574904                 6.849236              18.894363   \n",
       "min                  1.000000                 1.000000               1.000000   \n",
       "25%                  1.000000                 1.000000               1.000000   \n",
       "50%                  1.000000                 1.000000               1.000000   \n",
       "75%                 11.000000                 1.000000               3.000000   \n",
       "max                300.000000               100.000000             400.000000   \n",
       "\n",
       "       clswinter_female25older  clswinter_male25older  \\\n",
       "count             41905.000000           41905.000000   \n",
       "mean                 10.816418              13.329436   \n",
       "std                  16.944519              22.929124   \n",
       "min                   1.000000               1.000000   \n",
       "25%                   1.000000               1.000000   \n",
       "50%                   1.000000               1.000000   \n",
       "75%                  15.000000              16.000000   \n",
       "max                 125.000000             500.000000   \n",
       "\n",
       "       clsspring_female25under  clsspring_male25under  \\\n",
       "count             41905.000000           41905.000000   \n",
       "mean                  4.430140               7.404940   \n",
       "std                   9.572257              19.037055   \n",
       "min                   1.000000               1.000000   \n",
       "25%                   1.000000               1.000000   \n",
       "50%                   1.000000               1.000000   \n",
       "75%                   2.000000               5.000000   \n",
       "max                 100.000000             400.000000   \n",
       "\n",
       "       clsspring_female25older  clsspring_male25older  ...       martini  \\\n",
       "count             41905.000000           41905.000000  ...  41905.000000   \n",
       "mean                 16.225343              17.118554  ...      0.000024   \n",
       "std                  20.898556              25.269095  ...      0.004885   \n",
       "min                   1.000000               1.000000  ...      0.000000   \n",
       "25%                   1.000000               1.000000  ...      0.000000   \n",
       "50%                   7.000000               3.000000  ...      0.000000   \n",
       "75%                  25.000000              25.000000  ...      0.000000   \n",
       "max                 200.000000             300.000000  ...      1.000000   \n",
       "\n",
       "           metallic         milky         mossy         musky      narcotic  \\\n",
       "count  41905.000000  41905.000000  41905.000000  41905.000000  41905.000000   \n",
       "mean       0.001742      0.010404      0.000573      0.193318      0.002983   \n",
       "std        0.041702      0.101472      0.023925      0.394905      0.054535   \n",
       "min        0.000000      0.000000      0.000000      0.000000      0.000000   \n",
       "25%        0.000000      0.000000      0.000000      0.000000      0.000000   \n",
       "50%        0.000000      0.000000      0.000000      0.000000      0.000000   \n",
       "75%        0.000000      0.000000      0.000000      0.000000      0.000000   \n",
       "max        1.000000      1.000000      1.000000      1.000000      1.000000   \n",
       "\n",
       "              nutty           oud        ozonic     patchouli       plastic  \\\n",
       "count  41905.000000  41905.000000  41905.000000  41905.000000  41905.000000   \n",
       "mean       0.010691      0.040091      0.034316      0.072283      0.000048   \n",
       "std        0.102844      0.196174      0.182041      0.258958      0.006908   \n",
       "min        0.000000      0.000000      0.000000      0.000000      0.000000   \n",
       "25%        0.000000      0.000000      0.000000      0.000000      0.000000   \n",
       "50%        0.000000      0.000000      0.000000      0.000000      0.000000   \n",
       "75%        0.000000      0.000000      0.000000      0.000000      0.000000   \n",
       "max        1.000000      1.000000      1.000000      1.000000      1.000000   \n",
       "\n",
       "            powdery          rose           rum         salty          sand  \\\n",
       "count  41905.000000  41905.000000  41905.000000  41905.000000  41905.000000   \n",
       "mean       0.226465      0.166543      0.004319      0.007875      0.001217   \n",
       "std        0.418548      0.372572      0.065580      0.088392      0.034865   \n",
       "min        0.000000      0.000000      0.000000      0.000000      0.000000   \n",
       "25%        0.000000      0.000000      0.000000      0.000000      0.000000   \n",
       "50%        0.000000      0.000000      0.000000      0.000000      0.000000   \n",
       "75%        0.000000      0.000000      0.000000      0.000000      0.000000   \n",
       "max        1.000000      1.000000      1.000000      1.000000      1.000000   \n",
       "\n",
       "             savory         smoky         soapy    soft spicy          sour  \\\n",
       "count  41905.000000  41905.000000  41905.000000  41905.000000  41905.000000   \n",
       "mean       0.002339      0.045484      0.004653      0.040377      0.016800   \n",
       "std        0.048303      0.208365      0.068058      0.196844      0.128523   \n",
       "min        0.000000      0.000000      0.000000      0.000000      0.000000   \n",
       "25%        0.000000      0.000000      0.000000      0.000000      0.000000   \n",
       "50%        0.000000      0.000000      0.000000      0.000000      0.000000   \n",
       "75%        0.000000      0.000000      0.000000      0.000000      0.000000   \n",
       "max        1.000000      1.000000      1.000000      1.000000      1.000000   \n",
       "\n",
       "              sweet   tennis ball      terpenic       tobacco  \\\n",
       "count  41905.000000  41905.000000  41905.000000  41905.000000   \n",
       "mean       0.315475      0.000024      0.001837      0.017898   \n",
       "std        0.464711      0.004885      0.042827      0.132581   \n",
       "min        0.000000      0.000000      0.000000      0.000000   \n",
       "25%        0.000000      0.000000      0.000000      0.000000   \n",
       "50%        0.000000      0.000000      0.000000      0.000000   \n",
       "75%        1.000000      0.000000      0.000000      0.000000   \n",
       "max        1.000000      1.000000      1.000000      1.000000   \n",
       "\n",
       "       tonka (coumarin)      tropical      tuberose       unknown  \\\n",
       "count      41905.000000  41905.000000  41905.000000  41905.000000   \n",
       "mean           0.003866      0.026775      0.025081      0.012719   \n",
       "std            0.062057      0.161427      0.156372      0.112061   \n",
       "min            0.000000      0.000000      0.000000      0.000000   \n",
       "25%            0.000000      0.000000      0.000000      0.000000   \n",
       "50%            0.000000      0.000000      0.000000      0.000000   \n",
       "75%            0.000000      0.000000      0.000000      0.000000   \n",
       "max            1.000000      1.000000      1.000000      1.000000   \n",
       "\n",
       "            vanilla         vinyl        violet         vodka    warm spicy  \\\n",
       "count  41905.000000  41905.000000  41905.000000  41905.000000  41905.000000   \n",
       "mean       0.149720      0.000358      0.000549      0.000692      0.223816   \n",
       "std        0.356801      0.018916      0.023422      0.026298      0.416805   \n",
       "min        0.000000      0.000000      0.000000      0.000000      0.000000   \n",
       "25%        0.000000      0.000000      0.000000      0.000000      0.000000   \n",
       "50%        0.000000      0.000000      0.000000      0.000000      0.000000   \n",
       "75%        0.000000      0.000000      0.000000      0.000000      0.000000   \n",
       "max        1.000000      1.000000      1.000000      1.000000      1.000000   \n",
       "\n",
       "             watery   wet plaster       whiskey  white floral    white wine  \\\n",
       "count  41905.000000  41905.000000  41905.000000  41905.000000  41905.000000   \n",
       "mean       0.001527      0.000024      0.002792      0.250352      0.000191   \n",
       "std        0.039051      0.004885      0.052766      0.433221      0.013816   \n",
       "min        0.000000      0.000000      0.000000      0.000000      0.000000   \n",
       "25%        0.000000      0.000000      0.000000      0.000000      0.000000   \n",
       "50%        0.000000      0.000000      0.000000      0.000000      0.000000   \n",
       "75%        0.000000      0.000000      0.000000      1.000000      0.000000   \n",
       "max        1.000000      1.000000      1.000000      1.000000      1.000000   \n",
       "\n",
       "               wine         woody  yellow floral  \n",
       "count  41905.000000  41905.000000   41905.000000  \n",
       "mean       0.001169      0.546856       0.038540  \n",
       "std        0.034176      0.497806       0.192497  \n",
       "min        0.000000      0.000000       0.000000  \n",
       "25%        0.000000      0.000000       0.000000  \n",
       "50%        0.000000      1.000000       0.000000  \n",
       "75%        0.000000      1.000000       0.000000  \n",
       "max        1.000000      1.000000       1.000000  \n",
       "\n",
       "[8 rows x 149 columns]"
      ]
     },
     "execution_count": 111,
     "metadata": {},
     "output_type": "execute_result"
    }
   ],
   "source": [
    "notes_ratings.describe()"
   ]
  },
  {
   "cell_type": "markdown",
   "metadata": {},
   "source": [
    "### Let's front-load the notebook with variables of features we know we'll be looking at"
   ]
  },
  {
   "cell_type": "markdown",
   "metadata": {},
   "source": [
    "#### Fragrance notes"
   ]
  },
  {
   "cell_type": "code",
   "execution_count": 112,
   "metadata": {},
   "outputs": [
    {
     "data": {
      "text/markdown": [
       "**Count of notes features already encoded as binary categorical variables in dataset: 83**"
      ],
      "text/plain": [
       "<IPython.core.display.Markdown object>"
      ]
     },
     "metadata": {},
     "output_type": "display_data"
    }
   ],
   "source": [
    "# Set list of the names of notes\n",
    "\n",
    "notes_names = ['alcohol', 'aldehydic', 'almond', 'amber', 'animalic', 'anis', 'aquatic',\n",
    "               'aromatic', 'asphault', 'bacon', 'balsamic', 'bbq', 'beeswax',\n",
    "               'bitter', 'cacao', 'camphor', 'caramel', 'caramela', 'cherry',\n",
    "               'cinnamon', 'citrus', 'clay', 'coca-cola', 'coconut', 'coffee',\n",
    "               'cognac', 'conifer', 'earthy', 'floral', 'foresty', 'fresh',\n",
    "               'fresh spicy', 'fruity', 'gourmand', 'green', 'herbal', 'honey',\n",
    "               'industrial glue', 'lactonic', 'leather', 'marine', 'martini',\n",
    "               'metallic', 'milky', 'mossy', 'musky', 'narcotic', 'nutty', 'oud',\n",
    "               'ozonic', 'patchouli', 'plastic', 'powdery', 'rose', 'rum',\n",
    "               'salty', 'sand', 'savory', 'smoky', 'soapy', 'soft spicy', 'sour',\n",
    "               'sweet', 'tennis ball', 'terpenic', 'tobacco', 'tonka (coumarin)',\n",
    "               'tropical', 'tuberose', 'unknown', 'vanilla', 'vinyl', 'violet',\n",
    "               'vodka', 'warm spicy', 'watery', 'wet plaster', 'whiskey',\n",
    "               'white floral', 'white wine', 'wine', 'woody', 'yellow floral']\n",
    "\n",
    "printmd(f'**Count of notes features already encoded as binary categorical variables in dataset: {len(notes_names)}**')"
   ]
  },
  {
   "cell_type": "markdown",
   "metadata": {},
   "source": [
    "#### `longevity` and `sillage`"
   ]
  },
  {
   "cell_type": "code",
   "execution_count": 135,
   "metadata": {},
   "outputs": [],
   "source": [
    "longevity_cols = [col for col in notes_ratings.columns if col.startswith('longevity')]\n",
    "sillage_cols = [col for col in notes_ratings.columns if col.startswith('sillage')]\n",
    "longevity_sillage_cols = [col for col in notes_ratings.columns if col.startswith('longevity') or col.startswith('sillage')]"
   ]
  },
  {
   "cell_type": "markdown",
   "metadata": {},
   "source": [
    "#### `clslove`, `clslike`, `clsdislike`"
   ]
  },
  {
   "cell_type": "code",
   "execution_count": 114,
   "metadata": {},
   "outputs": [],
   "source": [
    "love_like_dislike_df = notes_ratings[['title', 'clslove', 'clslike', 'clsdislike']].drop_duplicates()"
   ]
  },
  {
   "cell_type": "markdown",
   "metadata": {},
   "source": [
    "_ _ _"
   ]
  },
  {
   "cell_type": "markdown",
   "metadata": {},
   "source": [
    "## Cleaning / Preprocessing \n",
    "\n",
    "1. [x] Check for duplicates\n",
    "- [x] Check for nulls\n",
    "- [x] Make the `0`, `1`, `2`, `3` columns workable (extract top / middle / base notes)"
   ]
  },
  {
   "cell_type": "markdown",
   "metadata": {},
   "source": [
    "### 1. Check for duplicates"
   ]
  },
  {
   "cell_type": "code",
   "execution_count": 115,
   "metadata": {
    "scrolled": true
   },
   "outputs": [
    {
     "data": {
      "text/markdown": [
       "**Total fragrance count: 41,905**"
      ],
      "text/plain": [
       "<IPython.core.display.Markdown object>"
      ]
     },
     "metadata": {},
     "output_type": "display_data"
    },
    {
     "data": {
      "text/markdown": [
       "**Unique fragrance count: 41,833**"
      ],
      "text/plain": [
       "<IPython.core.display.Markdown object>"
      ]
     },
     "metadata": {},
     "output_type": "display_data"
    },
    {
     "data": {
      "text/markdown": [
       "**There are some duplicates, let's check that out.**"
      ],
      "text/plain": [
       "<IPython.core.display.Markdown object>"
      ]
     },
     "metadata": {},
     "output_type": "display_data"
    }
   ],
   "source": [
    "printmd(f\"**Total fragrance count: {notes_ratings['title'].value_counts().sum():,}**\")\n",
    "printmd(f\"**Unique fragrance count: {notes_ratings['title'].nunique():,}**\")\n",
    "\n",
    "printmd(\"**There are some duplicates, let's check that out.**\")"
   ]
  },
  {
   "cell_type": "code",
   "execution_count": 116,
   "metadata": {},
   "outputs": [
    {
     "data": {
      "text/markdown": [
       "**Count of `title`s that appear to be duplicates: 71**"
      ],
      "text/plain": [
       "<IPython.core.display.Markdown object>"
      ]
     },
     "metadata": {},
     "output_type": "display_data"
    }
   ],
   "source": [
    "duplicates = notes_ratings['title'].value_counts()[notes_ratings['title'].value_counts() != 1]\n",
    "printmd(f\"**Count of `title`s that appear to be duplicates: {len(duplicates)}**\")"
   ]
  },
  {
   "cell_type": "code",
   "execution_count": 117,
   "metadata": {},
   "outputs": [
    {
     "data": {
      "text/markdown": [
       "**The `url` tells us that these are different fragrances**"
      ],
      "text/plain": [
       "<IPython.core.display.Markdown object>"
      ]
     },
     "metadata": {},
     "output_type": "display_data"
    },
    {
     "data": {
      "text/html": [
       "<div>\n",
       "<style scoped>\n",
       "    .dataframe tbody tr th:only-of-type {\n",
       "        vertical-align: middle;\n",
       "    }\n",
       "\n",
       "    .dataframe tbody tr th {\n",
       "        vertical-align: top;\n",
       "    }\n",
       "\n",
       "    .dataframe thead th {\n",
       "        text-align: right;\n",
       "    }\n",
       "</style>\n",
       "<table border=\"1\" class=\"dataframe\">\n",
       "  <thead>\n",
       "    <tr style=\"text-align: right;\">\n",
       "      <th></th>\n",
       "      <th>url</th>\n",
       "      <th>title</th>\n",
       "      <th>average_rating_</th>\n",
       "    </tr>\n",
       "  </thead>\n",
       "  <tbody>\n",
       "    <tr>\n",
       "      <th>5847</th>\n",
       "      <td>https://www.fragrantica.com/perfume/Chlo-/Love-Chloe-Eau-Florale-15440.html</td>\n",
       "      <td>Love</td>\n",
       "      <td>4.02</td>\n",
       "    </tr>\n",
       "    <tr>\n",
       "      <th>20777</th>\n",
       "      <td>https://www.fragrantica.com/perfume/Charlotte-Russe/Love-Charlotte-22325.html</td>\n",
       "      <td>Love</td>\n",
       "      <td>4.13</td>\n",
       "    </tr>\n",
       "    <tr>\n",
       "      <th>35095</th>\n",
       "      <td>https://www.fragrantica.com/perfume/Cosmopolitan/Love-Unfiltered-56263.html</td>\n",
       "      <td>Love</td>\n",
       "      <td>2.83</td>\n",
       "    </tr>\n",
       "  </tbody>\n",
       "</table>\n",
       "</div>"
      ],
      "text/plain": [
       "                                                                                 url  \\\n",
       "5847     https://www.fragrantica.com/perfume/Chlo-/Love-Chloe-Eau-Florale-15440.html   \n",
       "20777  https://www.fragrantica.com/perfume/Charlotte-Russe/Love-Charlotte-22325.html   \n",
       "35095    https://www.fragrantica.com/perfume/Cosmopolitan/Love-Unfiltered-56263.html   \n",
       "\n",
       "      title  average_rating_  \n",
       "5847   Love             4.02  \n",
       "20777  Love             4.13  \n",
       "35095  Love             2.83  "
      ]
     },
     "metadata": {},
     "output_type": "display_data"
    }
   ],
   "source": [
    "# Random selection of duplicate `title`\n",
    "\n",
    "printmd('**The `url` tells us that these are different fragrances**')\n",
    "ipd(notes_ratings[['url', 'title', 'average_rating_']][notes_ratings['title'] == duplicates.index[0]])"
   ]
  },
  {
   "cell_type": "code",
   "execution_count": 118,
   "metadata": {},
   "outputs": [
    {
     "data": {
      "text/markdown": [
       "**The `url` tells us that these are the same fragrance, with different pages on the Fragrantica site**"
      ],
      "text/plain": [
       "<IPython.core.display.Markdown object>"
      ]
     },
     "metadata": {},
     "output_type": "display_data"
    },
    {
     "data": {
      "text/html": [
       "<div>\n",
       "<style scoped>\n",
       "    .dataframe tbody tr th:only-of-type {\n",
       "        vertical-align: middle;\n",
       "    }\n",
       "\n",
       "    .dataframe tbody tr th {\n",
       "        vertical-align: top;\n",
       "    }\n",
       "\n",
       "    .dataframe thead th {\n",
       "        text-align: right;\n",
       "    }\n",
       "</style>\n",
       "<table border=\"1\" class=\"dataframe\">\n",
       "  <thead>\n",
       "    <tr style=\"text-align: right;\">\n",
       "      <th></th>\n",
       "      <th>url</th>\n",
       "      <th>title</th>\n",
       "      <th>average_rating_</th>\n",
       "    </tr>\n",
       "  </thead>\n",
       "  <tbody>\n",
       "    <tr>\n",
       "      <th>15166</th>\n",
       "      <td>https://www.fragrantica.com/perfume/Borsari/Neroli-Bamboo-e-Fior-di-Loto-19262.html</td>\n",
       "      <td>Neroli</td>\n",
       "      <td>4.33</td>\n",
       "    </tr>\n",
       "    <tr>\n",
       "      <th>17843</th>\n",
       "      <td>https://www.fragrantica.com/perfume/Lola-Cosmetics/Neroli-Jasmim-Branco-Camomila-e-Lim-o-Siciliano-54725.html</td>\n",
       "      <td>Neroli</td>\n",
       "      <td>3.33</td>\n",
       "    </tr>\n",
       "  </tbody>\n",
       "</table>\n",
       "</div>"
      ],
      "text/plain": [
       "                                                                                                                 url  \\\n",
       "15166                            https://www.fragrantica.com/perfume/Borsari/Neroli-Bamboo-e-Fior-di-Loto-19262.html   \n",
       "17843  https://www.fragrantica.com/perfume/Lola-Cosmetics/Neroli-Jasmim-Branco-Camomila-e-Lim-o-Siciliano-54725.html   \n",
       "\n",
       "        title  average_rating_  \n",
       "15166  Neroli             4.33  \n",
       "17843  Neroli             3.33  "
      ]
     },
     "metadata": {},
     "output_type": "display_data"
    }
   ],
   "source": [
    "# Random selection of duplicate `title`\n",
    "\n",
    "printmd('**The `url` tells us that these are the same fragrance, with different pages on the Fragrantica site**')\n",
    "ipd(notes_ratings[['url', 'title', 'average_rating_']][notes_ratings['title'] == duplicates.index[5]])"
   ]
  },
  {
   "cell_type": "markdown",
   "metadata": {},
   "source": [
    "### Compare the notes of `title` 'La Petite Robe Noire Guerlain for women' between the dataset and the URL."
   ]
  },
  {
   "cell_type": "code",
   "execution_count": 119,
   "metadata": {
    "scrolled": true
   },
   "outputs": [
    {
     "data": {
      "text/html": [
       "<div>\n",
       "<style scoped>\n",
       "    .dataframe tbody tr th:only-of-type {\n",
       "        vertical-align: middle;\n",
       "    }\n",
       "\n",
       "    .dataframe tbody tr th {\n",
       "        vertical-align: top;\n",
       "    }\n",
       "\n",
       "    .dataframe thead th {\n",
       "        text-align: right;\n",
       "    }\n",
       "</style>\n",
       "<table border=\"1\" class=\"dataframe\">\n",
       "  <thead>\n",
       "    <tr style=\"text-align: right;\">\n",
       "      <th></th>\n",
       "      <th>url</th>\n",
       "      <th>0</th>\n",
       "      <th>1</th>\n",
       "      <th>2</th>\n",
       "      <th>3</th>\n",
       "      <th>almond</th>\n",
       "      <th>fruity</th>\n",
       "      <th>gourmand</th>\n",
       "      <th>nutty</th>\n",
       "      <th>soft spicy</th>\n",
       "      <th>sweet</th>\n",
       "      <th>vanilla</th>\n",
       "    </tr>\n",
       "  </thead>\n",
       "  <tbody>\n",
       "    <tr>\n",
       "      <th>638</th>\n",
       "      <td>https://www.fragrantica.com/perfume/Guerlain/La-Petite-Robe-Noire-14681.html</td>\n",
       "      <td>Top0Bergamot</td>\n",
       "      <td>Top1Almond</td>\n",
       "      <td>Top2Sour Cherry</td>\n",
       "      <td>Top3Red Berries</td>\n",
       "      <td>1</td>\n",
       "      <td>1</td>\n",
       "      <td>0</td>\n",
       "      <td>1</td>\n",
       "      <td>1</td>\n",
       "      <td>1</td>\n",
       "      <td>0</td>\n",
       "    </tr>\n",
       "    <tr>\n",
       "      <th>33054</th>\n",
       "      <td>https://www.fragrantica.com/perfume/Guerlain/La-Petite-Robe-Noire-5454.html</td>\n",
       "      <td>Top0Lemon</td>\n",
       "      <td>Top1Almond</td>\n",
       "      <td>Top2Anise</td>\n",
       "      <td>Middle0Macarons</td>\n",
       "      <td>1</td>\n",
       "      <td>0</td>\n",
       "      <td>1</td>\n",
       "      <td>0</td>\n",
       "      <td>1</td>\n",
       "      <td>1</td>\n",
       "      <td>1</td>\n",
       "    </tr>\n",
       "  </tbody>\n",
       "</table>\n",
       "</div>"
      ],
      "text/plain": [
       "                                                                                url  \\\n",
       "638    https://www.fragrantica.com/perfume/Guerlain/La-Petite-Robe-Noire-14681.html   \n",
       "33054   https://www.fragrantica.com/perfume/Guerlain/La-Petite-Robe-Noire-5454.html   \n",
       "\n",
       "                  0           1                2                3  almond  \\\n",
       "638    Top0Bergamot  Top1Almond  Top2Sour Cherry  Top3Red Berries       1   \n",
       "33054     Top0Lemon  Top1Almond        Top2Anise  Middle0Macarons       1   \n",
       "\n",
       "       fruity  gourmand  nutty  soft spicy  sweet  vanilla  \n",
       "638         1         0      1           1      1        0  \n",
       "33054       0         1      0           1      1        1  "
      ]
     },
     "execution_count": 119,
     "metadata": {},
     "output_type": "execute_result"
    }
   ],
   "source": [
    "notes_names_url = ['url', '0', '1', '2', '3'] + notes_names\n",
    "\n",
    "ptit_robe_guerlain = notes_ratings.loc[[638, 33054], notes_names_url]\n",
    "\n",
    "# Filter on notes columns with at least one positive value\n",
    "ptit_robe_guerlain = ptit_robe_guerlain.loc[:, (ptit_robe_guerlain != 0).any(axis = 0)]\n",
    "ptit_robe_guerlain"
   ]
  },
  {
   "cell_type": "markdown",
   "metadata": {},
   "source": [
    "### https://www.fragrantica.com/perfume/Guerlain/La-Petite-Robe-Noire-14681.html"
   ]
  },
  {
   "attachments": {
    "image.png": {
     "image/png": "[encoded data removed]"
    }
   },
   "cell_type": "markdown",
   "metadata": {},
   "source": [
    "Screenshots taken from above URL on 12/6/20\n",
    "![image.png](attachment:image.png)"
   ]
  },
  {
   "attachments": {
    "image.png": {
     "image/png": "[encoded data removed]"
    }
   },
   "cell_type": "markdown",
   "metadata": {},
   "source": [
    "\n",
    "![image.png](attachment:image.png)"
   ]
  },
  {
   "attachments": {
    "image.png": {
     "image/png": "[encoded data removed]"
    }
   },
   "cell_type": "markdown",
   "metadata": {},
   "source": [
    "### https://www.fragrantica.com/perfume/Guerlain/La-Petite-Robe-Noire-5454.html\n",
    "\n",
    "![image.png](attachment:image.png)"
   ]
  },
  {
   "attachments": {
    "image.png": {
     "image/png": "[encoded data removed]"
    }
   },
   "cell_type": "markdown",
   "metadata": {},
   "source": [
    "![image.png](attachment:image.png)"
   ]
  },
  {
   "cell_type": "markdown",
   "metadata": {},
   "source": [
    "### Confirmed: These are different fragrances, with different formulations, launch dates and \"noses\"!"
   ]
  },
  {
   "cell_type": "code",
   "execution_count": 120,
   "metadata": {},
   "outputs": [],
   "source": [
    "dup_avg_rating = {}\n",
    "for fragrance in duplicates.index:\n",
    "    dup_avg_rating[fragrance] = notes_ratings[['url', 'average_rating_']][notes_ratings['title'] == fragrance].values\n",
    "# dup_avg_rating"
   ]
  },
  {
   "cell_type": "markdown",
   "metadata": {},
   "source": [
    "### The fact the URLs have different numbers in their path (and different ratings) tell us these are *_NOT_* duplicates. We'll leave it as is!"
   ]
  },
  {
   "cell_type": "markdown",
   "metadata": {},
   "source": [
    "### 2. Check for nulls"
   ]
  },
  {
   "cell_type": "code",
   "execution_count": 121,
   "metadata": {},
   "outputs": [
    {
     "data": {
      "text/markdown": [
       "**Null count: 0. That was easy!**"
      ],
      "text/plain": [
       "<IPython.core.display.Markdown object>"
      ]
     },
     "metadata": {},
     "output_type": "display_data"
    }
   ],
   "source": [
    "printmd(f'**Null count: {notes_ratings.isnull().sum().sum()}. That was easy!**')"
   ]
  },
  {
   "cell_type": "markdown",
   "metadata": {},
   "source": [
    "### 3. Extract top / middle / base notes from the `0`, `1`, `2`, `3` columns"
   ]
  },
  {
   "cell_type": "code",
   "execution_count": 122,
   "metadata": {},
   "outputs": [
    {
     "data": {
      "text/markdown": [
       "**Count of nulls: 0**"
      ],
      "text/plain": [
       "<IPython.core.display.Markdown object>"
      ]
     },
     "metadata": {},
     "output_type": "display_data"
    },
    {
     "data": {
      "text/html": [
       "<div>\n",
       "<style scoped>\n",
       "    .dataframe tbody tr th:only-of-type {\n",
       "        vertical-align: middle;\n",
       "    }\n",
       "\n",
       "    .dataframe tbody tr th {\n",
       "        vertical-align: top;\n",
       "    }\n",
       "\n",
       "    .dataframe thead th {\n",
       "        text-align: right;\n",
       "    }\n",
       "</style>\n",
       "<table border=\"1\" class=\"dataframe\">\n",
       "  <thead>\n",
       "    <tr style=\"text-align: right;\">\n",
       "      <th></th>\n",
       "      <th>title</th>\n",
       "      <th>0</th>\n",
       "      <th>1</th>\n",
       "      <th>2</th>\n",
       "      <th>3</th>\n",
       "    </tr>\n",
       "  </thead>\n",
       "  <tbody>\n",
       "    <tr>\n",
       "      <th>0</th>\n",
       "      <td>Aamal The Spirit of Dubai for women and men</td>\n",
       "      <td>Top0Turkish Rose</td>\n",
       "      <td>Top1Bulgarian Rose</td>\n",
       "      <td>Top2Bergamot</td>\n",
       "      <td>Top3Fruits</td>\n",
       "    </tr>\n",
       "  </tbody>\n",
       "</table>\n",
       "</div>"
      ],
      "text/plain": [
       "                                         title                 0  \\\n",
       "0  Aamal The Spirit of Dubai for women and men  Top0Turkish Rose   \n",
       "\n",
       "                    1             2           3  \n",
       "0  Top1Bulgarian Rose  Top2Bergamot  Top3Fruits  "
      ]
     },
     "execution_count": 122,
     "metadata": {},
     "output_type": "execute_result"
    }
   ],
   "source": [
    "fragrance_top_middle_base_notes_df = notes_ratings[['title', '0', '1', '2', '3']]\n",
    "\n",
    "printmd(f'**Count of nulls: {fragrance_top_middle_base_notes_df.isnull().sum().sum()}**')\n",
    "\n",
    "fragrance_top_middle_base_notes_df.head(1) "
   ]
  },
  {
   "cell_type": "markdown",
   "metadata": {},
   "source": [
    "#### Column `0`"
   ]
  },
  {
   "cell_type": "code",
   "execution_count": 123,
   "metadata": {
    "scrolled": true
   },
   "outputs": [
    {
     "data": {
      "text/plain": [
       "0"
      ]
     },
     "metadata": {},
     "output_type": "display_data"
    },
    {
     "data": {
      "text/plain": [
       "0       Turkish Rose\n",
       "1             Nutmeg\n",
       "2    Mandarin Orange\n",
       "3     Agarwood (Oud)\n",
       "4            Juniper\n",
       "Name: top_0, dtype: object"
      ]
     },
     "execution_count": 123,
     "metadata": {},
     "output_type": "execute_result"
    }
   ],
   "source": [
    "# Check whether any rows do NOT start with 'Top0' in column `0`\n",
    "ipd((fragrance_top_middle_base_notes_df['0'].apply(lambda x: x[:len('Top0')]) != 'Top0').astype(int).sum())\n",
    "\n",
    "# Since they are all 'Top0', rename column\n",
    "fragrance_top_middle_base_notes_df.rename(columns = {'0': 'top_0'}, inplace = True)\n",
    "\n",
    "# Extract the note \n",
    "fragrance_top_middle_base_notes_df['top_0'] = (fragrance_top_middle_base_notes_df['top_0']\n",
    "                                                    .apply(lambda x: x.split('Top0')[1]))\n",
    "fragrance_top_middle_base_notes_df['top_0'].head()"
   ]
  },
  {
   "cell_type": "markdown",
   "metadata": {},
   "source": [
    "#### Column `1`"
   ]
  },
  {
   "cell_type": "code",
   "execution_count": 124,
   "metadata": {},
   "outputs": [
    {
     "data": {
      "text/plain": [
       "0          Top1Bulgarian Rose\n",
       "1                    Top1Rose\n",
       "2                Top1Lavender\n",
       "3                    Top1Lily\n",
       "4                    Top1Mint\n",
       "                 ...         \n",
       "41900          Top1Grapefruit\n",
       "41901            Top1Bergamot\n",
       "41902             Top1Vanille\n",
       "41903    Top1Java vetiver oil\n",
       "41904            Top1Lavender\n",
       "Name: 1, Length: 41905, dtype: object"
      ]
     },
     "execution_count": 124,
     "metadata": {},
     "output_type": "execute_result"
    }
   ],
   "source": [
    "fragrance_top_middle_base_notes_df['1']"
   ]
  },
  {
   "cell_type": "code",
   "execution_count": 125,
   "metadata": {},
   "outputs": [
    {
     "data": {
      "text/markdown": [
       "**Count of rows that do NOT start with 'Top1' in column `1`: 4,582**"
      ],
      "text/plain": [
       "<IPython.core.display.Markdown object>"
      ]
     },
     "metadata": {},
     "output_type": "display_data"
    },
    {
     "data": {
      "text/markdown": [
       "**'Top1' and 'Midd' (for 'Middle') appear in this column. Let's break them into two separate columns.**"
      ],
      "text/plain": [
       "<IPython.core.display.Markdown object>"
      ]
     },
     "metadata": {},
     "output_type": "display_data"
    },
    {
     "data": {
      "text/plain": [
       "Top1    37323\n",
       "Midd     4582\n",
       "Name: 1, dtype: int64"
      ]
     },
     "metadata": {},
     "output_type": "display_data"
    },
    {
     "data": {
      "text/html": [
       "<div>\n",
       "<style scoped>\n",
       "    .dataframe tbody tr th:only-of-type {\n",
       "        vertical-align: middle;\n",
       "    }\n",
       "\n",
       "    .dataframe tbody tr th {\n",
       "        vertical-align: top;\n",
       "    }\n",
       "\n",
       "    .dataframe thead th {\n",
       "        text-align: right;\n",
       "    }\n",
       "</style>\n",
       "<table border=\"1\" class=\"dataframe\">\n",
       "  <thead>\n",
       "    <tr style=\"text-align: right;\">\n",
       "      <th></th>\n",
       "      <th>title</th>\n",
       "      <th>top_0</th>\n",
       "      <th>1</th>\n",
       "      <th>2</th>\n",
       "      <th>3</th>\n",
       "      <th>top_1</th>\n",
       "      <th>middle_0</th>\n",
       "    </tr>\n",
       "  </thead>\n",
       "  <tbody>\n",
       "    <tr>\n",
       "      <th>35</th>\n",
       "      <td>DKNY Delicious Candy Apples Sweet Strawberry Donna Karan for women</td>\n",
       "      <td>Bergamot</td>\n",
       "      <td>Top1Big Strawberry</td>\n",
       "      <td>Top2African Orange flower</td>\n",
       "      <td>Middle0Jasmine</td>\n",
       "      <td>Big Strawberry</td>\n",
       "      <td>NaN</td>\n",
       "    </tr>\n",
       "    <tr>\n",
       "      <th>36</th>\n",
       "      <td>Daisy Hot Pink Marc Jacobs for women</td>\n",
       "      <td>Strawberry</td>\n",
       "      <td>Middle0Jasmine</td>\n",
       "      <td>Middle1Gardenia</td>\n",
       "      <td>Middle2Violet</td>\n",
       "      <td>NaN</td>\n",
       "      <td>Jasmine</td>\n",
       "    </tr>\n",
       "    <tr>\n",
       "      <th>37</th>\n",
       "      <td>Strawberry The Body Shop for women</td>\n",
       "      <td>Big Strawberry</td>\n",
       "      <td>Middle0nan</td>\n",
       "      <td>Base0nan</td>\n",
       "      <td>Middle0nan</td>\n",
       "      <td>NaN</td>\n",
       "      <td>nan</td>\n",
       "    </tr>\n",
       "    <tr>\n",
       "      <th>38</th>\n",
       "      <td>Gorgeous Victoria's Secret for women</td>\n",
       "      <td>Mandarin Orange</td>\n",
       "      <td>Top1Strawberry</td>\n",
       "      <td>Middle0Jasmine</td>\n",
       "      <td>Middle1Freesia</td>\n",
       "      <td>Strawberry</td>\n",
       "      <td>NaN</td>\n",
       "    </tr>\n",
       "    <tr>\n",
       "      <th>39</th>\n",
       "      <td>Figment Man Amouage for men</td>\n",
       "      <td>Lemon</td>\n",
       "      <td>Top1Geranium</td>\n",
       "      <td>Top2Pink Pepper</td>\n",
       "      <td>Middle0Sandalwood</td>\n",
       "      <td>Geranium</td>\n",
       "      <td>NaN</td>\n",
       "    </tr>\n",
       "    <tr>\n",
       "      <th>40</th>\n",
       "      <td>Femme Icon Avon for women</td>\n",
       "      <td>Raspberry</td>\n",
       "      <td>Top1Strawberry</td>\n",
       "      <td>Middle0iris</td>\n",
       "      <td>Middle1Rose</td>\n",
       "      <td>Strawberry</td>\n",
       "      <td>NaN</td>\n",
       "    </tr>\n",
       "  </tbody>\n",
       "</table>\n",
       "</div>"
      ],
      "text/plain": [
       "                                                                 title  \\\n",
       "35  DKNY Delicious Candy Apples Sweet Strawberry Donna Karan for women   \n",
       "36                                Daisy Hot Pink Marc Jacobs for women   \n",
       "37                                  Strawberry The Body Shop for women   \n",
       "38                                Gorgeous Victoria's Secret for women   \n",
       "39                                         Figment Man Amouage for men   \n",
       "40                                           Femme Icon Avon for women   \n",
       "\n",
       "              top_0                   1                          2  \\\n",
       "35         Bergamot  Top1Big Strawberry  Top2African Orange flower   \n",
       "36       Strawberry      Middle0Jasmine            Middle1Gardenia   \n",
       "37   Big Strawberry          Middle0nan                   Base0nan   \n",
       "38  Mandarin Orange      Top1Strawberry             Middle0Jasmine   \n",
       "39            Lemon        Top1Geranium            Top2Pink Pepper   \n",
       "40        Raspberry      Top1Strawberry                Middle0iris   \n",
       "\n",
       "                    3           top_1 middle_0  \n",
       "35     Middle0Jasmine  Big Strawberry      NaN  \n",
       "36      Middle2Violet             NaN  Jasmine  \n",
       "37         Middle0nan             NaN      nan  \n",
       "38     Middle1Freesia      Strawberry      NaN  \n",
       "39  Middle0Sandalwood        Geranium      NaN  \n",
       "40        Middle1Rose      Strawberry      NaN  "
      ]
     },
     "execution_count": 125,
     "metadata": {},
     "output_type": "execute_result"
    }
   ],
   "source": [
    "printmd(f\"**Count of rows that do NOT start with 'Top1' in column `1`: {(fragrance_top_middle_base_notes_df['1'].apply(lambda x: x[:len('Top1')]) != 'Top1').astype(int).sum():,}**\")\n",
    "\n",
    "printmd(\"**'Top1' and 'Midd' (for 'Middle') appear in this column. Let's break them into two separate columns.**\")\n",
    "ipd(fragrance_top_middle_base_notes_df['1'].apply(lambda x: x[:len('Top1')]).value_counts())\n",
    "\n",
    "# Extract the `Top1` note \n",
    "fragrance_top_middle_base_notes_df['top_1'] = (fragrance_top_middle_base_notes_df['1'][fragrance_top_middle_base_notes_df['1']\n",
    "                                                     .apply(lambda x: x[:len('Top1')] == 'Top1')]\n",
    "                                                     .apply(lambda x: x.split('Top1')[1]))\n",
    "\n",
    "# Extract the `Middle` note \n",
    "fragrance_top_middle_base_notes_df['middle_0'] = (fragrance_top_middle_base_notes_df['1'][fragrance_top_middle_base_notes_df['1']\n",
    "                                                     .apply(lambda x: x[:len('Middle0')] == 'Middle0')]\n",
    "                                                     .apply(lambda x: x.split('Middle0')[1]))\n",
    "\n",
    "\n",
    "# Check `Midd` count corresponds to null count in new column, `top_1`\n",
    "fragrance_top_middle_base_notes_df['top_1'].isnull().sum()\n",
    "\n",
    "# Preview\n",
    "fragrance_top_middle_base_notes_df.iloc[35:41, :]"
   ]
  },
  {
   "cell_type": "markdown",
   "metadata": {},
   "source": [
    "#### Missing values are filling in on the new columns, since there's a mix of note types in the original feature. We'll impute the missing values later, all at once."
   ]
  },
  {
   "cell_type": "code",
   "execution_count": 126,
   "metadata": {},
   "outputs": [
    {
     "data": {
      "text/plain": [
       "top_1        4582\n",
       "middle_0    37323\n",
       "dtype: int64"
      ]
     },
     "execution_count": 126,
     "metadata": {},
     "output_type": "execute_result"
    }
   ],
   "source": [
    "# Make sure null count matches are correct: top_1's null count = middle_0 count, vice versa\n",
    "\n",
    "fragrance_top_middle_base_notes_df[['top_1', 'middle_0']].isnull().sum()"
   ]
  },
  {
   "cell_type": "markdown",
   "metadata": {},
   "source": [
    "#### Column `2`"
   ]
  },
  {
   "cell_type": "code",
   "execution_count": 127,
   "metadata": {
    "scrolled": false
   },
   "outputs": [
    {
     "data": {
      "text/markdown": [
       "**'Top2', 'Midd' (for 'Middle') and 'Base' appear in this column. Let's break them into two separate columns.**"
      ],
      "text/plain": [
       "<IPython.core.display.Markdown object>"
      ]
     },
     "metadata": {},
     "output_type": "display_data"
    },
    {
     "data": {
      "text/plain": [
       "Top2    29377\n",
       "Midd     9549\n",
       "Base     2979\n",
       "Name: 2, dtype: int64"
      ]
     },
     "metadata": {},
     "output_type": "display_data"
    },
    {
     "data": {
      "text/plain": [
       "Middle0    7946\n",
       "Middle1    1603\n",
       "Name: 2, dtype: int64"
      ]
     },
     "metadata": {},
     "output_type": "display_data"
    },
    {
     "data": {
      "text/plain": [
       "Base0    2979\n",
       "Name: 2, dtype: int64"
      ]
     },
     "metadata": {},
     "output_type": "display_data"
    },
    {
     "data": {
      "text/html": [
       "<div>\n",
       "<style scoped>\n",
       "    .dataframe tbody tr th:only-of-type {\n",
       "        vertical-align: middle;\n",
       "    }\n",
       "\n",
       "    .dataframe tbody tr th {\n",
       "        vertical-align: top;\n",
       "    }\n",
       "\n",
       "    .dataframe thead th {\n",
       "        text-align: right;\n",
       "    }\n",
       "</style>\n",
       "<table border=\"1\" class=\"dataframe\">\n",
       "  <thead>\n",
       "    <tr style=\"text-align: right;\">\n",
       "      <th></th>\n",
       "      <th>title</th>\n",
       "      <th>top_0</th>\n",
       "      <th>1</th>\n",
       "      <th>2</th>\n",
       "      <th>3</th>\n",
       "      <th>top_1</th>\n",
       "      <th>middle_0</th>\n",
       "      <th>top_2</th>\n",
       "      <th>middle_0_1</th>\n",
       "      <th>middle_1</th>\n",
       "      <th>base_0</th>\n",
       "    </tr>\n",
       "  </thead>\n",
       "  <tbody>\n",
       "    <tr>\n",
       "      <th>89</th>\n",
       "      <td>Secrets to Keep Avon for women</td>\n",
       "      <td>Apple</td>\n",
       "      <td>Top1Big Strawberry</td>\n",
       "      <td>Top2Jasmine</td>\n",
       "      <td>Top3White Musk</td>\n",
       "      <td>Big Strawberry</td>\n",
       "      <td>NaN</td>\n",
       "      <td>Jasmine</td>\n",
       "      <td>NaN</td>\n",
       "      <td>NaN</td>\n",
       "      <td>NaN</td>\n",
       "    </tr>\n",
       "    <tr>\n",
       "      <th>90</th>\n",
       "      <td>Frutas Vermelhas Natura for women</td>\n",
       "      <td>Strawberry</td>\n",
       "      <td>Top1Pear</td>\n",
       "      <td>Top2Plum</td>\n",
       "      <td>Top3Apple</td>\n",
       "      <td>Pear</td>\n",
       "      <td>NaN</td>\n",
       "      <td>Plum</td>\n",
       "      <td>NaN</td>\n",
       "      <td>NaN</td>\n",
       "      <td>NaN</td>\n",
       "    </tr>\n",
       "    <tr>\n",
       "      <th>91</th>\n",
       "      <td>5th Element Women Nike for women</td>\n",
       "      <td>Big Strawberry</td>\n",
       "      <td>Top1Raspberry</td>\n",
       "      <td>Top2Mandarin Orange</td>\n",
       "      <td>Middle0Jasmine</td>\n",
       "      <td>Raspberry</td>\n",
       "      <td>NaN</td>\n",
       "      <td>Mandarin Orange</td>\n",
       "      <td>NaN</td>\n",
       "      <td>NaN</td>\n",
       "      <td>NaN</td>\n",
       "    </tr>\n",
       "    <tr>\n",
       "      <th>92</th>\n",
       "      <td>C-Thru Blooming Sarantis for women</td>\n",
       "      <td>Pineapple</td>\n",
       "      <td>Top1Pear</td>\n",
       "      <td>Top2Big Strawberry</td>\n",
       "      <td>Middle0Orange Blossom</td>\n",
       "      <td>Pear</td>\n",
       "      <td>NaN</td>\n",
       "      <td>Big Strawberry</td>\n",
       "      <td>NaN</td>\n",
       "      <td>NaN</td>\n",
       "      <td>NaN</td>\n",
       "    </tr>\n",
       "    <tr>\n",
       "      <th>93</th>\n",
       "      <td>Charlotte Aux Fraises Adopt' by Reserve Naturelle for women</td>\n",
       "      <td>Lemon</td>\n",
       "      <td>Middle0Big Strawberry</td>\n",
       "      <td>Middle1Milk</td>\n",
       "      <td>Middle2Cupcake</td>\n",
       "      <td>NaN</td>\n",
       "      <td>Big Strawberry</td>\n",
       "      <td>NaN</td>\n",
       "      <td>NaN</td>\n",
       "      <td>Milk</td>\n",
       "      <td>NaN</td>\n",
       "    </tr>\n",
       "    <tr>\n",
       "      <th>94</th>\n",
       "      <td>Strawberry Creme Candie's for women</td>\n",
       "      <td>Big Strawberry</td>\n",
       "      <td>Middle0Floral Notes</td>\n",
       "      <td>Base0Vanilla</td>\n",
       "      <td>Base1Whipped cream</td>\n",
       "      <td>NaN</td>\n",
       "      <td>Floral Notes</td>\n",
       "      <td>NaN</td>\n",
       "      <td>NaN</td>\n",
       "      <td>NaN</td>\n",
       "      <td>Vanilla</td>\n",
       "    </tr>\n",
       "  </tbody>\n",
       "</table>\n",
       "</div>"
      ],
      "text/plain": [
       "                                                          title  \\\n",
       "89                               Secrets to Keep Avon for women   \n",
       "90                            Frutas Vermelhas Natura for women   \n",
       "91                             5th Element Women Nike for women   \n",
       "92                           C-Thru Blooming Sarantis for women   \n",
       "93  Charlotte Aux Fraises Adopt' by Reserve Naturelle for women   \n",
       "94                          Strawberry Creme Candie's for women   \n",
       "\n",
       "             top_0                      1                    2  \\\n",
       "89           Apple     Top1Big Strawberry          Top2Jasmine   \n",
       "90      Strawberry               Top1Pear             Top2Plum   \n",
       "91  Big Strawberry          Top1Raspberry  Top2Mandarin Orange   \n",
       "92       Pineapple               Top1Pear   Top2Big Strawberry   \n",
       "93           Lemon  Middle0Big Strawberry          Middle1Milk   \n",
       "94  Big Strawberry    Middle0Floral Notes         Base0Vanilla   \n",
       "\n",
       "                        3           top_1        middle_0            top_2  \\\n",
       "89         Top3White Musk  Big Strawberry             NaN          Jasmine   \n",
       "90              Top3Apple            Pear             NaN             Plum   \n",
       "91         Middle0Jasmine       Raspberry             NaN  Mandarin Orange   \n",
       "92  Middle0Orange Blossom            Pear             NaN   Big Strawberry   \n",
       "93         Middle2Cupcake             NaN  Big Strawberry              NaN   \n",
       "94     Base1Whipped cream             NaN    Floral Notes              NaN   \n",
       "\n",
       "   middle_0_1 middle_1   base_0  \n",
       "89        NaN      NaN      NaN  \n",
       "90        NaN      NaN      NaN  \n",
       "91        NaN      NaN      NaN  \n",
       "92        NaN      NaN      NaN  \n",
       "93        NaN     Milk      NaN  \n",
       "94        NaN      NaN  Vanilla  "
      ]
     },
     "execution_count": 127,
     "metadata": {},
     "output_type": "execute_result"
    }
   ],
   "source": [
    "printmd(\"**'Top2', 'Midd' (for 'Middle') and 'Base' appear in this column. Let's break them into two separate columns.**\")\n",
    "ipd(fragrance_top_middle_base_notes_df['2'].apply(lambda x: x[:4]). value_counts())\n",
    "\n",
    "# Extract the `Top2` note \n",
    "fragrance_top_middle_base_notes_df['top_2'] = (fragrance_top_middle_base_notes_df['2'][fragrance_top_middle_base_notes_df['2']\n",
    "                                                     .apply(lambda x: x[:len('Top2')] == 'Top2')]\n",
    "                                                     .apply(lambda x: x.split('Top2')[1]))\n",
    "# Which middle notes does this column contain?\n",
    "\n",
    "col_2_middles = (fragrance_top_middle_base_notes_df['2'][fragrance_top_middle_base_notes_df['2']\n",
    "                                                        .apply(lambda x: x[: len('Middle')]) == 'Middle'])\n",
    "\n",
    "ipd(col_2_middles.apply(lambda x: x[: len('Middle_')]).value_counts())\n",
    "\n",
    "# Extract the 'Middle0' and 'Middle1' notes\n",
    "\n",
    "fragrance_top_middle_base_notes_df['middle_0_1'] = (fragrance_top_middle_base_notes_df['2'][fragrance_top_middle_base_notes_df['2']\n",
    "                                                     .apply(lambda x: x[:len('Middle0')] == 'Middle0')]\n",
    "                                                     .apply(lambda x: x.split('Middle0')[1]))\n",
    "\n",
    "fragrance_top_middle_base_notes_df['middle_1'] = (fragrance_top_middle_base_notes_df['2'][fragrance_top_middle_base_notes_df['2']\n",
    "                                                     .apply(lambda x: x[:len('Middle1')] == 'Middle1')]\n",
    "                                                     .apply(lambda x: x.split('Middle1')[1]))\n",
    "\n",
    "# Which base notes does this column contain?\n",
    "col_2_bases = (fragrance_top_middle_base_notes_df['2'][fragrance_top_middle_base_notes_df['2']\n",
    "                                                        .apply(lambda x: x[: len('Base')]) == 'Base'])\n",
    "ipd(col_2_bases.apply(lambda x: x[: len('base_')]).value_counts())\n",
    "\n",
    "\n",
    "# Extract the 'Base0' notes\n",
    "\n",
    "fragrance_top_middle_base_notes_df['base_0'] = (fragrance_top_middle_base_notes_df['2'][fragrance_top_middle_base_notes_df['2']\n",
    "                                                     .apply(lambda x: x[:len('Base0')] == 'Base0')]\n",
    "                                                     .apply(lambda x: x.split('Base0')[1]))\n",
    "\n",
    "\n",
    "# # Make sure null count matches are correct\n",
    "\n",
    "# ipd(fragrance_top_middle_base_notes_df[['top_2', 'middle_0_1', 'middle_1', 'base_0']].isnull().sum())\n",
    "\n",
    "# Preview\n",
    "fragrance_top_middle_base_notes_df.iloc[89:95, :]"
   ]
  },
  {
   "cell_type": "markdown",
   "metadata": {},
   "source": [
    "#### Column `3`"
   ]
  },
  {
   "cell_type": "code",
   "execution_count": 128,
   "metadata": {
    "scrolled": true
   },
   "outputs": [
    {
     "data": {
      "text/markdown": [
       "**'Top3', 'Midd' (for 'Middle') and 'Base' appear in this column. Let's break them into two separate columns.**"
      ],
      "text/plain": [
       "<IPython.core.display.Markdown object>"
      ]
     },
     "metadata": {},
     "output_type": "display_data"
    },
    {
     "data": {
      "text/plain": [
       "Midd    21300\n",
       "Top3    17255\n",
       "Base     3350\n",
       "Name: 3, dtype: int64"
      ]
     },
     "metadata": {},
     "output_type": "display_data"
    },
    {
     "data": {
      "text/plain": [
       "Middle0    14691\n",
       "Middle1     5883\n",
       "Middle2      726\n",
       "Name: 3, dtype: int64"
      ]
     },
     "metadata": {},
     "output_type": "display_data"
    },
    {
     "data": {
      "text/plain": [
       "Base0    2940\n",
       "Base1     410\n",
       "Name: 3, dtype: int64"
      ]
     },
     "metadata": {},
     "output_type": "display_data"
    },
    {
     "data": {
      "text/html": [
       "<div>\n",
       "<style scoped>\n",
       "    .dataframe tbody tr th:only-of-type {\n",
       "        vertical-align: middle;\n",
       "    }\n",
       "\n",
       "    .dataframe tbody tr th {\n",
       "        vertical-align: top;\n",
       "    }\n",
       "\n",
       "    .dataframe thead th {\n",
       "        text-align: right;\n",
       "    }\n",
       "</style>\n",
       "<table border=\"1\" class=\"dataframe\">\n",
       "  <thead>\n",
       "    <tr style=\"text-align: right;\">\n",
       "      <th></th>\n",
       "      <th>title</th>\n",
       "      <th>top_0</th>\n",
       "      <th>1</th>\n",
       "      <th>2</th>\n",
       "      <th>3</th>\n",
       "      <th>top_1</th>\n",
       "      <th>middle_0</th>\n",
       "      <th>top_2</th>\n",
       "      <th>middle_0_1</th>\n",
       "      <th>middle_1</th>\n",
       "      <th>base_0</th>\n",
       "      <th>top_3</th>\n",
       "      <th>middle_0_2</th>\n",
       "      <th>middle_1_1</th>\n",
       "      <th>middle_2</th>\n",
       "      <th>base_0_1</th>\n",
       "      <th>base_1</th>\n",
       "    </tr>\n",
       "  </thead>\n",
       "  <tbody>\n",
       "    <tr>\n",
       "      <th>89</th>\n",
       "      <td>Secrets to Keep Avon for women</td>\n",
       "      <td>Apple</td>\n",
       "      <td>Top1Big Strawberry</td>\n",
       "      <td>Top2Jasmine</td>\n",
       "      <td>Top3White Musk</td>\n",
       "      <td>Big Strawberry</td>\n",
       "      <td>NaN</td>\n",
       "      <td>Jasmine</td>\n",
       "      <td>NaN</td>\n",
       "      <td>NaN</td>\n",
       "      <td>NaN</td>\n",
       "      <td>White Musk</td>\n",
       "      <td>NaN</td>\n",
       "      <td>NaN</td>\n",
       "      <td>NaN</td>\n",
       "      <td>NaN</td>\n",
       "      <td>NaN</td>\n",
       "    </tr>\n",
       "    <tr>\n",
       "      <th>90</th>\n",
       "      <td>Frutas Vermelhas Natura for women</td>\n",
       "      <td>Strawberry</td>\n",
       "      <td>Top1Pear</td>\n",
       "      <td>Top2Plum</td>\n",
       "      <td>Top3Apple</td>\n",
       "      <td>Pear</td>\n",
       "      <td>NaN</td>\n",
       "      <td>Plum</td>\n",
       "      <td>NaN</td>\n",
       "      <td>NaN</td>\n",
       "      <td>NaN</td>\n",
       "      <td>Apple</td>\n",
       "      <td>NaN</td>\n",
       "      <td>NaN</td>\n",
       "      <td>NaN</td>\n",
       "      <td>NaN</td>\n",
       "      <td>NaN</td>\n",
       "    </tr>\n",
       "    <tr>\n",
       "      <th>91</th>\n",
       "      <td>5th Element Women Nike for women</td>\n",
       "      <td>Big Strawberry</td>\n",
       "      <td>Top1Raspberry</td>\n",
       "      <td>Top2Mandarin Orange</td>\n",
       "      <td>Middle0Jasmine</td>\n",
       "      <td>Raspberry</td>\n",
       "      <td>NaN</td>\n",
       "      <td>Mandarin Orange</td>\n",
       "      <td>NaN</td>\n",
       "      <td>NaN</td>\n",
       "      <td>NaN</td>\n",
       "      <td>NaN</td>\n",
       "      <td>Jasmine</td>\n",
       "      <td>NaN</td>\n",
       "      <td>NaN</td>\n",
       "      <td>NaN</td>\n",
       "      <td>NaN</td>\n",
       "    </tr>\n",
       "    <tr>\n",
       "      <th>92</th>\n",
       "      <td>C-Thru Blooming Sarantis for women</td>\n",
       "      <td>Pineapple</td>\n",
       "      <td>Top1Pear</td>\n",
       "      <td>Top2Big Strawberry</td>\n",
       "      <td>Middle0Orange Blossom</td>\n",
       "      <td>Pear</td>\n",
       "      <td>NaN</td>\n",
       "      <td>Big Strawberry</td>\n",
       "      <td>NaN</td>\n",
       "      <td>NaN</td>\n",
       "      <td>NaN</td>\n",
       "      <td>NaN</td>\n",
       "      <td>Orange Blossom</td>\n",
       "      <td>NaN</td>\n",
       "      <td>NaN</td>\n",
       "      <td>NaN</td>\n",
       "      <td>NaN</td>\n",
       "    </tr>\n",
       "    <tr>\n",
       "      <th>93</th>\n",
       "      <td>Charlotte Aux Fraises Adopt' by Reserve Naturelle for women</td>\n",
       "      <td>Lemon</td>\n",
       "      <td>Middle0Big Strawberry</td>\n",
       "      <td>Middle1Milk</td>\n",
       "      <td>Middle2Cupcake</td>\n",
       "      <td>NaN</td>\n",
       "      <td>Big Strawberry</td>\n",
       "      <td>NaN</td>\n",
       "      <td>NaN</td>\n",
       "      <td>Milk</td>\n",
       "      <td>NaN</td>\n",
       "      <td>NaN</td>\n",
       "      <td>NaN</td>\n",
       "      <td>NaN</td>\n",
       "      <td>Cupcake</td>\n",
       "      <td>NaN</td>\n",
       "      <td>NaN</td>\n",
       "    </tr>\n",
       "    <tr>\n",
       "      <th>94</th>\n",
       "      <td>Strawberry Creme Candie's for women</td>\n",
       "      <td>Big Strawberry</td>\n",
       "      <td>Middle0Floral Notes</td>\n",
       "      <td>Base0Vanilla</td>\n",
       "      <td>Base1Whipped cream</td>\n",
       "      <td>NaN</td>\n",
       "      <td>Floral Notes</td>\n",
       "      <td>NaN</td>\n",
       "      <td>NaN</td>\n",
       "      <td>NaN</td>\n",
       "      <td>Vanilla</td>\n",
       "      <td>NaN</td>\n",
       "      <td>NaN</td>\n",
       "      <td>NaN</td>\n",
       "      <td>NaN</td>\n",
       "      <td>NaN</td>\n",
       "      <td>Whipped cream</td>\n",
       "    </tr>\n",
       "  </tbody>\n",
       "</table>\n",
       "</div>"
      ],
      "text/plain": [
       "                                                          title  \\\n",
       "89                               Secrets to Keep Avon for women   \n",
       "90                            Frutas Vermelhas Natura for women   \n",
       "91                             5th Element Women Nike for women   \n",
       "92                           C-Thru Blooming Sarantis for women   \n",
       "93  Charlotte Aux Fraises Adopt' by Reserve Naturelle for women   \n",
       "94                          Strawberry Creme Candie's for women   \n",
       "\n",
       "             top_0                      1                    2  \\\n",
       "89           Apple     Top1Big Strawberry          Top2Jasmine   \n",
       "90      Strawberry               Top1Pear             Top2Plum   \n",
       "91  Big Strawberry          Top1Raspberry  Top2Mandarin Orange   \n",
       "92       Pineapple               Top1Pear   Top2Big Strawberry   \n",
       "93           Lemon  Middle0Big Strawberry          Middle1Milk   \n",
       "94  Big Strawberry    Middle0Floral Notes         Base0Vanilla   \n",
       "\n",
       "                        3           top_1        middle_0            top_2  \\\n",
       "89         Top3White Musk  Big Strawberry             NaN          Jasmine   \n",
       "90              Top3Apple            Pear             NaN             Plum   \n",
       "91         Middle0Jasmine       Raspberry             NaN  Mandarin Orange   \n",
       "92  Middle0Orange Blossom            Pear             NaN   Big Strawberry   \n",
       "93         Middle2Cupcake             NaN  Big Strawberry              NaN   \n",
       "94     Base1Whipped cream             NaN    Floral Notes              NaN   \n",
       "\n",
       "   middle_0_1 middle_1   base_0       top_3      middle_0_2 middle_1_1  \\\n",
       "89        NaN      NaN      NaN  White Musk             NaN        NaN   \n",
       "90        NaN      NaN      NaN       Apple             NaN        NaN   \n",
       "91        NaN      NaN      NaN         NaN         Jasmine        NaN   \n",
       "92        NaN      NaN      NaN         NaN  Orange Blossom        NaN   \n",
       "93        NaN     Milk      NaN         NaN             NaN        NaN   \n",
       "94        NaN      NaN  Vanilla         NaN             NaN        NaN   \n",
       "\n",
       "   middle_2 base_0_1         base_1  \n",
       "89      NaN      NaN            NaN  \n",
       "90      NaN      NaN            NaN  \n",
       "91      NaN      NaN            NaN  \n",
       "92      NaN      NaN            NaN  \n",
       "93  Cupcake      NaN            NaN  \n",
       "94      NaN      NaN  Whipped cream  "
      ]
     },
     "execution_count": 128,
     "metadata": {},
     "output_type": "execute_result"
    }
   ],
   "source": [
    "printmd(\"**'Top3', 'Midd' (for 'Middle') and 'Base' appear in this column. Let's break them into two separate columns.**\")\n",
    "ipd(fragrance_top_middle_base_notes_df['3'].apply(lambda x: x[:4]). value_counts())\n",
    "\n",
    "# Extract the `Top3` note \n",
    "fragrance_top_middle_base_notes_df['top_3'] = (fragrance_top_middle_base_notes_df['3'][fragrance_top_middle_base_notes_df['3']\n",
    "                                                     .apply(lambda x: x[:len('Top3')] == 'Top3')]\n",
    "                                                     .apply(lambda x: x.split('Top3')[1]))\n",
    "\n",
    "# Which middle notes does this column contain?\n",
    "\n",
    "col_3_middles = (fragrance_top_middle_base_notes_df['3'][fragrance_top_middle_base_notes_df['3']\n",
    "                                                        .apply(lambda x: x[: len('Middle')]) == 'Middle'])\n",
    "\n",
    "ipd(col_3_middles.apply(lambda x: x[: len('Middle_')]).value_counts())\n",
    "\n",
    "# Extract the 'Middle0', 'Middle1' and 'Middle2' notes\n",
    "\n",
    "fragrance_top_middle_base_notes_df['middle_0_2'] = (fragrance_top_middle_base_notes_df['3'][fragrance_top_middle_base_notes_df['3']\n",
    "                                                     .apply(lambda x: x[:len('Middle0')] == 'Middle0')]\n",
    "                                                     .apply(lambda x: x.split('Middle0')[1]))\n",
    "\n",
    "fragrance_top_middle_base_notes_df['middle_1_1'] = (fragrance_top_middle_base_notes_df['3'][fragrance_top_middle_base_notes_df['3']\n",
    "                                                     .apply(lambda x: x[:len('Middle1')] == 'Middle1')]\n",
    "                                                     .apply(lambda x: x.split('Middle1')[1]))\n",
    "\n",
    "fragrance_top_middle_base_notes_df['middle_2'] = (fragrance_top_middle_base_notes_df['3'][fragrance_top_middle_base_notes_df['3']\n",
    "                                                     .apply(lambda x: x[:len('Middle2')] == 'Middle2')]\n",
    "                                                     .apply(lambda x: x.split('Middle2')[1]))\n",
    "\n",
    "# Which base notes does this column contain?\n",
    "col_3_bases = (fragrance_top_middle_base_notes_df['3'][fragrance_top_middle_base_notes_df['3']\n",
    "                                                        .apply(lambda x: x[: len('Base')]) == 'Base'])\n",
    "\n",
    "ipd(col_3_bases.apply(lambda x: x[: len('base_')]).value_counts())\n",
    "\n",
    "\n",
    "# Extract the 'Base0' and 'Base1' notes\n",
    "\n",
    "fragrance_top_middle_base_notes_df['base_0_1'] = (fragrance_top_middle_base_notes_df['3'][fragrance_top_middle_base_notes_df['3']\n",
    "                                                     .apply(lambda x: x[:len('Base0')] == 'Base0')]\n",
    "                                                     .apply(lambda x: x.split('Base0')[1]))\n",
    "\n",
    "fragrance_top_middle_base_notes_df['base_1'] = (fragrance_top_middle_base_notes_df['3'][fragrance_top_middle_base_notes_df['3']\n",
    "                                                     .apply(lambda x: x[:len('Base1')] == 'Base1')]\n",
    "                                                     .apply(lambda x: x.split('Base1')[1]))\n",
    "\n",
    "\n",
    "\n",
    "# Preview\n",
    "fragrance_top_middle_base_notes_df.iloc[89:95, :]"
   ]
  },
  {
   "cell_type": "code",
   "execution_count": 129,
   "metadata": {
    "scrolled": true
   },
   "outputs": [
    {
     "data": {
      "text/markdown": [
       "**top_middle_base_notes:**"
      ],
      "text/plain": [
       "<IPython.core.display.Markdown object>"
      ]
     },
     "metadata": {},
     "output_type": "display_data"
    },
    {
     "data": {
      "text/plain": [
       "array(['top_0', 'top_1', 'middle_0', 'top_2', 'middle_0_1', 'middle_1',\n",
       "       'base_0', 'top_3', 'middle_0_2', 'middle_1_1', 'middle_2',\n",
       "       'base_0_1', 'base_1'], dtype='<U10')"
      ]
     },
     "metadata": {},
     "output_type": "display_data"
    },
    {
     "data": {
      "text/markdown": [
       "**notes_names:**"
      ],
      "text/plain": [
       "<IPython.core.display.Markdown object>"
      ]
     },
     "metadata": {},
     "output_type": "display_data"
    },
    {
     "data": {
      "text/plain": [
       "array(['alcohol', 'aldehydic', 'almond', 'amber', 'animalic', 'anis',\n",
       "       'aquatic', 'aromatic', 'asphault', 'bacon', 'balsamic', 'bbq',\n",
       "       'beeswax', 'bitter', 'cacao', 'camphor', 'caramel', 'caramela',\n",
       "       'cherry', 'cinnamon', 'citrus', 'clay', 'coca-cola', 'coconut',\n",
       "       'coffee', 'cognac', 'conifer', 'earthy', 'floral', 'foresty',\n",
       "       'fresh', 'fresh spicy', 'fruity', 'gourmand', 'green', 'herbal',\n",
       "       'honey', 'industrial glue', 'lactonic', 'leather', 'marine',\n",
       "       'martini', 'metallic', 'milky', 'mossy', 'musky', 'narcotic',\n",
       "       'nutty', 'oud', 'ozonic', 'patchouli', 'plastic', 'powdery',\n",
       "       'rose', 'rum', 'salty', 'sand', 'savory', 'smoky', 'soapy',\n",
       "       'soft spicy', 'sour', 'sweet', 'tennis ball', 'terpenic',\n",
       "       'tobacco', 'tonka (coumarin)', 'tropical', 'tuberose', 'unknown',\n",
       "       'vanilla', 'vinyl', 'violet', 'vodka', 'warm spicy', 'watery',\n",
       "       'wet plaster', 'whiskey', 'white floral', 'white wine', 'wine',\n",
       "       'woody', 'yellow floral'], dtype='<U16')"
      ]
     },
     "execution_count": 129,
     "metadata": {},
     "output_type": "execute_result"
    }
   ],
   "source": [
    "top_middle_base_notes = [col for col in fragrance_top_middle_base_notes_df.columns if col not in ['title', '1', '2', '3']]\n",
    "\n",
    "printmd('**top_middle_base_notes:**')\n",
    "ipd(np.array(top_middle_base_notes))\n",
    "        \n",
    "printmd('**notes_names:**')\n",
    "np.array(notes_names)"
   ]
  },
  {
   "cell_type": "code",
   "execution_count": 302,
   "metadata": {},
   "outputs": [],
   "source": [
    "# Set columns sets for each category of top, middle and base\n",
    "\n",
    "top_cols = ['top_0', 'top_1', 'top_2', 'top_3']\n",
    "\n",
    "middle_cols = ['middle_0', 'middle_0_1', 'middle_1', 'middle_0_2', 'middle_1_1', 'middle_2', 'middle_total']\n",
    "\n",
    "base_cols = ['base_0', 'base_0_1', 'base_1']"
   ]
  },
  {
   "cell_type": "markdown",
   "metadata": {},
   "source": [
    "#### We'll combine the notes later once `top_middle_base_notes` are binarized"
   ]
  },
  {
   "cell_type": "code",
   "execution_count": 131,
   "metadata": {},
   "outputs": [],
   "source": [
    "# Export for safekeeping\n",
    "\n",
    "fragrance_top_middle_base_notes_df.to_csv('../data/data_subsets/fragrance_top_middle_base_notes_df.csv')"
   ]
  },
  {
   "cell_type": "markdown",
   "metadata": {},
   "source": [
    "- - - "
   ]
  },
  {
   "cell_type": "markdown",
   "metadata": {},
   "source": [
    "# EDA\n",
    "\n",
    "1. [x] `longevity` and `sillage`\n",
    "- [x] `clslove`, `clslike`, `clsdislike`\n",
    "- [x]  `average_rating_`\n",
    "- [ ]  Fragrance notes by `average_rating_`"
   ]
  },
  {
   "cell_type": "markdown",
   "metadata": {},
   "source": [
    "### 1. `longevity` and `sillage`"
   ]
  },
  {
   "cell_type": "code",
   "execution_count": 132,
   "metadata": {},
   "outputs": [
    {
     "data": {
      "image/png": "[encoded data removed]",
      "text/plain": [
       "<Figure size 432x288 with 2 Axes>"
      ]
     },
     "metadata": {},
     "output_type": "display_data"
    }
   ],
   "source": [
    "longevity_cols = [col for col in notes_ratings.columns if col.startswith('longevity')]\n",
    "sillage_cols = [col for col in notes_ratings.columns if col.startswith('sillage')]\n",
    "longevity_sillage_cols = [col for col in notes_ratings.columns if col.startswith('longevity') or col.startswith('sillage')]\n",
    "\n",
    "\n",
    "longevity_sillage_corr = notes_ratings[longevity_sillage_cols].corr()\n",
    "mask = np.zeros_like(longevity_sillage_corr)\n",
    "mask[np.triu_indices_from(mask)] = True\n",
    "\n",
    "# Check out heatmap of correlations\n",
    "sns.heatmap(notes_ratings[longevity_sillage_cols].corr(), \n",
    "           vmin = -1, \n",
    "           vmax = 1,\n",
    "           cmap = 'magma',\n",
    "           mask = False, \n",
    "           annot = True)\n",
    "\n",
    "plt.title('Heatmap of longevity vs. sillage in fragrances');\n",
    "\n",
    "# This code is taken with minor modifications from https://seaborn.pydata.org/generated/seaborn.heatmap.html and GA instructors"
   ]
  },
  {
   "cell_type": "code",
   "execution_count": 136,
   "metadata": {},
   "outputs": [
    {
     "data": {
      "text/markdown": [
       "**Fragrances with top 5 long `longevity` ratings:**"
      ],
      "text/plain": [
       "<IPython.core.display.Markdown object>"
      ]
     },
     "metadata": {},
     "output_type": "display_data"
    },
    {
     "data": {
      "text/html": [
       "<div>\n",
       "<style scoped>\n",
       "    .dataframe tbody tr th:only-of-type {\n",
       "        vertical-align: middle;\n",
       "    }\n",
       "\n",
       "    .dataframe tbody tr th {\n",
       "        vertical-align: top;\n",
       "    }\n",
       "\n",
       "    .dataframe thead th {\n",
       "        text-align: right;\n",
       "    }\n",
       "</style>\n",
       "<table border=\"1\" class=\"dataframe\">\n",
       "  <thead>\n",
       "    <tr style=\"text-align: right;\">\n",
       "      <th></th>\n",
       "      <th>title</th>\n",
       "      <th>longevity_very_long</th>\n",
       "    </tr>\n",
       "  </thead>\n",
       "  <tbody>\n",
       "    <tr>\n",
       "      <th>8463</th>\n",
       "      <td>Angel Mugler for women</td>\n",
       "      <td>1258</td>\n",
       "    </tr>\n",
       "    <tr>\n",
       "      <th>7133</th>\n",
       "      <td>Alien Mugler for women</td>\n",
       "      <td>1240</td>\n",
       "    </tr>\n",
       "    <tr>\n",
       "      <th>31280</th>\n",
       "      <td>A*Men Mugler for men</td>\n",
       "      <td>1212</td>\n",
       "    </tr>\n",
       "    <tr>\n",
       "      <th>12695</th>\n",
       "      <td>Black Orchid Tom Ford for women</td>\n",
       "      <td>1161</td>\n",
       "    </tr>\n",
       "    <tr>\n",
       "      <th>26347</th>\n",
       "      <td>Tobacco Vanille Tom Ford for women and men</td>\n",
       "      <td>968</td>\n",
       "    </tr>\n",
       "  </tbody>\n",
       "</table>\n",
       "</div>"
      ],
      "text/plain": [
       "                                            title  longevity_very_long\n",
       "8463                       Angel Mugler for women                 1258\n",
       "7133                       Alien Mugler for women                 1240\n",
       "31280                        A*Men Mugler for men                 1212\n",
       "12695             Black Orchid Tom Ford for women                 1161\n",
       "26347  Tobacco Vanille Tom Ford for women and men                  968"
      ]
     },
     "metadata": {},
     "output_type": "display_data"
    },
    {
     "data": {
      "text/markdown": [
       "**Summary stats for long `longevity` ratings:**"
      ],
      "text/plain": [
       "<IPython.core.display.Markdown object>"
      ]
     },
     "metadata": {},
     "output_type": "display_data"
    },
    {
     "data": {
      "text/html": [
       "<div>\n",
       "<style scoped>\n",
       "    .dataframe tbody tr th:only-of-type {\n",
       "        vertical-align: middle;\n",
       "    }\n",
       "\n",
       "    .dataframe tbody tr th {\n",
       "        vertical-align: top;\n",
       "    }\n",
       "\n",
       "    .dataframe thead th {\n",
       "        text-align: right;\n",
       "    }\n",
       "</style>\n",
       "<table border=\"1\" class=\"dataframe\">\n",
       "  <thead>\n",
       "    <tr style=\"text-align: right;\">\n",
       "      <th></th>\n",
       "      <th>longevity_very_long</th>\n",
       "    </tr>\n",
       "  </thead>\n",
       "  <tbody>\n",
       "    <tr>\n",
       "      <th>count</th>\n",
       "      <td>41905.000000</td>\n",
       "    </tr>\n",
       "    <tr>\n",
       "      <th>mean</th>\n",
       "      <td>4.318983</td>\n",
       "    </tr>\n",
       "    <tr>\n",
       "      <th>std</th>\n",
       "      <td>24.921431</td>\n",
       "    </tr>\n",
       "    <tr>\n",
       "      <th>min</th>\n",
       "      <td>0.000000</td>\n",
       "    </tr>\n",
       "    <tr>\n",
       "      <th>25%</th>\n",
       "      <td>0.000000</td>\n",
       "    </tr>\n",
       "    <tr>\n",
       "      <th>50%</th>\n",
       "      <td>1.000000</td>\n",
       "    </tr>\n",
       "    <tr>\n",
       "      <th>75%</th>\n",
       "      <td>2.000000</td>\n",
       "    </tr>\n",
       "    <tr>\n",
       "      <th>max</th>\n",
       "      <td>1258.000000</td>\n",
       "    </tr>\n",
       "  </tbody>\n",
       "</table>\n",
       "</div>"
      ],
      "text/plain": [
       "       longevity_very_long\n",
       "count         41905.000000\n",
       "mean              4.318983\n",
       "std              24.921431\n",
       "min               0.000000\n",
       "25%               0.000000\n",
       "50%               1.000000\n",
       "75%               2.000000\n",
       "max            1258.000000"
      ]
     },
     "metadata": {},
     "output_type": "display_data"
    }
   ],
   "source": [
    "# Let's look more closely at `longevity` and `sillage` features\n",
    "\n",
    "longevity_sillage_df = pd.concat([notes_ratings['title'], notes_ratings[longevity_sillage_cols]], axis = 1)\n",
    "longevity_sillage_df = longevity_sillage_df.drop_duplicates()\n",
    "\n",
    "# Let's look at one feature as an example: `longevity_very_long`\n",
    "\n",
    "printmd('**Fragrances with top 5 long `longevity` ratings:**')\n",
    "ipd(longevity_sillage_df[['title', 'longevity_very_long']].sort_values(by = 'longevity_very_long',\n",
    "                                                                  ascending = False).head(5))\n",
    "\n",
    "printmd('**Summary stats for long `longevity` ratings:**')\n",
    "ipd(longevity_sillage_df[['title', 'longevity_very_long']].describe())"
   ]
  },
  {
   "cell_type": "markdown",
   "metadata": {},
   "source": [
    "**Takeaway questions:**\n",
    "\n",
    "1. What is the scale of the `longevity_very_long` feature?\n",
    "\n",
    "\n",
    "2. Is it the sum of user ratings for each review? If so, how to extract the review count from the source (if possible), since the review-level detail isn't available?\n",
    "\n",
    "**Further digging is needed, but outside the project scope**\n",
    "\n",
    "**An extension of this project would look at this further.**"
   ]
  },
  {
   "cell_type": "code",
   "execution_count": 137,
   "metadata": {},
   "outputs": [],
   "source": [
    "# Drop `longevity` and `sillage` columns to declutter the dataset\n",
    "notes_ratings.drop(columns = longevity_sillage_cols, inplace = True)"
   ]
  },
  {
   "cell_type": "markdown",
   "metadata": {},
   "source": [
    "_ _ _"
   ]
  },
  {
   "cell_type": "markdown",
   "metadata": {},
   "source": [
    "### 2. `clslove`, `clslike`, `clsdislike`"
   ]
  },
  {
   "cell_type": "code",
   "execution_count": 138,
   "metadata": {},
   "outputs": [
    {
     "data": {
      "text/html": [
       "<div>\n",
       "<style scoped>\n",
       "    .dataframe tbody tr th:only-of-type {\n",
       "        vertical-align: middle;\n",
       "    }\n",
       "\n",
       "    .dataframe tbody tr th {\n",
       "        vertical-align: top;\n",
       "    }\n",
       "\n",
       "    .dataframe thead th {\n",
       "        text-align: right;\n",
       "    }\n",
       "</style>\n",
       "<table border=\"1\" class=\"dataframe\">\n",
       "  <thead>\n",
       "    <tr style=\"text-align: right;\">\n",
       "      <th></th>\n",
       "      <th>clslove</th>\n",
       "      <th>clslike</th>\n",
       "      <th>clsdislike</th>\n",
       "    </tr>\n",
       "  </thead>\n",
       "  <tbody>\n",
       "    <tr>\n",
       "      <th>count</th>\n",
       "      <td>41905.000000</td>\n",
       "      <td>41905.000000</td>\n",
       "      <td>41905.000000</td>\n",
       "    </tr>\n",
       "    <tr>\n",
       "      <th>mean</th>\n",
       "      <td>65.719938</td>\n",
       "      <td>70.617015</td>\n",
       "      <td>29.888939</td>\n",
       "    </tr>\n",
       "    <tr>\n",
       "      <th>std</th>\n",
       "      <td>36.070871</td>\n",
       "      <td>35.461496</td>\n",
       "      <td>29.548864</td>\n",
       "    </tr>\n",
       "    <tr>\n",
       "      <th>min</th>\n",
       "      <td>1.000000</td>\n",
       "      <td>1.000000</td>\n",
       "      <td>1.000000</td>\n",
       "    </tr>\n",
       "    <tr>\n",
       "      <th>25%</th>\n",
       "      <td>38.000000</td>\n",
       "      <td>50.000000</td>\n",
       "      <td>1.000000</td>\n",
       "    </tr>\n",
       "    <tr>\n",
       "      <th>50%</th>\n",
       "      <td>75.000000</td>\n",
       "      <td>90.000000</td>\n",
       "      <td>24.000000</td>\n",
       "    </tr>\n",
       "    <tr>\n",
       "      <th>75%</th>\n",
       "      <td>100.000000</td>\n",
       "      <td>100.000000</td>\n",
       "      <td>44.000000</td>\n",
       "    </tr>\n",
       "    <tr>\n",
       "      <th>max</th>\n",
       "      <td>100.000000</td>\n",
       "      <td>100.000000</td>\n",
       "      <td>100.000000</td>\n",
       "    </tr>\n",
       "  </tbody>\n",
       "</table>\n",
       "</div>"
      ],
      "text/plain": [
       "            clslove       clslike    clsdislike\n",
       "count  41905.000000  41905.000000  41905.000000\n",
       "mean      65.719938     70.617015     29.888939\n",
       "std       36.070871     35.461496     29.548864\n",
       "min        1.000000      1.000000      1.000000\n",
       "25%       38.000000     50.000000      1.000000\n",
       "50%       75.000000     90.000000     24.000000\n",
       "75%      100.000000    100.000000     44.000000\n",
       "max      100.000000    100.000000    100.000000"
      ]
     },
     "metadata": {},
     "output_type": "display_data"
    },
    {
     "name": "stdout",
     "output_type": "stream",
     "text": [
      "Null count: 0\n"
     ]
    },
    {
     "data": {
      "text/html": [
       "<div>\n",
       "<style scoped>\n",
       "    .dataframe tbody tr th:only-of-type {\n",
       "        vertical-align: middle;\n",
       "    }\n",
       "\n",
       "    .dataframe tbody tr th {\n",
       "        vertical-align: top;\n",
       "    }\n",
       "\n",
       "    .dataframe thead th {\n",
       "        text-align: right;\n",
       "    }\n",
       "</style>\n",
       "<table border=\"1\" class=\"dataframe\">\n",
       "  <thead>\n",
       "    <tr style=\"text-align: right;\">\n",
       "      <th></th>\n",
       "      <th>title</th>\n",
       "      <th>clslove</th>\n",
       "      <th>clslike</th>\n",
       "      <th>clsdislike</th>\n",
       "    </tr>\n",
       "  </thead>\n",
       "  <tbody>\n",
       "    <tr>\n",
       "      <th>0</th>\n",
       "      <td>Aamal The Spirit of Dubai for women and men</td>\n",
       "      <td>100</td>\n",
       "      <td>1</td>\n",
       "      <td>1</td>\n",
       "    </tr>\n",
       "    <tr>\n",
       "      <th>1</th>\n",
       "      <td>Aatifa Ajmal for women and men</td>\n",
       "      <td>100</td>\n",
       "      <td>80</td>\n",
       "      <td>20</td>\n",
       "    </tr>\n",
       "    <tr>\n",
       "      <th>2</th>\n",
       "      <td>Aaliyah Xyrena for women and men</td>\n",
       "      <td>100</td>\n",
       "      <td>25</td>\n",
       "      <td>25</td>\n",
       "    </tr>\n",
       "    <tr>\n",
       "      <th>3</th>\n",
       "      <td>AAA Al-Jazeera Perfumes for women and men</td>\n",
       "      <td>100</td>\n",
       "      <td>33</td>\n",
       "      <td>1</td>\n",
       "    </tr>\n",
       "    <tr>\n",
       "      <th>4</th>\n",
       "      <td>c’i'aan source adage NYC for women and men</td>\n",
       "      <td>66</td>\n",
       "      <td>100</td>\n",
       "      <td>33</td>\n",
       "    </tr>\n",
       "    <tr>\n",
       "      <th>...</th>\n",
       "      <td>...</td>\n",
       "      <td>...</td>\n",
       "      <td>...</td>\n",
       "      <td>...</td>\n",
       "    </tr>\n",
       "    <tr>\n",
       "      <th>41900</th>\n",
       "      <td>Tesey Les Contes for men</td>\n",
       "      <td>1</td>\n",
       "      <td>100</td>\n",
       "      <td>1</td>\n",
       "    </tr>\n",
       "    <tr>\n",
       "      <th>41901</th>\n",
       "      <td>Quasar Alchimista for women and men</td>\n",
       "      <td>40</td>\n",
       "      <td>100</td>\n",
       "      <td>20</td>\n",
       "    </tr>\n",
       "    <tr>\n",
       "      <th>41902</th>\n",
       "      <td>Onyx &amp; Peridot Sage Machado for women</td>\n",
       "      <td>50</td>\n",
       "      <td>100</td>\n",
       "      <td>50</td>\n",
       "    </tr>\n",
       "    <tr>\n",
       "      <th>41903</th>\n",
       "      <td>Sine Tempore Arte Profumi for women and men</td>\n",
       "      <td>1</td>\n",
       "      <td>100</td>\n",
       "      <td>1</td>\n",
       "    </tr>\n",
       "    <tr>\n",
       "      <th>41904</th>\n",
       "      <td>Oud Extravagant Maitre Parfumeur et Gantier for women and men</td>\n",
       "      <td>66</td>\n",
       "      <td>1</td>\n",
       "      <td>33</td>\n",
       "    </tr>\n",
       "  </tbody>\n",
       "</table>\n",
       "<p>41905 rows × 4 columns</p>\n",
       "</div>"
      ],
      "text/plain": [
       "                                                               title  clslove  \\\n",
       "0                        Aamal The Spirit of Dubai for women and men      100   \n",
       "1                                     Aatifa Ajmal for women and men      100   \n",
       "2                                   Aaliyah Xyrena for women and men      100   \n",
       "3                          AAA Al-Jazeera Perfumes for women and men      100   \n",
       "4                         c’i'aan source adage NYC for women and men       66   \n",
       "...                                                              ...      ...   \n",
       "41900                                       Tesey Les Contes for men        1   \n",
       "41901                            Quasar Alchimista for women and men       40   \n",
       "41902                          Onyx & Peridot Sage Machado for women       50   \n",
       "41903                    Sine Tempore Arte Profumi for women and men        1   \n",
       "41904  Oud Extravagant Maitre Parfumeur et Gantier for women and men       66   \n",
       "\n",
       "       clslike  clsdislike  \n",
       "0            1           1  \n",
       "1           80          20  \n",
       "2           25          25  \n",
       "3           33           1  \n",
       "4          100          33  \n",
       "...        ...         ...  \n",
       "41900      100           1  \n",
       "41901      100          20  \n",
       "41902      100          50  \n",
       "41903      100           1  \n",
       "41904        1          33  \n",
       "\n",
       "[41905 rows x 4 columns]"
      ]
     },
     "execution_count": 138,
     "metadata": {},
     "output_type": "execute_result"
    }
   ],
   "source": [
    "love_like_dislike_df = notes_ratings[['title', 'clslove', 'clslike', 'clsdislike']].drop_duplicates()\n",
    "ipd(love_like_dislike_df.describe())\n",
    "\n",
    "print(f'Null count: {love_like_dislike_df.isnull().sum().sum()}')\n",
    "\n",
    "love_like_dislike_df"
   ]
  },
  {
   "cell_type": "markdown",
   "metadata": {},
   "source": [
    "**Takeaway questions:** How does a 100 score on `clslove`, a 65 score on `clslike` and a 33 score on `clsdislike` stack up relative to each other and relative to the whole set of reviews on which these scores were based?\n",
    "\n",
    "**Let's drop `clslove`, `clslike`, `clsdislike` since we can't readily make sense of the proportions.**"
   ]
  },
  {
   "cell_type": "code",
   "execution_count": 139,
   "metadata": {},
   "outputs": [],
   "source": [
    "# Drop `clslove`, `clslike`, `clsdislike` to declutter the dataset\n",
    "notes_ratings.drop(columns = ['clslove', 'clslike', 'clsdislike'], inplace = True)"
   ]
  },
  {
   "cell_type": "markdown",
   "metadata": {},
   "source": [
    "**I see the writing on the wall re: hard-to-work-with `cls` columns (unknown scale, unknown collection practices, etc.). Let's just drop them.**\n",
    "\n",
    "**It would be nice to preserve as much original data as possible, but we will take another tack here (sentiment analysis, clustering, etc.) here. More to come!**"
   ]
  },
  {
   "cell_type": "code",
   "execution_count": 140,
   "metadata": {},
   "outputs": [
    {
     "data": {
      "text/plain": [
       "3"
      ]
     },
     "metadata": {},
     "output_type": "display_data"
    }
   ],
   "source": [
    "# Drop the rest of the `cls` columns to declutter the dataset\n",
    "\n",
    "notes_ratings.drop(columns = [col for col in notes_ratings.columns if col.startswith('cls')], inplace = True)\n",
    "\n",
    "# Drop the `I _ it` columns to declutter the dataset\n",
    "\n",
    "notes_ratings.drop(columns = ['Ihaveit', 'Ihadit', 'Iwantit'], inplace = True)\n",
    "\n",
    "# While we're at it, what's going on with the `Champagne` column?\n",
    "ipd(notes_ratings['Champagne'].sum())\n",
    "\n",
    "# This column has no info. Let's drop it\n",
    "notes_ratings.drop(columns = 'Champagne', inplace = True)"
   ]
  },
  {
   "cell_type": "code",
   "execution_count": 141,
   "metadata": {},
   "outputs": [
    {
     "data": {
      "text/markdown": [
       "**Updated column names**"
      ],
      "text/plain": [
       "<IPython.core.display.Markdown object>"
      ]
     },
     "metadata": {},
     "output_type": "display_data"
    },
    {
     "data": {
      "text/plain": [
       "array(['url', 'title', 'perfume_id', 'people', 'average_rating_', 'date',\n",
       "       '0', '1', '2', '3', 'Pictures', 'Videos', 'alcohol', 'aldehydic',\n",
       "       'almond', 'amber', 'animalic', 'anis', 'aquatic', 'aromatic',\n",
       "       'asphault', 'bacon', 'balsamic', 'bbq', 'beeswax', 'bitter',\n",
       "       'cacao', 'camphor', 'caramel', 'caramela', 'cherry', 'cinnamon',\n",
       "       'citrus', 'clay', 'coca-cola', 'coconut', 'coffee', 'cognac',\n",
       "       'conifer', 'earthy', 'floral', 'foresty', 'fresh', 'fresh spicy',\n",
       "       'fruity', 'gourmand', 'green', 'herbal', 'honey',\n",
       "       'industrial glue', 'lactonic', 'leather', 'marine', 'martini',\n",
       "       'metallic', 'milky', 'mossy', 'musky', 'narcotic', 'nutty', 'oud',\n",
       "       'ozonic', 'patchouli', 'plastic', 'powdery', 'rose', 'rum',\n",
       "       'salty', 'sand', 'savory', 'smoky', 'soapy', 'soft spicy', 'sour',\n",
       "       'sweet', 'tennis ball', 'terpenic', 'tobacco', 'tonka (coumarin)',\n",
       "       'tropical', 'tuberose', 'unknown', 'vanilla', 'vinyl', 'violet',\n",
       "       'vodka', 'warm spicy', 'watery', 'wet plaster', 'whiskey',\n",
       "       'white floral', 'white wine', 'wine', 'woody', 'yellow floral'],\n",
       "      dtype=object)"
      ]
     },
     "execution_count": 141,
     "metadata": {},
     "output_type": "execute_result"
    }
   ],
   "source": [
    "printmd('**Updated column names**')\n",
    "cols_notes_ratings = np.array(notes_ratings.columns)\n",
    "cols_notes_ratings"
   ]
  },
  {
   "cell_type": "markdown",
   "metadata": {},
   "source": [
    "_ _ _"
   ]
  },
  {
   "cell_type": "markdown",
   "metadata": {},
   "source": [
    "### 3. `average_rating_`"
   ]
  },
  {
   "cell_type": "code",
   "execution_count": 142,
   "metadata": {
    "scrolled": true
   },
   "outputs": [
    {
     "data": {
      "text/markdown": [
       "**We will treat `ratings_bins` as an ordinal categorical variable, since the values are discrete.**"
      ],
      "text/plain": [
       "<IPython.core.display.Markdown object>"
      ]
     },
     "metadata": {},
     "output_type": "display_data"
    },
    {
     "data": {
      "text/markdown": [
       "**Counts of `ratings_bins`:**"
      ],
      "text/plain": [
       "<IPython.core.display.Markdown object>"
      ]
     },
     "metadata": {},
     "output_type": "display_data"
    },
    {
     "data": {
      "text/plain": [
       "4    19599\n",
       "3    16704\n",
       "5     2819\n",
       "2     1903\n",
       "1      880\n",
       "Name: ratings_bins, dtype: int64"
      ]
     },
     "metadata": {},
     "output_type": "display_data"
    },
    {
     "data": {
      "text/markdown": [
       "**Proportions of `ratings_bins`:**"
      ],
      "text/plain": [
       "<IPython.core.display.Markdown object>"
      ]
     },
     "metadata": {},
     "output_type": "display_data"
    },
    {
     "data": {
      "text/plain": [
       "4    0.467701\n",
       "3    0.398616\n",
       "5    0.067271\n",
       "2    0.045412\n",
       "1    0.021000\n",
       "Name: ratings_bins, dtype: float64"
      ]
     },
     "metadata": {},
     "output_type": "display_data"
    },
    {
     "data": {
      "text/markdown": [
       "**The classes of `ratings_bins` are unbalanced.**"
      ],
      "text/plain": [
       "<IPython.core.display.Markdown object>"
      ]
     },
     "metadata": {},
     "output_type": "display_data"
    }
   ],
   "source": [
    "printmd('**We will treat `ratings_bins` as an ordinal categorical variable, since the values are discrete.**')\n",
    "\n",
    "ratings_bins = notes_ratings['average_rating_'].apply(lambda x: str(x)[0])\n",
    "\n",
    "notes_ratings['ratings_bins'] = ratings_bins\n",
    "\n",
    "printmd('**Counts of `ratings_bins`:**')\n",
    "ipd(notes_ratings['ratings_bins'].value_counts(normalize = False)\n",
    "                             .sort_values(ascending = False))\n",
    "\n",
    "printmd('**Proportions of `ratings_bins`:**')\n",
    "ipd(notes_ratings['ratings_bins'].value_counts(normalize = True)\n",
    "                             .sort_values(ascending = False))\n",
    "\n",
    "printmd(\"**The classes of `ratings_bins` are unbalanced.**\")"
   ]
  },
  {
   "cell_type": "code",
   "execution_count": 143,
   "metadata": {},
   "outputs": [
    {
     "data": {
      "text/markdown": [
       "**Let's check out the target variable, `average_rating`**"
      ],
      "text/plain": [
       "<IPython.core.display.Markdown object>"
      ]
     },
     "metadata": {},
     "output_type": "display_data"
    },
    {
     "data": {
      "text/plain": [
       "count    41905.000000\n",
       "mean         3.901397\n",
       "std          0.695807\n",
       "min          1.000000\n",
       "25%          3.640000\n",
       "50%          4.000000\n",
       "75%          4.300000\n",
       "max          5.000000\n",
       "Name: average_rating_, dtype: float64"
      ]
     },
     "metadata": {},
     "output_type": "display_data"
    }
   ],
   "source": [
    "printmd(\"**Let's check out the target variable, `average_rating`**\")\n",
    "ipd(notes_ratings['average_rating_'].describe())"
   ]
  },
  {
   "cell_type": "code",
   "execution_count": 150,
   "metadata": {
    "scrolled": false
   },
   "outputs": [
    {
     "data": {
      "image/png": "[encoded data removed]",
      "text/plain": [
       "<Figure size 432x288 with 1 Axes>"
      ]
     },
     "metadata": {},
     "output_type": "display_data"
    }
   ],
   "source": [
    "notes_ratings['average_rating_'].hist(color = 'gold', \n",
    "                                      grid = False)\n",
    "plt.xlabel('Average rating', size = 12)\n",
    "plt.yticks(size = 12)\n",
    "plt.title('Ratings approach normal distribution (some left skew)', size = 14)\n",
    "plt.savefig('../figures/distn_average_rating.png')"
   ]
  },
  {
   "cell_type": "markdown",
   "metadata": {},
   "source": [
    "#### Merge the original dataframe (`notes_ratings`) with:\n",
    "\n",
    "#### Additional extracted notes (`fragrance_top_middle_base_notes_df`)"
   ]
  },
  {
   "cell_type": "code",
   "execution_count": 86,
   "metadata": {},
   "outputs": [
    {
     "data": {
      "text/html": [
       "<div>\n",
       "<style scoped>\n",
       "    .dataframe tbody tr th:only-of-type {\n",
       "        vertical-align: middle;\n",
       "    }\n",
       "\n",
       "    .dataframe tbody tr th {\n",
       "        vertical-align: top;\n",
       "    }\n",
       "\n",
       "    .dataframe thead th {\n",
       "        text-align: right;\n",
       "    }\n",
       "</style>\n",
       "<table border=\"1\" class=\"dataframe\">\n",
       "  <thead>\n",
       "    <tr style=\"text-align: right;\">\n",
       "      <th></th>\n",
       "      <th>url</th>\n",
       "      <th>title</th>\n",
       "      <th>average_rating_</th>\n",
       "      <th>alcohol</th>\n",
       "      <th>aldehydic</th>\n",
       "      <th>almond</th>\n",
       "      <th>amber</th>\n",
       "      <th>animalic</th>\n",
       "      <th>anis</th>\n",
       "      <th>aquatic</th>\n",
       "      <th>aromatic</th>\n",
       "      <th>asphault</th>\n",
       "      <th>bacon</th>\n",
       "      <th>balsamic</th>\n",
       "      <th>bbq</th>\n",
       "      <th>beeswax</th>\n",
       "      <th>bitter</th>\n",
       "      <th>cacao</th>\n",
       "      <th>camphor</th>\n",
       "      <th>caramel</th>\n",
       "      <th>caramela</th>\n",
       "      <th>cherry</th>\n",
       "      <th>cinnamon</th>\n",
       "      <th>citrus</th>\n",
       "      <th>clay</th>\n",
       "      <th>coca-cola</th>\n",
       "      <th>coconut</th>\n",
       "      <th>coffee</th>\n",
       "      <th>cognac</th>\n",
       "      <th>conifer</th>\n",
       "      <th>earthy</th>\n",
       "      <th>floral</th>\n",
       "      <th>foresty</th>\n",
       "      <th>fresh</th>\n",
       "      <th>fresh spicy</th>\n",
       "      <th>fruity</th>\n",
       "      <th>gourmand</th>\n",
       "      <th>green</th>\n",
       "      <th>herbal</th>\n",
       "      <th>honey</th>\n",
       "      <th>industrial glue</th>\n",
       "      <th>lactonic</th>\n",
       "      <th>...</th>\n",
       "      <th>salty</th>\n",
       "      <th>sand</th>\n",
       "      <th>savory</th>\n",
       "      <th>smoky</th>\n",
       "      <th>soapy</th>\n",
       "      <th>soft spicy</th>\n",
       "      <th>sour</th>\n",
       "      <th>sweet</th>\n",
       "      <th>tennis ball</th>\n",
       "      <th>terpenic</th>\n",
       "      <th>tobacco</th>\n",
       "      <th>tonka (coumarin)</th>\n",
       "      <th>tropical</th>\n",
       "      <th>tuberose</th>\n",
       "      <th>unknown</th>\n",
       "      <th>vanilla</th>\n",
       "      <th>vinyl</th>\n",
       "      <th>violet</th>\n",
       "      <th>vodka</th>\n",
       "      <th>warm spicy</th>\n",
       "      <th>watery</th>\n",
       "      <th>wet plaster</th>\n",
       "      <th>whiskey</th>\n",
       "      <th>white floral</th>\n",
       "      <th>white wine</th>\n",
       "      <th>wine</th>\n",
       "      <th>woody</th>\n",
       "      <th>yellow floral</th>\n",
       "      <th>ratings_bins</th>\n",
       "      <th>top_0</th>\n",
       "      <th>top_1</th>\n",
       "      <th>middle_0</th>\n",
       "      <th>top_2</th>\n",
       "      <th>middle_0_1</th>\n",
       "      <th>middle_1</th>\n",
       "      <th>base_0</th>\n",
       "      <th>top_3</th>\n",
       "      <th>middle_0_2</th>\n",
       "      <th>middle_1_1</th>\n",
       "      <th>middle_2</th>\n",
       "      <th>base_0_1</th>\n",
       "      <th>base_1</th>\n",
       "    </tr>\n",
       "  </thead>\n",
       "  <tbody>\n",
       "    <tr>\n",
       "      <th>0</th>\n",
       "      <td>https://www.fragrantica.com/perfume/The-Spirit-of-Dubai/Aamal-44152.html</td>\n",
       "      <td>Aamal The Spirit of Dubai for women and men</td>\n",
       "      <td>5.0</td>\n",
       "      <td>0</td>\n",
       "      <td>0</td>\n",
       "      <td>0</td>\n",
       "      <td>1</td>\n",
       "      <td>1</td>\n",
       "      <td>0</td>\n",
       "      <td>0</td>\n",
       "      <td>0</td>\n",
       "      <td>0</td>\n",
       "      <td>0</td>\n",
       "      <td>1</td>\n",
       "      <td>0</td>\n",
       "      <td>0</td>\n",
       "      <td>0</td>\n",
       "      <td>0</td>\n",
       "      <td>0</td>\n",
       "      <td>0</td>\n",
       "      <td>0</td>\n",
       "      <td>0</td>\n",
       "      <td>0</td>\n",
       "      <td>0</td>\n",
       "      <td>0</td>\n",
       "      <td>0</td>\n",
       "      <td>0</td>\n",
       "      <td>0</td>\n",
       "      <td>0</td>\n",
       "      <td>0</td>\n",
       "      <td>1</td>\n",
       "      <td>0</td>\n",
       "      <td>0</td>\n",
       "      <td>0</td>\n",
       "      <td>0</td>\n",
       "      <td>0</td>\n",
       "      <td>0</td>\n",
       "      <td>0</td>\n",
       "      <td>0</td>\n",
       "      <td>0</td>\n",
       "      <td>0</td>\n",
       "      <td>0</td>\n",
       "      <td>...</td>\n",
       "      <td>0</td>\n",
       "      <td>0</td>\n",
       "      <td>0</td>\n",
       "      <td>0</td>\n",
       "      <td>0</td>\n",
       "      <td>0</td>\n",
       "      <td>0</td>\n",
       "      <td>0</td>\n",
       "      <td>0</td>\n",
       "      <td>0</td>\n",
       "      <td>0</td>\n",
       "      <td>0</td>\n",
       "      <td>0</td>\n",
       "      <td>0</td>\n",
       "      <td>0</td>\n",
       "      <td>0</td>\n",
       "      <td>0</td>\n",
       "      <td>0</td>\n",
       "      <td>0</td>\n",
       "      <td>0</td>\n",
       "      <td>0</td>\n",
       "      <td>0</td>\n",
       "      <td>0</td>\n",
       "      <td>0</td>\n",
       "      <td>0</td>\n",
       "      <td>0</td>\n",
       "      <td>1</td>\n",
       "      <td>0</td>\n",
       "      <td>5</td>\n",
       "      <td>Turkish Rose</td>\n",
       "      <td>Bulgarian Rose</td>\n",
       "      <td>NaN</td>\n",
       "      <td>Bergamot</td>\n",
       "      <td>NaN</td>\n",
       "      <td>NaN</td>\n",
       "      <td>NaN</td>\n",
       "      <td>Fruits</td>\n",
       "      <td>NaN</td>\n",
       "      <td>NaN</td>\n",
       "      <td>NaN</td>\n",
       "      <td>NaN</td>\n",
       "      <td>NaN</td>\n",
       "    </tr>\n",
       "  </tbody>\n",
       "</table>\n",
       "<p>1 rows × 100 columns</p>\n",
       "</div>"
      ],
      "text/plain": [
       "                                                                        url  \\\n",
       "0  https://www.fragrantica.com/perfume/The-Spirit-of-Dubai/Aamal-44152.html   \n",
       "\n",
       "                                         title  average_rating_  alcohol  \\\n",
       "0  Aamal The Spirit of Dubai for women and men              5.0        0   \n",
       "\n",
       "   aldehydic  almond  amber  animalic  anis  aquatic  aromatic  asphault  \\\n",
       "0          0       0      1         1     0        0         0         0   \n",
       "\n",
       "   bacon  balsamic  bbq  beeswax  bitter  cacao  camphor  caramel  caramela  \\\n",
       "0      0         1    0        0       0      0        0        0         0   \n",
       "\n",
       "   cherry  cinnamon  citrus  clay  coca-cola  coconut  coffee  cognac  \\\n",
       "0       0         0       0     0          0        0       0       0   \n",
       "\n",
       "   conifer  earthy  floral  foresty  fresh  fresh spicy  fruity  gourmand  \\\n",
       "0        0       1       0        0      0            0       0         0   \n",
       "\n",
       "   green  herbal  honey  industrial glue  lactonic  ...  salty  sand  savory  \\\n",
       "0      0       0      0                0         0  ...      0     0       0   \n",
       "\n",
       "   smoky  soapy  soft spicy  sour  sweet  tennis ball  terpenic  tobacco  \\\n",
       "0      0      0           0     0      0            0         0        0   \n",
       "\n",
       "   tonka (coumarin)  tropical  tuberose  unknown  vanilla  vinyl  violet  \\\n",
       "0                 0         0         0        0        0      0       0   \n",
       "\n",
       "   vodka  warm spicy  watery  wet plaster  whiskey  white floral  white wine  \\\n",
       "0      0           0       0            0        0             0           0   \n",
       "\n",
       "   wine  woody  yellow floral  ratings_bins         top_0           top_1  \\\n",
       "0     0      1              0             5  Turkish Rose  Bulgarian Rose   \n",
       "\n",
       "   middle_0     top_2  middle_0_1  middle_1  base_0   top_3  middle_0_2  \\\n",
       "0       NaN  Bergamot         NaN       NaN     NaN  Fruits         NaN   \n",
       "\n",
       "   middle_1_1  middle_2  base_0_1  base_1  \n",
       "0         NaN       NaN       NaN     NaN  \n",
       "\n",
       "[1 rows x 100 columns]"
      ]
     },
     "execution_count": 86,
     "metadata": {},
     "output_type": "execute_result"
    }
   ],
   "source": [
    "fragrance_all_notes = pd.merge(notes_ratings.drop(columns = ['0', '1', '2', '3']),\n",
    "                                 fragrance_top_middle_base_notes_df.drop(columns = ['1', '2', '3']))\n",
    "                  \n",
    "# Drop these columns since they won't be relevant to the project\n",
    "\n",
    "fragrance_all_notes.drop(columns = ['perfume_id', 'people', 'date', 'Pictures', 'Videos'], inplace = True)\n",
    "\n",
    "fragrance_all_notes.head(1)"
   ]
  },
  {
   "cell_type": "markdown",
   "metadata": {},
   "source": [
    "#### Impute 'None' to nulls"
   ]
  },
  {
   "cell_type": "code",
   "execution_count": 151,
   "metadata": {},
   "outputs": [
    {
     "data": {
      "text/html": [
       "<div>\n",
       "<style scoped>\n",
       "    .dataframe tbody tr th:only-of-type {\n",
       "        vertical-align: middle;\n",
       "    }\n",
       "\n",
       "    .dataframe tbody tr th {\n",
       "        vertical-align: top;\n",
       "    }\n",
       "\n",
       "    .dataframe thead th {\n",
       "        text-align: right;\n",
       "    }\n",
       "</style>\n",
       "<table border=\"1\" class=\"dataframe\">\n",
       "  <thead>\n",
       "    <tr style=\"text-align: right;\">\n",
       "      <th></th>\n",
       "      <th>url</th>\n",
       "      <th>title</th>\n",
       "      <th>average_rating_</th>\n",
       "      <th>alcohol</th>\n",
       "      <th>aldehydic</th>\n",
       "      <th>almond</th>\n",
       "      <th>amber</th>\n",
       "      <th>animalic</th>\n",
       "      <th>anis</th>\n",
       "      <th>aquatic</th>\n",
       "      <th>aromatic</th>\n",
       "      <th>asphault</th>\n",
       "      <th>bacon</th>\n",
       "      <th>balsamic</th>\n",
       "      <th>bbq</th>\n",
       "      <th>beeswax</th>\n",
       "      <th>bitter</th>\n",
       "      <th>cacao</th>\n",
       "      <th>camphor</th>\n",
       "      <th>caramel</th>\n",
       "      <th>caramela</th>\n",
       "      <th>cherry</th>\n",
       "      <th>cinnamon</th>\n",
       "      <th>citrus</th>\n",
       "      <th>clay</th>\n",
       "      <th>coca-cola</th>\n",
       "      <th>coconut</th>\n",
       "      <th>coffee</th>\n",
       "      <th>cognac</th>\n",
       "      <th>conifer</th>\n",
       "      <th>earthy</th>\n",
       "      <th>floral</th>\n",
       "      <th>foresty</th>\n",
       "      <th>fresh</th>\n",
       "      <th>fresh spicy</th>\n",
       "      <th>fruity</th>\n",
       "      <th>gourmand</th>\n",
       "      <th>green</th>\n",
       "      <th>herbal</th>\n",
       "      <th>honey</th>\n",
       "      <th>industrial glue</th>\n",
       "      <th>lactonic</th>\n",
       "      <th>...</th>\n",
       "      <th>salty</th>\n",
       "      <th>sand</th>\n",
       "      <th>savory</th>\n",
       "      <th>smoky</th>\n",
       "      <th>soapy</th>\n",
       "      <th>soft spicy</th>\n",
       "      <th>sour</th>\n",
       "      <th>sweet</th>\n",
       "      <th>tennis ball</th>\n",
       "      <th>terpenic</th>\n",
       "      <th>tobacco</th>\n",
       "      <th>tonka (coumarin)</th>\n",
       "      <th>tropical</th>\n",
       "      <th>tuberose</th>\n",
       "      <th>unknown</th>\n",
       "      <th>vanilla</th>\n",
       "      <th>vinyl</th>\n",
       "      <th>violet</th>\n",
       "      <th>vodka</th>\n",
       "      <th>warm spicy</th>\n",
       "      <th>watery</th>\n",
       "      <th>wet plaster</th>\n",
       "      <th>whiskey</th>\n",
       "      <th>white floral</th>\n",
       "      <th>white wine</th>\n",
       "      <th>wine</th>\n",
       "      <th>woody</th>\n",
       "      <th>yellow floral</th>\n",
       "      <th>ratings_bins</th>\n",
       "      <th>top_0</th>\n",
       "      <th>top_1</th>\n",
       "      <th>middle_0</th>\n",
       "      <th>top_2</th>\n",
       "      <th>middle_0_1</th>\n",
       "      <th>middle_1</th>\n",
       "      <th>base_0</th>\n",
       "      <th>top_3</th>\n",
       "      <th>middle_0_2</th>\n",
       "      <th>middle_1_1</th>\n",
       "      <th>middle_2</th>\n",
       "      <th>base_0_1</th>\n",
       "      <th>base_1</th>\n",
       "    </tr>\n",
       "  </thead>\n",
       "  <tbody>\n",
       "    <tr>\n",
       "      <th>0</th>\n",
       "      <td>https://www.fragrantica.com/perfume/The-Spirit-of-Dubai/Aamal-44152.html</td>\n",
       "      <td>Aamal The Spirit of Dubai for women and men</td>\n",
       "      <td>5.0</td>\n",
       "      <td>0</td>\n",
       "      <td>0</td>\n",
       "      <td>0</td>\n",
       "      <td>1</td>\n",
       "      <td>1</td>\n",
       "      <td>0</td>\n",
       "      <td>0</td>\n",
       "      <td>0</td>\n",
       "      <td>0</td>\n",
       "      <td>0</td>\n",
       "      <td>1</td>\n",
       "      <td>0</td>\n",
       "      <td>0</td>\n",
       "      <td>0</td>\n",
       "      <td>0</td>\n",
       "      <td>0</td>\n",
       "      <td>0</td>\n",
       "      <td>0</td>\n",
       "      <td>0</td>\n",
       "      <td>0</td>\n",
       "      <td>0</td>\n",
       "      <td>0</td>\n",
       "      <td>0</td>\n",
       "      <td>0</td>\n",
       "      <td>0</td>\n",
       "      <td>0</td>\n",
       "      <td>0</td>\n",
       "      <td>1</td>\n",
       "      <td>0</td>\n",
       "      <td>0</td>\n",
       "      <td>0</td>\n",
       "      <td>0</td>\n",
       "      <td>0</td>\n",
       "      <td>0</td>\n",
       "      <td>0</td>\n",
       "      <td>0</td>\n",
       "      <td>0</td>\n",
       "      <td>0</td>\n",
       "      <td>0</td>\n",
       "      <td>...</td>\n",
       "      <td>0</td>\n",
       "      <td>0</td>\n",
       "      <td>0</td>\n",
       "      <td>0</td>\n",
       "      <td>0</td>\n",
       "      <td>0</td>\n",
       "      <td>0</td>\n",
       "      <td>0</td>\n",
       "      <td>0</td>\n",
       "      <td>0</td>\n",
       "      <td>0</td>\n",
       "      <td>0</td>\n",
       "      <td>0</td>\n",
       "      <td>0</td>\n",
       "      <td>0</td>\n",
       "      <td>0</td>\n",
       "      <td>0</td>\n",
       "      <td>0</td>\n",
       "      <td>0</td>\n",
       "      <td>0</td>\n",
       "      <td>0</td>\n",
       "      <td>0</td>\n",
       "      <td>0</td>\n",
       "      <td>0</td>\n",
       "      <td>0</td>\n",
       "      <td>0</td>\n",
       "      <td>1</td>\n",
       "      <td>0</td>\n",
       "      <td>5</td>\n",
       "      <td>Turkish Rose</td>\n",
       "      <td>Bulgarian Rose</td>\n",
       "      <td>None</td>\n",
       "      <td>Bergamot</td>\n",
       "      <td>None</td>\n",
       "      <td>None</td>\n",
       "      <td>None</td>\n",
       "      <td>Fruits</td>\n",
       "      <td>None</td>\n",
       "      <td>None</td>\n",
       "      <td>None</td>\n",
       "      <td>None</td>\n",
       "      <td>None</td>\n",
       "    </tr>\n",
       "  </tbody>\n",
       "</table>\n",
       "<p>1 rows × 100 columns</p>\n",
       "</div>"
      ],
      "text/plain": [
       "                                                                        url  \\\n",
       "0  https://www.fragrantica.com/perfume/The-Spirit-of-Dubai/Aamal-44152.html   \n",
       "\n",
       "                                         title  average_rating_  alcohol  \\\n",
       "0  Aamal The Spirit of Dubai for women and men              5.0        0   \n",
       "\n",
       "   aldehydic  almond  amber  animalic  anis  aquatic  aromatic  asphault  \\\n",
       "0          0       0      1         1     0        0         0         0   \n",
       "\n",
       "   bacon  balsamic  bbq  beeswax  bitter  cacao  camphor  caramel  caramela  \\\n",
       "0      0         1    0        0       0      0        0        0         0   \n",
       "\n",
       "   cherry  cinnamon  citrus  clay  coca-cola  coconut  coffee  cognac  \\\n",
       "0       0         0       0     0          0        0       0       0   \n",
       "\n",
       "   conifer  earthy  floral  foresty  fresh  fresh spicy  fruity  gourmand  \\\n",
       "0        0       1       0        0      0            0       0         0   \n",
       "\n",
       "   green  herbal  honey  industrial glue  lactonic  ...  salty  sand  savory  \\\n",
       "0      0       0      0                0         0  ...      0     0       0   \n",
       "\n",
       "   smoky  soapy  soft spicy  sour  sweet  tennis ball  terpenic  tobacco  \\\n",
       "0      0      0           0     0      0            0         0        0   \n",
       "\n",
       "   tonka (coumarin)  tropical  tuberose  unknown  vanilla  vinyl  violet  \\\n",
       "0                 0         0         0        0        0      0       0   \n",
       "\n",
       "   vodka  warm spicy  watery  wet plaster  whiskey  white floral  white wine  \\\n",
       "0      0           0       0            0        0             0           0   \n",
       "\n",
       "   wine  woody  yellow floral  ratings_bins         top_0           top_1  \\\n",
       "0     0      1              0             5  Turkish Rose  Bulgarian Rose   \n",
       "\n",
       "   middle_0     top_2  middle_0_1  middle_1  base_0   top_3  middle_0_2  \\\n",
       "0      None  Bergamot        None      None    None  Fruits        None   \n",
       "\n",
       "   middle_1_1  middle_2  base_0_1  base_1  \n",
       "0        None      None      None    None  \n",
       "\n",
       "[1 rows x 100 columns]"
      ]
     },
     "execution_count": 151,
     "metadata": {},
     "output_type": "execute_result"
    }
   ],
   "source": [
    "# Nulls that came from blanks\n",
    "fragrance_all_notes[top_middle_base_notes] = fragrance_all_notes[top_middle_base_notes].fillna('None')\n",
    "\n",
    "# Nulls that came from 'nan' in the original dataset columns `0`, `1`, `2` and `3`\n",
    "fragrance_all_notes[top_middle_base_notes] = fragrance_all_notes[top_middle_base_notes].apply(lambda x: x.replace('nan', 'None'))\n",
    "\n",
    "fragrance_all_notes.head(1)"
   ]
  },
  {
   "cell_type": "code",
   "execution_count": 152,
   "metadata": {},
   "outputs": [],
   "source": [
    "# Export for safekeeping\n",
    "\n",
    "fragrance_all_notes.to_csv('../data/data_subsets/fragrance_all_notes.csv')"
   ]
  },
  {
   "cell_type": "markdown",
   "metadata": {},
   "source": [
    "### Exploratory visuals\n"
   ]
  },
  {
   "cell_type": "code",
   "execution_count": 153,
   "metadata": {},
   "outputs": [
    {
     "data": {
      "image/png": "[encoded data removed]",
      "text/plain": [
       "<Figure size 432x288 with 1 Axes>"
      ]
     },
     "metadata": {},
     "output_type": "display_data"
    }
   ],
   "source": [
    "notes_count_top_5 = (pd.DataFrame(fragrance_all_notes[notes_names].sum()\n",
    "                                                          .sort_values(ascending = False)[:5][::-1],\n",
    "                                                          columns = ['Count']))\n",
    "notes_count_top_5.plot(kind = 'barh',\n",
    "                 color = 'gold', \n",
    "                 legend = False)\n",
    "\n",
    "plt.title('Top 5 most frequent fragrance note categories', size = 13)\n",
    "\n",
    "plt.xticks(size = 12)\n",
    "\n",
    "plt.yticks(size = 12)\n",
    "\n",
    "plt.savefig('../figures/most_freq_note_categories.png')"
   ]
  },
  {
   "cell_type": "code",
   "execution_count": 172,
   "metadata": {},
   "outputs": [
    {
     "data": {
      "text/html": [
       "<div>\n",
       "<style scoped>\n",
       "    .dataframe tbody tr th:only-of-type {\n",
       "        vertical-align: middle;\n",
       "    }\n",
       "\n",
       "    .dataframe tbody tr th {\n",
       "        vertical-align: top;\n",
       "    }\n",
       "\n",
       "    .dataframe thead th {\n",
       "        text-align: right;\n",
       "    }\n",
       "</style>\n",
       "<table border=\"1\" class=\"dataframe\">\n",
       "  <thead>\n",
       "    <tr style=\"text-align: right;\">\n",
       "      <th></th>\n",
       "      <th>top_0</th>\n",
       "      <th>top_1</th>\n",
       "      <th>middle_0</th>\n",
       "      <th>top_2</th>\n",
       "      <th>middle_0_1</th>\n",
       "      <th>middle_1</th>\n",
       "      <th>base_0</th>\n",
       "      <th>top_3</th>\n",
       "      <th>middle_0_2</th>\n",
       "      <th>middle_1_1</th>\n",
       "      <th>middle_2</th>\n",
       "      <th>base_0_1</th>\n",
       "      <th>base_1</th>\n",
       "    </tr>\n",
       "  </thead>\n",
       "  <tbody>\n",
       "    <tr>\n",
       "      <th>Amber</th>\n",
       "      <td>0.0</td>\n",
       "      <td>0.0</td>\n",
       "      <td>0.0</td>\n",
       "      <td>0.0</td>\n",
       "      <td>0.0</td>\n",
       "      <td>0.0</td>\n",
       "      <td>89.0</td>\n",
       "      <td>0.0</td>\n",
       "      <td>0.0</td>\n",
       "      <td>0.0</td>\n",
       "      <td>0.0</td>\n",
       "      <td>130.0</td>\n",
       "      <td>44.0</td>\n",
       "    </tr>\n",
       "    <tr>\n",
       "      <th>Bergamot</th>\n",
       "      <td>5762.0</td>\n",
       "      <td>2692.0</td>\n",
       "      <td>0.0</td>\n",
       "      <td>1454.0</td>\n",
       "      <td>0.0</td>\n",
       "      <td>0.0</td>\n",
       "      <td>0.0</td>\n",
       "      <td>770.0</td>\n",
       "      <td>0.0</td>\n",
       "      <td>0.0</td>\n",
       "      <td>0.0</td>\n",
       "      <td>0.0</td>\n",
       "      <td>0.0</td>\n",
       "    </tr>\n",
       "  </tbody>\n",
       "</table>\n",
       "</div>"
      ],
      "text/plain": [
       "           top_0   top_1  middle_0   top_2  middle_0_1  middle_1  base_0  \\\n",
       "Amber        0.0     0.0       0.0     0.0         0.0       0.0    89.0   \n",
       "Bergamot  5762.0  2692.0       0.0  1454.0         0.0       0.0     0.0   \n",
       "\n",
       "          top_3  middle_0_2  middle_1_1  middle_2  base_0_1  base_1  \n",
       "Amber       0.0         0.0         0.0       0.0     130.0    44.0  \n",
       "Bergamot  770.0         0.0         0.0       0.0       0.0     0.0  "
      ]
     },
     "execution_count": 172,
     "metadata": {},
     "output_type": "execute_result"
    }
   ],
   "source": [
    "# Create a dataframe with the top 5 value counts of top, middle and base notes\n",
    "\n",
    "notes_value_counts_dict = {}\n",
    "\n",
    "for col in fragrance_all_notes[top_middle_base_notes].columns:\n",
    "    notes_value_counts_dict[col] = fragrance_all_notes[col].value_counts()[:5]\n",
    "\n",
    "\n",
    "top_5_notes_value_counts_df =  (pd.DataFrame(notes_value_counts_dict)\n",
    "                                      .fillna(0)                          # Fill nulls with 0\n",
    "                                      .drop(index = 'None'))              # Drop 'None' note - uninformative!\n",
    "         \n",
    "top_5_notes_value_counts_df.head(2)"
   ]
  },
  {
   "cell_type": "code",
   "execution_count": 165,
   "metadata": {},
   "outputs": [
    {
     "data": {
      "text/markdown": [
       "**Count of fragrances: 42,051**"
      ],
      "text/plain": [
       "<IPython.core.display.Markdown object>"
      ]
     },
     "metadata": {},
     "output_type": "display_data"
    }
   ],
   "source": [
    "# Get counts per note column in top 5 most frequently used \n",
    "\n",
    "top_5_notes_value_counts_by_col_dict = {}\n",
    "\n",
    "for col in top_5_notes_value_counts_df.columns:\n",
    "    top_5_notes_value_counts_by_col_dict[col] = int(top_5_notes_value_counts_df[col].sum())\n",
    "\n",
    "top_5_top_count = 0\n",
    "top_5_middle_count = 0\n",
    "top_5_base_count = 0\n",
    "\n",
    "for k, v in top_5_notes_value_counts_by_col_dict.items():\n",
    "    \n",
    "    if k.startswith('top'):\n",
    "        \n",
    "        top_5_top_count += v\n",
    "        \n",
    "    if k.startswith('middle'):\n",
    "        \n",
    "        top_5_middle_count += v       \n",
    "    \n",
    "    if k.startswith('base'):\n",
    "        \n",
    "        top_5_base_count += v        \n",
    "\n",
    "printmd(f'**Count of fragrances: {len(fragrance_all_notes):,}**')"
   ]
  },
  {
   "cell_type": "code",
   "execution_count": 166,
   "metadata": {},
   "outputs": [
    {
     "data": {
      "text/markdown": [
       "**Top 5 notes most frequently used:**"
      ],
      "text/plain": [
       "<IPython.core.display.Markdown object>"
      ]
     },
     "metadata": {},
     "output_type": "display_data"
    },
    {
     "data": {
      "text/markdown": [
       "**Count of top notes: 24,029**"
      ],
      "text/plain": [
       "<IPython.core.display.Markdown object>"
      ]
     },
     "metadata": {},
     "output_type": "display_data"
    },
    {
     "data": {
      "text/markdown": [
       "**Count of middle notes: 7,123**"
      ],
      "text/plain": [
       "<IPython.core.display.Markdown object>"
      ]
     },
     "metadata": {},
     "output_type": "display_data"
    },
    {
     "data": {
      "text/markdown": [
       "**Count of base notes: 1,156**"
      ],
      "text/plain": [
       "<IPython.core.display.Markdown object>"
      ]
     },
     "metadata": {},
     "output_type": "display_data"
    }
   ],
   "source": [
    "printmd('**Top 5 notes most frequently used:**')    \n",
    "\n",
    "printmd(f'**Count of top notes: {top_5_top_count:,}**')\n",
    "\n",
    "printmd(f'**Count of middle notes: {top_5_middle_count:,}**')\n",
    "\n",
    "printmd(f'**Count of base notes: {top_5_base_count:,}**')"
   ]
  },
  {
   "cell_type": "code",
   "execution_count": 167,
   "metadata": {},
   "outputs": [
    {
     "data": {
      "text/html": [
       "<div>\n",
       "<style scoped>\n",
       "    .dataframe tbody tr th:only-of-type {\n",
       "        vertical-align: middle;\n",
       "    }\n",
       "\n",
       "    .dataframe tbody tr th {\n",
       "        vertical-align: top;\n",
       "    }\n",
       "\n",
       "    .dataframe thead th {\n",
       "        text-align: right;\n",
       "    }\n",
       "</style>\n",
       "<table border=\"1\" class=\"dataframe\">\n",
       "  <thead>\n",
       "    <tr style=\"text-align: right;\">\n",
       "      <th></th>\n",
       "      <th>top_0</th>\n",
       "      <th>top_1</th>\n",
       "      <th>middle_0</th>\n",
       "      <th>top_2</th>\n",
       "      <th>middle_0_1</th>\n",
       "      <th>middle_1</th>\n",
       "      <th>base_0</th>\n",
       "      <th>top_3</th>\n",
       "      <th>middle_0_2</th>\n",
       "      <th>middle_1_1</th>\n",
       "      <th>middle_2</th>\n",
       "      <th>base_0_1</th>\n",
       "      <th>base_1</th>\n",
       "    </tr>\n",
       "  </thead>\n",
       "  <tbody>\n",
       "    <tr>\n",
       "      <th>0</th>\n",
       "      <td>Turkish Rose</td>\n",
       "      <td>Bulgarian Rose</td>\n",
       "      <td>None</td>\n",
       "      <td>Bergamot</td>\n",
       "      <td>None</td>\n",
       "      <td>None</td>\n",
       "      <td>None</td>\n",
       "      <td>Fruits</td>\n",
       "      <td>None</td>\n",
       "      <td>None</td>\n",
       "      <td>None</td>\n",
       "      <td>None</td>\n",
       "      <td>None</td>\n",
       "    </tr>\n",
       "  </tbody>\n",
       "</table>\n",
       "</div>"
      ],
      "text/plain": [
       "          top_0           top_1 middle_0     top_2 middle_0_1 middle_1 base_0  \\\n",
       "0  Turkish Rose  Bulgarian Rose     None  Bergamot       None     None   None   \n",
       "\n",
       "    top_3 middle_0_2 middle_1_1 middle_2 base_0_1 base_1  \n",
       "0  Fruits       None       None     None     None   None  "
      ]
     },
     "metadata": {},
     "output_type": "display_data"
    },
    {
     "data": {
      "text/plain": [
       "42051"
      ]
     },
     "execution_count": 167,
     "metadata": {},
     "output_type": "execute_result"
    }
   ],
   "source": [
    "ipd(fragrance_all_notes[top_middle_base_notes].head(1))\n",
    "\n",
    "fragrance_all_notes['top_0'].value_counts().sum()"
   ]
  },
  {
   "cell_type": "code",
   "execution_count": 168,
   "metadata": {},
   "outputs": [
    {
     "data": {
      "text/plain": [
       "37453"
      ]
     },
     "metadata": {},
     "output_type": "display_data"
    },
    {
     "data": {
      "text/plain": [
       "4598"
      ]
     },
     "metadata": {},
     "output_type": "display_data"
    },
    {
     "data": {
      "text/plain": [
       "42051"
      ]
     },
     "metadata": {},
     "output_type": "display_data"
    }
   ],
   "source": [
    "ipd(fragrance_all_notes['top_1'][fragrance_all_notes['top_1'] != 'None'].value_counts().sum())\n",
    "ipd(fragrance_all_notes['top_1'][fragrance_all_notes['top_1'] == 'None'].value_counts().sum())\n",
    "ipd(37453 + 4598)"
   ]
  },
  {
   "cell_type": "code",
   "execution_count": 169,
   "metadata": {},
   "outputs": [
    {
     "data": {
      "text/plain": [
       "{'top_0': 41329,\n",
       " 'top_1': 37453,\n",
       " 'middle_0': 2736,\n",
       " 'top_2': 29476,\n",
       " 'middle_0_1': 6656,\n",
       " 'middle_1': 1611,\n",
       " 'base_0': 1106,\n",
       " 'top_3': 17316,\n",
       " 'middle_0_2': 10151,\n",
       " 'middle_1_1': 5909,\n",
       " 'middle_2': 729,\n",
       " 'base_0_1': 1611,\n",
       " 'base_1': 412}"
      ]
     },
     "metadata": {},
     "output_type": "display_data"
    },
    {
     "data": {
      "text/markdown": [
       "**Count of fragrances: 42,051**"
      ],
      "text/plain": [
       "<IPython.core.display.Markdown object>"
      ]
     },
     "metadata": {},
     "output_type": "display_data"
    }
   ],
   "source": [
    "# Get counts per note column overall\n",
    "\n",
    "notes_value_counts_by_col_dict = {}\n",
    "\n",
    "for col in top_middle_base_notes:\n",
    "    \n",
    "        notes_value_counts_by_col_dict[col] = (fragrance_all_notes[col][fragrance_all_notes[col] != 'None']\n",
    "                                                                      .value_counts().sum())\n",
    "\n",
    "ipd(notes_value_counts_by_col_dict)    \n",
    "    \n",
    "top_count = 0\n",
    "middle_count = 0\n",
    "base_count = 0\n",
    "\n",
    "for k, v in notes_value_counts_by_col_dict.items():\n",
    "    \n",
    "    if k.startswith('top'):\n",
    "        \n",
    "        top_count += v\n",
    "        \n",
    "    if k.startswith('middle'):\n",
    "        \n",
    "        middle_count += v       \n",
    "    \n",
    "    if k.startswith('base'):\n",
    "        \n",
    "        base_count += v        \n",
    "\n",
    "printmd(f'**Count of fragrances: {len(fragrance_all_notes):,}**')"
   ]
  },
  {
   "cell_type": "code",
   "execution_count": 170,
   "metadata": {
    "scrolled": true
   },
   "outputs": [
    {
     "data": {
      "text/markdown": [
       "**Notes used across all fragrances:**"
      ],
      "text/plain": [
       "<IPython.core.display.Markdown object>"
      ]
     },
     "metadata": {},
     "output_type": "display_data"
    },
    {
     "data": {
      "text/markdown": [
       "**Count of top notes: 125,574**"
      ],
      "text/plain": [
       "<IPython.core.display.Markdown object>"
      ]
     },
     "metadata": {},
     "output_type": "display_data"
    },
    {
     "data": {
      "text/markdown": [
       "**Count of middle notes: 27,792**"
      ],
      "text/plain": [
       "<IPython.core.display.Markdown object>"
      ]
     },
     "metadata": {},
     "output_type": "display_data"
    },
    {
     "data": {
      "text/markdown": [
       "**Count of base notes: 3,129**"
      ],
      "text/plain": [
       "<IPython.core.display.Markdown object>"
      ]
     },
     "metadata": {},
     "output_type": "display_data"
    }
   ],
   "source": [
    "printmd('**Notes used across all fragrances:**')    \n",
    "\n",
    "printmd(f'**Count of top notes: {top_count:,}**')\n",
    "\n",
    "printmd(f'**Count of middle notes: {middle_count:,}**')\n",
    "\n",
    "printmd(f'**Count of base notes: {base_count:,}**')"
   ]
  },
  {
   "cell_type": "code",
   "execution_count": 254,
   "metadata": {},
   "outputs": [
    {
     "data": {
      "text/html": [
       "<div>\n",
       "<style scoped>\n",
       "    .dataframe tbody tr th:only-of-type {\n",
       "        vertical-align: middle;\n",
       "    }\n",
       "\n",
       "    .dataframe tbody tr th {\n",
       "        vertical-align: top;\n",
       "    }\n",
       "\n",
       "    .dataframe thead th {\n",
       "        text-align: right;\n",
       "    }\n",
       "</style>\n",
       "<table border=\"1\" class=\"dataframe\">\n",
       "  <thead>\n",
       "    <tr style=\"text-align: right;\">\n",
       "      <th></th>\n",
       "      <th>top_0</th>\n",
       "      <th>top_1</th>\n",
       "      <th>middle_0</th>\n",
       "      <th>top_2</th>\n",
       "      <th>middle_0_1</th>\n",
       "      <th>middle_1</th>\n",
       "      <th>base_0</th>\n",
       "      <th>top_3</th>\n",
       "      <th>middle_0_2</th>\n",
       "      <th>middle_1_1</th>\n",
       "      <th>middle_2</th>\n",
       "      <th>base_0_1</th>\n",
       "      <th>base_1</th>\n",
       "    </tr>\n",
       "  </thead>\n",
       "  <tbody>\n",
       "    <tr>\n",
       "      <th>Amber</th>\n",
       "      <td>0.0</td>\n",
       "      <td>0.0</td>\n",
       "      <td>0.0</td>\n",
       "      <td>0.0</td>\n",
       "      <td>0.0</td>\n",
       "      <td>0.0</td>\n",
       "      <td>89.0</td>\n",
       "      <td>0.0</td>\n",
       "      <td>0.0</td>\n",
       "      <td>0.0</td>\n",
       "      <td>0.0</td>\n",
       "      <td>130.0</td>\n",
       "      <td>44.0</td>\n",
       "    </tr>\n",
       "    <tr>\n",
       "      <th>Bergamot</th>\n",
       "      <td>5762.0</td>\n",
       "      <td>2692.0</td>\n",
       "      <td>0.0</td>\n",
       "      <td>1454.0</td>\n",
       "      <td>0.0</td>\n",
       "      <td>0.0</td>\n",
       "      <td>0.0</td>\n",
       "      <td>770.0</td>\n",
       "      <td>0.0</td>\n",
       "      <td>0.0</td>\n",
       "      <td>0.0</td>\n",
       "      <td>0.0</td>\n",
       "      <td>0.0</td>\n",
       "    </tr>\n",
       "    <tr>\n",
       "      <th>Citruses</th>\n",
       "      <td>1294.0</td>\n",
       "      <td>0.0</td>\n",
       "      <td>0.0</td>\n",
       "      <td>0.0</td>\n",
       "      <td>0.0</td>\n",
       "      <td>0.0</td>\n",
       "      <td>0.0</td>\n",
       "      <td>0.0</td>\n",
       "      <td>0.0</td>\n",
       "      <td>0.0</td>\n",
       "      <td>0.0</td>\n",
       "      <td>0.0</td>\n",
       "      <td>0.0</td>\n",
       "    </tr>\n",
       "    <tr>\n",
       "      <th>Floral Notes</th>\n",
       "      <td>0.0</td>\n",
       "      <td>0.0</td>\n",
       "      <td>102.0</td>\n",
       "      <td>0.0</td>\n",
       "      <td>0.0</td>\n",
       "      <td>0.0</td>\n",
       "      <td>0.0</td>\n",
       "      <td>0.0</td>\n",
       "      <td>0.0</td>\n",
       "      <td>0.0</td>\n",
       "      <td>0.0</td>\n",
       "      <td>0.0</td>\n",
       "      <td>0.0</td>\n",
       "    </tr>\n",
       "    <tr>\n",
       "      <th>Grapefruit</th>\n",
       "      <td>1101.0</td>\n",
       "      <td>1057.0</td>\n",
       "      <td>0.0</td>\n",
       "      <td>626.0</td>\n",
       "      <td>0.0</td>\n",
       "      <td>0.0</td>\n",
       "      <td>0.0</td>\n",
       "      <td>0.0</td>\n",
       "      <td>0.0</td>\n",
       "      <td>0.0</td>\n",
       "      <td>0.0</td>\n",
       "      <td>0.0</td>\n",
       "      <td>0.0</td>\n",
       "    </tr>\n",
       "    <tr>\n",
       "      <th>Jasmine</th>\n",
       "      <td>0.0</td>\n",
       "      <td>0.0</td>\n",
       "      <td>258.0</td>\n",
       "      <td>0.0</td>\n",
       "      <td>802.0</td>\n",
       "      <td>159.0</td>\n",
       "      <td>0.0</td>\n",
       "      <td>0.0</td>\n",
       "      <td>1434.0</td>\n",
       "      <td>574.0</td>\n",
       "      <td>52.0</td>\n",
       "      <td>0.0</td>\n",
       "      <td>0.0</td>\n",
       "    </tr>\n",
       "    <tr>\n",
       "      <th>Lavender</th>\n",
       "      <td>0.0</td>\n",
       "      <td>0.0</td>\n",
       "      <td>0.0</td>\n",
       "      <td>0.0</td>\n",
       "      <td>188.0</td>\n",
       "      <td>0.0</td>\n",
       "      <td>0.0</td>\n",
       "      <td>0.0</td>\n",
       "      <td>339.0</td>\n",
       "      <td>0.0</td>\n",
       "      <td>0.0</td>\n",
       "      <td>0.0</td>\n",
       "      <td>0.0</td>\n",
       "    </tr>\n",
       "    <tr>\n",
       "      <th>Lemon</th>\n",
       "      <td>1303.0</td>\n",
       "      <td>1281.0</td>\n",
       "      <td>0.0</td>\n",
       "      <td>742.0</td>\n",
       "      <td>0.0</td>\n",
       "      <td>0.0</td>\n",
       "      <td>0.0</td>\n",
       "      <td>377.0</td>\n",
       "      <td>0.0</td>\n",
       "      <td>0.0</td>\n",
       "      <td>0.0</td>\n",
       "      <td>0.0</td>\n",
       "      <td>0.0</td>\n",
       "    </tr>\n",
       "    <tr>\n",
       "      <th>Lily-of-the-Valley</th>\n",
       "      <td>0.0</td>\n",
       "      <td>0.0</td>\n",
       "      <td>0.0</td>\n",
       "      <td>0.0</td>\n",
       "      <td>0.0</td>\n",
       "      <td>0.0</td>\n",
       "      <td>0.0</td>\n",
       "      <td>0.0</td>\n",
       "      <td>0.0</td>\n",
       "      <td>148.0</td>\n",
       "      <td>0.0</td>\n",
       "      <td>0.0</td>\n",
       "      <td>0.0</td>\n",
       "    </tr>\n",
       "    <tr>\n",
       "      <th>Mandarin Orange</th>\n",
       "      <td>1747.0</td>\n",
       "      <td>1915.0</td>\n",
       "      <td>0.0</td>\n",
       "      <td>1097.0</td>\n",
       "      <td>0.0</td>\n",
       "      <td>0.0</td>\n",
       "      <td>0.0</td>\n",
       "      <td>405.0</td>\n",
       "      <td>0.0</td>\n",
       "      <td>0.0</td>\n",
       "      <td>0.0</td>\n",
       "      <td>0.0</td>\n",
       "      <td>0.0</td>\n",
       "    </tr>\n",
       "    <tr>\n",
       "      <th>Musk</th>\n",
       "      <td>0.0</td>\n",
       "      <td>0.0</td>\n",
       "      <td>0.0</td>\n",
       "      <td>0.0</td>\n",
       "      <td>0.0</td>\n",
       "      <td>0.0</td>\n",
       "      <td>134.0</td>\n",
       "      <td>406.0</td>\n",
       "      <td>0.0</td>\n",
       "      <td>0.0</td>\n",
       "      <td>0.0</td>\n",
       "      <td>222.0</td>\n",
       "      <td>50.0</td>\n",
       "    </tr>\n",
       "    <tr>\n",
       "      <th>Patchouli</th>\n",
       "      <td>0.0</td>\n",
       "      <td>0.0</td>\n",
       "      <td>0.0</td>\n",
       "      <td>0.0</td>\n",
       "      <td>0.0</td>\n",
       "      <td>43.0</td>\n",
       "      <td>76.0</td>\n",
       "      <td>0.0</td>\n",
       "      <td>0.0</td>\n",
       "      <td>0.0</td>\n",
       "      <td>0.0</td>\n",
       "      <td>127.0</td>\n",
       "      <td>0.0</td>\n",
       "    </tr>\n",
       "    <tr>\n",
       "      <th>Rose</th>\n",
       "      <td>0.0</td>\n",
       "      <td>0.0</td>\n",
       "      <td>237.0</td>\n",
       "      <td>0.0</td>\n",
       "      <td>541.0</td>\n",
       "      <td>142.0</td>\n",
       "      <td>0.0</td>\n",
       "      <td>0.0</td>\n",
       "      <td>807.0</td>\n",
       "      <td>421.0</td>\n",
       "      <td>60.0</td>\n",
       "      <td>0.0</td>\n",
       "      <td>0.0</td>\n",
       "    </tr>\n",
       "    <tr>\n",
       "      <th>Sandalwood</th>\n",
       "      <td>0.0</td>\n",
       "      <td>0.0</td>\n",
       "      <td>0.0</td>\n",
       "      <td>0.0</td>\n",
       "      <td>0.0</td>\n",
       "      <td>0.0</td>\n",
       "      <td>90.0</td>\n",
       "      <td>0.0</td>\n",
       "      <td>0.0</td>\n",
       "      <td>0.0</td>\n",
       "      <td>0.0</td>\n",
       "      <td>127.0</td>\n",
       "      <td>0.0</td>\n",
       "    </tr>\n",
       "    <tr>\n",
       "      <th>Tuberose</th>\n",
       "      <td>0.0</td>\n",
       "      <td>0.0</td>\n",
       "      <td>0.0</td>\n",
       "      <td>0.0</td>\n",
       "      <td>0.0</td>\n",
       "      <td>0.0</td>\n",
       "      <td>0.0</td>\n",
       "      <td>0.0</td>\n",
       "      <td>0.0</td>\n",
       "      <td>0.0</td>\n",
       "      <td>25.0</td>\n",
       "      <td>0.0</td>\n",
       "      <td>0.0</td>\n",
       "    </tr>\n",
       "    <tr>\n",
       "      <th>Vanilla</th>\n",
       "      <td>0.0</td>\n",
       "      <td>0.0</td>\n",
       "      <td>0.0</td>\n",
       "      <td>0.0</td>\n",
       "      <td>0.0</td>\n",
       "      <td>0.0</td>\n",
       "      <td>0.0</td>\n",
       "      <td>0.0</td>\n",
       "      <td>0.0</td>\n",
       "      <td>0.0</td>\n",
       "      <td>0.0</td>\n",
       "      <td>0.0</td>\n",
       "      <td>42.0</td>\n",
       "    </tr>\n",
       "    <tr>\n",
       "      <th>Violet</th>\n",
       "      <td>0.0</td>\n",
       "      <td>0.0</td>\n",
       "      <td>0.0</td>\n",
       "      <td>0.0</td>\n",
       "      <td>0.0</td>\n",
       "      <td>42.0</td>\n",
       "      <td>0.0</td>\n",
       "      <td>0.0</td>\n",
       "      <td>0.0</td>\n",
       "      <td>160.0</td>\n",
       "      <td>27.0</td>\n",
       "      <td>0.0</td>\n",
       "      <td>0.0</td>\n",
       "    </tr>\n",
       "    <tr>\n",
       "      <th>Woody Notes</th>\n",
       "      <td>0.0</td>\n",
       "      <td>0.0</td>\n",
       "      <td>0.0</td>\n",
       "      <td>0.0</td>\n",
       "      <td>0.0</td>\n",
       "      <td>0.0</td>\n",
       "      <td>0.0</td>\n",
       "      <td>0.0</td>\n",
       "      <td>0.0</td>\n",
       "      <td>0.0</td>\n",
       "      <td>0.0</td>\n",
       "      <td>0.0</td>\n",
       "      <td>25.0</td>\n",
       "    </tr>\n",
       "    <tr>\n",
       "      <th>iris</th>\n",
       "      <td>0.0</td>\n",
       "      <td>0.0</td>\n",
       "      <td>67.0</td>\n",
       "      <td>0.0</td>\n",
       "      <td>209.0</td>\n",
       "      <td>0.0</td>\n",
       "      <td>0.0</td>\n",
       "      <td>0.0</td>\n",
       "      <td>286.0</td>\n",
       "      <td>0.0</td>\n",
       "      <td>0.0</td>\n",
       "      <td>0.0</td>\n",
       "      <td>0.0</td>\n",
       "    </tr>\n",
       "  </tbody>\n",
       "</table>\n",
       "</div>"
      ],
      "text/plain": [
       "                     top_0   top_1  middle_0   top_2  middle_0_1  middle_1  \\\n",
       "Amber                  0.0     0.0       0.0     0.0         0.0       0.0   \n",
       "Bergamot            5762.0  2692.0       0.0  1454.0         0.0       0.0   \n",
       "Citruses            1294.0     0.0       0.0     0.0         0.0       0.0   \n",
       "Floral Notes           0.0     0.0     102.0     0.0         0.0       0.0   \n",
       "Grapefruit          1101.0  1057.0       0.0   626.0         0.0       0.0   \n",
       "Jasmine                0.0     0.0     258.0     0.0       802.0     159.0   \n",
       "Lavender               0.0     0.0       0.0     0.0       188.0       0.0   \n",
       "Lemon               1303.0  1281.0       0.0   742.0         0.0       0.0   \n",
       "Lily-of-the-Valley     0.0     0.0       0.0     0.0         0.0       0.0   \n",
       "Mandarin Orange     1747.0  1915.0       0.0  1097.0         0.0       0.0   \n",
       "Musk                   0.0     0.0       0.0     0.0         0.0       0.0   \n",
       "Patchouli              0.0     0.0       0.0     0.0         0.0      43.0   \n",
       "Rose                   0.0     0.0     237.0     0.0       541.0     142.0   \n",
       "Sandalwood             0.0     0.0       0.0     0.0         0.0       0.0   \n",
       "Tuberose               0.0     0.0       0.0     0.0         0.0       0.0   \n",
       "Vanilla                0.0     0.0       0.0     0.0         0.0       0.0   \n",
       "Violet                 0.0     0.0       0.0     0.0         0.0      42.0   \n",
       "Woody Notes            0.0     0.0       0.0     0.0         0.0       0.0   \n",
       "iris                   0.0     0.0      67.0     0.0       209.0       0.0   \n",
       "\n",
       "                    base_0  top_3  middle_0_2  middle_1_1  middle_2  base_0_1  \\\n",
       "Amber                 89.0    0.0         0.0         0.0       0.0     130.0   \n",
       "Bergamot               0.0  770.0         0.0         0.0       0.0       0.0   \n",
       "Citruses               0.0    0.0         0.0         0.0       0.0       0.0   \n",
       "Floral Notes           0.0    0.0         0.0         0.0       0.0       0.0   \n",
       "Grapefruit             0.0    0.0         0.0         0.0       0.0       0.0   \n",
       "Jasmine                0.0    0.0      1434.0       574.0      52.0       0.0   \n",
       "Lavender               0.0    0.0       339.0         0.0       0.0       0.0   \n",
       "Lemon                  0.0  377.0         0.0         0.0       0.0       0.0   \n",
       "Lily-of-the-Valley     0.0    0.0         0.0       148.0       0.0       0.0   \n",
       "Mandarin Orange        0.0  405.0         0.0         0.0       0.0       0.0   \n",
       "Musk                 134.0  406.0         0.0         0.0       0.0     222.0   \n",
       "Patchouli             76.0    0.0         0.0         0.0       0.0     127.0   \n",
       "Rose                   0.0    0.0       807.0       421.0      60.0       0.0   \n",
       "Sandalwood            90.0    0.0         0.0         0.0       0.0     127.0   \n",
       "Tuberose               0.0    0.0         0.0         0.0      25.0       0.0   \n",
       "Vanilla                0.0    0.0         0.0         0.0       0.0       0.0   \n",
       "Violet                 0.0    0.0         0.0       160.0      27.0       0.0   \n",
       "Woody Notes            0.0    0.0         0.0         0.0       0.0       0.0   \n",
       "iris                   0.0    0.0       286.0         0.0       0.0       0.0   \n",
       "\n",
       "                    base_1  \n",
       "Amber                 44.0  \n",
       "Bergamot               0.0  \n",
       "Citruses               0.0  \n",
       "Floral Notes           0.0  \n",
       "Grapefruit             0.0  \n",
       "Jasmine                0.0  \n",
       "Lavender               0.0  \n",
       "Lemon                  0.0  \n",
       "Lily-of-the-Valley     0.0  \n",
       "Mandarin Orange        0.0  \n",
       "Musk                  50.0  \n",
       "Patchouli              0.0  \n",
       "Rose                   0.0  \n",
       "Sandalwood             0.0  \n",
       "Tuberose               0.0  \n",
       "Vanilla               42.0  \n",
       "Violet                 0.0  \n",
       "Woody Notes           25.0  \n",
       "iris                   0.0  "
      ]
     },
     "execution_count": 254,
     "metadata": {},
     "output_type": "execute_result"
    }
   ],
   "source": [
    "# Create a dataframe with the top 5 value counts of top, middle and base notes\n",
    "\n",
    "notes_value_counts_dict = {}\n",
    "\n",
    "for col in fragrance_all_notes[top_middle_base_notes].columns:\n",
    "    notes_value_counts_dict[col] = fragrance_all_notes[col].value_counts()[:5]\n",
    "\n",
    "\n",
    "top_5_notes_value_counts_df =  (pd.DataFrame(notes_value_counts_dict)\n",
    "                                      .fillna(0)                          # Fill nulls with 0\n",
    "                                      .drop(index = 'None'))              # Drop 'None' note - uninformative!\n",
    "         \n",
    "top_5_notes_value_counts_df"
   ]
  },
  {
   "cell_type": "code",
   "execution_count": 278,
   "metadata": {},
   "outputs": [
    {
     "data": {
      "text/plain": [
       "True"
      ]
     },
     "execution_count": 278,
     "metadata": {},
     "output_type": "execute_result"
    }
   ],
   "source": [
    "'''\n",
    "Sum across top_5_notes_value_counts_df top, middle and base notes (since they currently have meaningless suffixes,\n",
    "like `top_0`, `top_1`, etc.\n",
    "\n",
    "The row-wise totals we're going for:\n",
    "(top_5_notes_value_counts_df.loc['Bergamot', 'top_0'] + top_5_notes_value_counts_df.loc['Bergamot', 'top_1'] +\n",
    "top_5_notes_value_counts_df.loc['Bergamot', 'top_2'] + top_5_notes_value_counts_df.loc['Bergamot', 'top_3'])\n",
    "'''\n",
    "top_counts = []\n",
    "\n",
    "for i in top_5_notes_value_counts_df.index:\n",
    "    for col in top_cols:\n",
    "        top_counts.append(top_5_notes_value_counts_df.loc[i, col])\n",
    "\n",
    "top_counts_total = []    \n",
    "\n",
    "for j in range(4, len(top_counts) + 4, 4):\n",
    "    top_counts_total.append(sum(top_counts[j - 4: j]))\n",
    "\n",
    "# Does the values list length match the original row count times column count for the category (top, middle, base)?\n",
    "len(top_counts) == (len(top_5_notes_value_counts_df.index) * 4)\n",
    "\n",
    "top_5_notes_value_counts_df['top_total'] = top_counts_total\n",
    "\n",
    "# Does the grand total of the 4 top_cols columns match the grand total of the `top_total` column?\n",
    "\n",
    "top_5_notes_value_counts_df[top_cols].sum().sum() == top_5_notes_value_counts_df['top_total'].sum().sum()"
   ]
  },
  {
   "cell_type": "code",
   "execution_count": 296,
   "metadata": {},
   "outputs": [
    {
     "name": "stdout",
     "output_type": "stream",
     "text": [
      "True\n"
     ]
    },
    {
     "data": {
      "text/plain": [
       "True"
      ]
     },
     "execution_count": 296,
     "metadata": {},
     "output_type": "execute_result"
    }
   ],
   "source": [
    "middle_counts = []\n",
    "\n",
    "for i in top_5_notes_value_counts_df.index:\n",
    "    for col in middle_cols:\n",
    "        middle_counts.append(top_5_notes_value_counts_df.loc[i, col])\n",
    "\n",
    "middle_counts_total = []    \n",
    "\n",
    "for j in range(6, len(middle_counts) + 6, 6):\n",
    "    middle_counts_total.append(sum(middle_counts[j - 6: j]))\n",
    "\n",
    "# Does the values list length match the original row count times column count for the category (top, middle, base)?\n",
    "print(len(middle_counts) == (len(top_5_notes_value_counts_df.index) * 6))\n",
    "\n",
    "top_5_notes_value_counts_df['middle_total'] = middle_counts_total\n",
    "\n",
    "# Does the grand total of the middle_cols columns match the grand total of the `middle_total` column?\n",
    "\n",
    "top_5_notes_value_counts_df[middle_cols].sum().sum() == top_5_notes_value_counts_df['middle_total'].sum().sum()\n"
   ]
  },
  {
   "cell_type": "code",
   "execution_count": 303,
   "metadata": {},
   "outputs": [
    {
     "data": {
      "text/plain": [
       "['base_0', 'base_0_1', 'base_1']"
      ]
     },
     "execution_count": 303,
     "metadata": {},
     "output_type": "execute_result"
    }
   ],
   "source": [
    "base_cols"
   ]
  },
  {
   "cell_type": "code",
   "execution_count": 305,
   "metadata": {},
   "outputs": [
    {
     "name": "stdout",
     "output_type": "stream",
     "text": [
      "True\n"
     ]
    },
    {
     "data": {
      "text/plain": [
       "True"
      ]
     },
     "execution_count": 305,
     "metadata": {},
     "output_type": "execute_result"
    }
   ],
   "source": [
    "base_counts = []\n",
    "\n",
    "for i in top_5_notes_value_counts_df.index:\n",
    "    for col in base_cols:\n",
    "        base_counts.append(top_5_notes_value_counts_df.loc[i, col])\n",
    "\n",
    "base_counts_total = []    \n",
    "\n",
    "for j in range(3, len(base_counts) + 3, 3):\n",
    "    base_counts_total.append(sum(base_counts[j - 3: j]))\n",
    "\n",
    "# Does the values list length match the original row count times column count for the category (top, middle, base)?\n",
    "print(len(base_counts) == (len(top_5_notes_value_counts_df.index) * 3))\n",
    "\n",
    "top_5_notes_value_counts_df['base_total'] = base_counts_total\n",
    "\n",
    "# Does the grand total of the base_cols columns match the grand total of the `base_total` column?\n",
    "\n",
    "top_5_notes_value_counts_df[base_cols].sum().sum() == top_5_notes_value_counts_df['base_total'].sum().sum()"
   ]
  },
  {
   "cell_type": "code",
   "execution_count": 308,
   "metadata": {},
   "outputs": [
    {
     "data": {
      "text/html": [
       "<div>\n",
       "<style scoped>\n",
       "    .dataframe tbody tr th:only-of-type {\n",
       "        vertical-align: middle;\n",
       "    }\n",
       "\n",
       "    .dataframe tbody tr th {\n",
       "        vertical-align: top;\n",
       "    }\n",
       "\n",
       "    .dataframe thead th {\n",
       "        text-align: right;\n",
       "    }\n",
       "</style>\n",
       "<table border=\"1\" class=\"dataframe\">\n",
       "  <thead>\n",
       "    <tr style=\"text-align: right;\">\n",
       "      <th></th>\n",
       "      <th>top_total</th>\n",
       "      <th>middle_total</th>\n",
       "      <th>base_total</th>\n",
       "    </tr>\n",
       "  </thead>\n",
       "  <tbody>\n",
       "    <tr>\n",
       "      <th>Amber</th>\n",
       "      <td>0.0</td>\n",
       "      <td>0.0</td>\n",
       "      <td>263.0</td>\n",
       "    </tr>\n",
       "    <tr>\n",
       "      <th>Bergamot</th>\n",
       "      <td>10678.0</td>\n",
       "      <td>0.0</td>\n",
       "      <td>0.0</td>\n",
       "    </tr>\n",
       "    <tr>\n",
       "      <th>Citruses</th>\n",
       "      <td>1294.0</td>\n",
       "      <td>0.0</td>\n",
       "      <td>0.0</td>\n",
       "    </tr>\n",
       "    <tr>\n",
       "      <th>Floral Notes</th>\n",
       "      <td>0.0</td>\n",
       "      <td>102.0</td>\n",
       "      <td>0.0</td>\n",
       "    </tr>\n",
       "    <tr>\n",
       "      <th>Grapefruit</th>\n",
       "      <td>2784.0</td>\n",
       "      <td>0.0</td>\n",
       "      <td>0.0</td>\n",
       "    </tr>\n",
       "    <tr>\n",
       "      <th>Jasmine</th>\n",
       "      <td>0.0</td>\n",
       "      <td>3279.0</td>\n",
       "      <td>0.0</td>\n",
       "    </tr>\n",
       "    <tr>\n",
       "      <th>Lavender</th>\n",
       "      <td>0.0</td>\n",
       "      <td>527.0</td>\n",
       "      <td>0.0</td>\n",
       "    </tr>\n",
       "    <tr>\n",
       "      <th>Lemon</th>\n",
       "      <td>3703.0</td>\n",
       "      <td>0.0</td>\n",
       "      <td>0.0</td>\n",
       "    </tr>\n",
       "    <tr>\n",
       "      <th>Lily-of-the-Valley</th>\n",
       "      <td>0.0</td>\n",
       "      <td>148.0</td>\n",
       "      <td>0.0</td>\n",
       "    </tr>\n",
       "    <tr>\n",
       "      <th>Mandarin Orange</th>\n",
       "      <td>5164.0</td>\n",
       "      <td>0.0</td>\n",
       "      <td>0.0</td>\n",
       "    </tr>\n",
       "    <tr>\n",
       "      <th>Musk</th>\n",
       "      <td>406.0</td>\n",
       "      <td>0.0</td>\n",
       "      <td>406.0</td>\n",
       "    </tr>\n",
       "    <tr>\n",
       "      <th>Patchouli</th>\n",
       "      <td>0.0</td>\n",
       "      <td>43.0</td>\n",
       "      <td>203.0</td>\n",
       "    </tr>\n",
       "    <tr>\n",
       "      <th>Rose</th>\n",
       "      <td>0.0</td>\n",
       "      <td>2208.0</td>\n",
       "      <td>0.0</td>\n",
       "    </tr>\n",
       "    <tr>\n",
       "      <th>Sandalwood</th>\n",
       "      <td>0.0</td>\n",
       "      <td>0.0</td>\n",
       "      <td>217.0</td>\n",
       "    </tr>\n",
       "    <tr>\n",
       "      <th>Tuberose</th>\n",
       "      <td>0.0</td>\n",
       "      <td>25.0</td>\n",
       "      <td>0.0</td>\n",
       "    </tr>\n",
       "    <tr>\n",
       "      <th>Vanilla</th>\n",
       "      <td>0.0</td>\n",
       "      <td>0.0</td>\n",
       "      <td>42.0</td>\n",
       "    </tr>\n",
       "    <tr>\n",
       "      <th>Violet</th>\n",
       "      <td>0.0</td>\n",
       "      <td>229.0</td>\n",
       "      <td>0.0</td>\n",
       "    </tr>\n",
       "    <tr>\n",
       "      <th>Woody Notes</th>\n",
       "      <td>0.0</td>\n",
       "      <td>0.0</td>\n",
       "      <td>25.0</td>\n",
       "    </tr>\n",
       "    <tr>\n",
       "      <th>iris</th>\n",
       "      <td>0.0</td>\n",
       "      <td>562.0</td>\n",
       "      <td>0.0</td>\n",
       "    </tr>\n",
       "  </tbody>\n",
       "</table>\n",
       "</div>"
      ],
      "text/plain": [
       "                    top_total  middle_total  base_total\n",
       "Amber                     0.0           0.0       263.0\n",
       "Bergamot              10678.0           0.0         0.0\n",
       "Citruses               1294.0           0.0         0.0\n",
       "Floral Notes              0.0         102.0         0.0\n",
       "Grapefruit             2784.0           0.0         0.0\n",
       "Jasmine                   0.0        3279.0         0.0\n",
       "Lavender                  0.0         527.0         0.0\n",
       "Lemon                  3703.0           0.0         0.0\n",
       "Lily-of-the-Valley        0.0         148.0         0.0\n",
       "Mandarin Orange        5164.0           0.0         0.0\n",
       "Musk                    406.0           0.0       406.0\n",
       "Patchouli                 0.0          43.0       203.0\n",
       "Rose                      0.0        2208.0         0.0\n",
       "Sandalwood                0.0           0.0       217.0\n",
       "Tuberose                  0.0          25.0         0.0\n",
       "Vanilla                   0.0           0.0        42.0\n",
       "Violet                    0.0         229.0         0.0\n",
       "Woody Notes               0.0           0.0        25.0\n",
       "iris                      0.0         562.0         0.0"
      ]
     },
     "execution_count": 308,
     "metadata": {},
     "output_type": "execute_result"
    }
   ],
   "source": [
    "top_5_notes_value_counts_df[['top_total', 'middle_total', 'base_total']]"
   ]
  },
  {
   "cell_type": "code",
   "execution_count": 175,
   "metadata": {},
   "outputs": [
    {
     "data": {
      "image/png": "[encoded data removed]",
      "text/plain": [
       "<Figure size 1224x432 with 1 Axes>"
      ]
     },
     "metadata": {},
     "output_type": "display_data"
    }
   ],
   "source": [
    "# Scatterplot of all notes\n",
    "\n",
    "plt.figure(figsize = (17, 6))\n",
    "\n",
    "for col in top_5_notes_value_counts_df.columns:\n",
    "    sns.swarmplot(top_5_notes_value_counts_df.index,\n",
    "                  top_5_notes_value_counts_df[col])\n",
    "\n",
    "plt.suptitle('Counts of most frequently used notes', size = 14)\n",
    "\n",
    "plt.title('Each dot represents count per class (top, middle, base)', size = 13)\n",
    "\n",
    "plt.ylabel('Count', size = 12)\n",
    "\n",
    "plt.xticks(rotation = 30, size = 12)\n",
    "\n",
    "plt.yticks(size = 12)\n",
    "\n",
    "plt.savefig('../figures/note_counts_most_freq.png');"
   ]
  },
  {
   "cell_type": "code",
   "execution_count": null,
   "metadata": {
    "scrolled": true
   },
   "outputs": [],
   "source": [
    "notes_counts_overall = pd.DataFrame([top_count, middle_count, base_count],\n",
    "                                    index = ['top_count', 'middle_count', 'base_count'], \n",
    "                                    columns = ['Count'])\n",
    "\n",
    "plt.bar(height = [125574, 27792, 3129],\n",
    "         x = notes_counts_overall.index.values, \n",
    "         color = ['gold', 'lightgray', 'lightgray'])\n",
    "\n",
    "plt.title('Top notes far outnumber the rest', size = 13)\n",
    "\n",
    "plt.xlabel('Count by note', size = 12)\n",
    "\n",
    "plt.xticks(size = 12)\n",
    "\n",
    "plt.yticks(size = 12)\n",
    "\n",
    "plt.savefig('../figures/notes_counts_overall.png');"
   ]
  },
  {
   "cell_type": "code",
   "execution_count": null,
   "metadata": {},
   "outputs": [],
   "source": [
    "# Remind ourselves what the `top_cols` look like in the main dataframe\n",
    "ipd(fragrance_all_notes[top_cols].head(1))\n",
    "\n",
    "# Set up dummies\n",
    "top_notes_dummies = pd.get_dummies(fragrance_all_notes[top_cols])\n",
    "print('\\n')\n",
    "printmd('**Dummified top notes:**')\n",
    "ipd(top_notes_dummies.head(1))"
   ]
  },
  {
   "cell_type": "code",
   "execution_count": 133,
   "metadata": {},
   "outputs": [
    {
     "ename": "NameError",
     "evalue": "name 'top_notes_dummies' is not defined",
     "output_type": "error",
     "traceback": [
      "\u001b[1;31m---------------------------------------------------------------------------\u001b[0m",
      "\u001b[1;31mNameError\u001b[0m                                 Traceback (most recent call last)",
      "\u001b[1;32m<ipython-input-133-6f4c20819b35>\u001b[0m in \u001b[0;36m<module>\u001b[1;34m\u001b[0m\n\u001b[0;32m      1\u001b[0m \u001b[1;31m# Concatenate original dataframe with dummified top notes\u001b[0m\u001b[1;33m\u001b[0m\u001b[1;33m\u001b[0m\u001b[1;33m\u001b[0m\u001b[0m\n\u001b[0;32m      2\u001b[0m \u001b[1;33m\u001b[0m\u001b[0m\n\u001b[1;32m----> 3\u001b[1;33m \u001b[0mfragrance_df\u001b[0m \u001b[1;33m=\u001b[0m \u001b[0mpd\u001b[0m\u001b[1;33m.\u001b[0m\u001b[0mconcat\u001b[0m\u001b[1;33m(\u001b[0m\u001b[1;33m[\u001b[0m\u001b[0mfragrance_all_notes\u001b[0m\u001b[1;33m.\u001b[0m\u001b[0mdrop\u001b[0m\u001b[1;33m(\u001b[0m\u001b[0mcolumns\u001b[0m \u001b[1;33m=\u001b[0m \u001b[0mtop_cols\u001b[0m\u001b[1;33m)\u001b[0m\u001b[1;33m,\u001b[0m \u001b[0mtop_notes_dummies\u001b[0m\u001b[1;33m]\u001b[0m\u001b[1;33m,\u001b[0m \u001b[0maxis\u001b[0m \u001b[1;33m=\u001b[0m \u001b[1;36m1\u001b[0m\u001b[1;33m)\u001b[0m\u001b[1;33m\u001b[0m\u001b[1;33m\u001b[0m\u001b[0m\n\u001b[0m\u001b[0;32m      4\u001b[0m \u001b[1;33m\u001b[0m\u001b[0m\n\u001b[0;32m      5\u001b[0m \u001b[1;31m# Impute zeroes for nulls\u001b[0m\u001b[1;33m\u001b[0m\u001b[1;33m\u001b[0m\u001b[1;33m\u001b[0m\u001b[0m\n",
      "\u001b[1;31mNameError\u001b[0m: name 'top_notes_dummies' is not defined"
     ]
    }
   ],
   "source": [
    "# Concatenate original dataframe with dummified top notes\n",
    "\n",
    "fragrance_df = pd.concat([fragrance_all_notes.drop(columns = top_cols), top_notes_dummies], axis = 1)\n",
    "\n",
    "# Impute zeroes for nulls\n",
    "\n",
    "fragrance_df.fillna(0, inplace = True)\n",
    "\n",
    "# Snake case columns\n",
    "\n",
    "fragrance_df.columns = [col.lower().replace(' ', '_') for col in fragrance_df]\n",
    "\n",
    "# Drop any duplicates that may have been created inadvertently\n",
    "\n",
    "fragrance_df = fragrance_df.drop_duplicates()\n",
    "\n",
    "ipd(fragrance_df.head(1))"
   ]
  },
  {
   "cell_type": "code",
   "execution_count": null,
   "metadata": {},
   "outputs": [],
   "source": [
    "# Export for safekeeping\n",
    "\n",
    "fragrance_df.to_csv('../data/data_subsets/fragrance_df.csv', index = False)"
   ]
  },
  {
   "cell_type": "code",
   "execution_count": null,
   "metadata": {},
   "outputs": [],
   "source": [
    "fragrance_df.shape"
   ]
  },
  {
   "cell_type": "markdown",
   "metadata": {},
   "source": [
    "### Let's create data subsets with `ratings_bins` for easier analysis / modeling downstream"
   ]
  },
  {
   "cell_type": "code",
   "execution_count": null,
   "metadata": {
    "scrolled": true
   },
   "outputs": [],
   "source": [
    "ones = fragrance_df[fragrance_df['ratings_bins'] == '1']\n",
    "ipd(len(ones))\n",
    "\n",
    "twos = fragrance_df[fragrance_df['ratings_bins'] == '2']\n",
    "ipd(len(twos))\n",
    "\n",
    "threes = fragrance_df[fragrance_df['ratings_bins'] == '3']\n",
    "ipd(len(threes))\n",
    "\n",
    "fours = fragrance_df[fragrance_df['ratings_bins'] == '4']\n",
    "ipd(len(fours))\n",
    "\n",
    "fives = fragrance_df[fragrance_df['ratings_bins'] == '5']\n",
    "ipd(len(fives))"
   ]
  },
  {
   "cell_type": "markdown",
   "metadata": {},
   "source": [
    "#### Create a top notes (for all ratings and for fives only) variable for quick access"
   ]
  },
  {
   "cell_type": "code",
   "execution_count": null,
   "metadata": {},
   "outputs": [],
   "source": [
    "top_cols_all = [col for col in fragrance_df.columns if col.startswith('top')]\n",
    "\n",
    "top_cols_fives = [col for col in fives.columns if col.startswith('top')]\n",
    "\n",
    "notes_generic_and_specific = notes_names + top_cols\n",
    "\n",
    "notes_generic_and_specific_fives = [col for col in notes_names if col in fives.columns] + top_cols_fives\n",
    "\n",
    "printmd(f'**Size of `notes_generic_and_specific`: {len(notes_generic_and_specific):,}**')\n",
    "\n",
    "printmd(f'**Size of `notes_generic_and_specific_fives`: {len(notes_generic_and_specific_fives):,}**')"
   ]
  },
  {
   "cell_type": "code",
   "execution_count": null,
   "metadata": {},
   "outputs": [],
   "source": [
    "# Check for completeness\n",
    "\n",
    "len_subset_bins = len(ones) + len(twos) + len(threes) + len(fours) + len(fives)\n",
    "\n",
    "len_subset_bins == len(fragrance_df)\n",
    "\n",
    "ipd(len_subset_bins  - len(fragrance_df))\n",
    "\n",
    "# Check for nulls\n",
    "\n",
    "fragrance_df['ratings_bins'].isnull().sum()"
   ]
  },
  {
   "cell_type": "markdown",
   "metadata": {},
   "source": [
    "## Exploratory visuals, continued!"
   ]
  },
  {
   "cell_type": "code",
   "execution_count": 155,
   "metadata": {},
   "outputs": [
    {
     "ename": "TypeError",
     "evalue": "no numeric data to plot",
     "output_type": "error",
     "traceback": [
      "\u001b[1;31m---------------------------------------------------------------------------\u001b[0m",
      "\u001b[1;31mTypeError\u001b[0m                                 Traceback (most recent call last)",
      "\u001b[1;32m<ipython-input-155-55b91e23a0c7>\u001b[0m in \u001b[0;36m<module>\u001b[1;34m\u001b[0m\n\u001b[0;32m      2\u001b[0m                                                           \u001b[1;33m.\u001b[0m\u001b[0msort_values\u001b[0m\u001b[1;33m(\u001b[0m\u001b[0mascending\u001b[0m \u001b[1;33m=\u001b[0m \u001b[1;32mFalse\u001b[0m\u001b[1;33m)\u001b[0m\u001b[1;33m[\u001b[0m\u001b[1;33m:\u001b[0m\u001b[1;36m5\u001b[0m\u001b[1;33m]\u001b[0m\u001b[1;33m[\u001b[0m\u001b[1;33m:\u001b[0m\u001b[1;33m:\u001b[0m\u001b[1;33m-\u001b[0m\u001b[1;36m1\u001b[0m\u001b[1;33m]\u001b[0m\u001b[1;33m,\u001b[0m\u001b[1;33m\u001b[0m\u001b[1;33m\u001b[0m\u001b[0m\n\u001b[0;32m      3\u001b[0m                                                           columns = ['Count']))\n\u001b[1;32m----> 4\u001b[1;33m top_notes_count_top_5.plot(kind = 'barh',\n\u001b[0m\u001b[0;32m      5\u001b[0m                  \u001b[0mcolor\u001b[0m \u001b[1;33m=\u001b[0m \u001b[1;34m'gold'\u001b[0m\u001b[1;33m,\u001b[0m\u001b[1;33m\u001b[0m\u001b[1;33m\u001b[0m\u001b[0m\n\u001b[0;32m      6\u001b[0m                  legend = False)\n",
      "\u001b[1;32m~\\anaconda3\\lib\\site-packages\\pandas\\plotting\\_core.py\u001b[0m in \u001b[0;36m__call__\u001b[1;34m(self, *args, **kwargs)\u001b[0m\n\u001b[0;32m    947\u001b[0m                     \u001b[0mdata\u001b[0m\u001b[1;33m.\u001b[0m\u001b[0mcolumns\u001b[0m \u001b[1;33m=\u001b[0m \u001b[0mlabel_name\u001b[0m\u001b[1;33m\u001b[0m\u001b[1;33m\u001b[0m\u001b[0m\n\u001b[0;32m    948\u001b[0m \u001b[1;33m\u001b[0m\u001b[0m\n\u001b[1;32m--> 949\u001b[1;33m         \u001b[1;32mreturn\u001b[0m \u001b[0mplot_backend\u001b[0m\u001b[1;33m.\u001b[0m\u001b[0mplot\u001b[0m\u001b[1;33m(\u001b[0m\u001b[0mdata\u001b[0m\u001b[1;33m,\u001b[0m \u001b[0mkind\u001b[0m\u001b[1;33m=\u001b[0m\u001b[0mkind\u001b[0m\u001b[1;33m,\u001b[0m \u001b[1;33m**\u001b[0m\u001b[0mkwargs\u001b[0m\u001b[1;33m)\u001b[0m\u001b[1;33m\u001b[0m\u001b[1;33m\u001b[0m\u001b[0m\n\u001b[0m\u001b[0;32m    950\u001b[0m \u001b[1;33m\u001b[0m\u001b[0m\n\u001b[0;32m    951\u001b[0m     \u001b[0m__call__\u001b[0m\u001b[1;33m.\u001b[0m\u001b[0m__doc__\u001b[0m \u001b[1;33m=\u001b[0m \u001b[0m__doc__\u001b[0m\u001b[1;33m\u001b[0m\u001b[1;33m\u001b[0m\u001b[0m\n",
      "\u001b[1;32m~\\anaconda3\\lib\\site-packages\\pandas\\plotting\\_matplotlib\\__init__.py\u001b[0m in \u001b[0;36mplot\u001b[1;34m(data, kind, **kwargs)\u001b[0m\n\u001b[0;32m     59\u001b[0m             \u001b[0mkwargs\u001b[0m\u001b[1;33m[\u001b[0m\u001b[1;34m\"ax\"\u001b[0m\u001b[1;33m]\u001b[0m \u001b[1;33m=\u001b[0m \u001b[0mgetattr\u001b[0m\u001b[1;33m(\u001b[0m\u001b[0max\u001b[0m\u001b[1;33m,\u001b[0m \u001b[1;34m\"left_ax\"\u001b[0m\u001b[1;33m,\u001b[0m \u001b[0max\u001b[0m\u001b[1;33m)\u001b[0m\u001b[1;33m\u001b[0m\u001b[1;33m\u001b[0m\u001b[0m\n\u001b[0;32m     60\u001b[0m     \u001b[0mplot_obj\u001b[0m \u001b[1;33m=\u001b[0m \u001b[0mPLOT_CLASSES\u001b[0m\u001b[1;33m[\u001b[0m\u001b[0mkind\u001b[0m\u001b[1;33m]\u001b[0m\u001b[1;33m(\u001b[0m\u001b[0mdata\u001b[0m\u001b[1;33m,\u001b[0m \u001b[1;33m**\u001b[0m\u001b[0mkwargs\u001b[0m\u001b[1;33m)\u001b[0m\u001b[1;33m\u001b[0m\u001b[1;33m\u001b[0m\u001b[0m\n\u001b[1;32m---> 61\u001b[1;33m     \u001b[0mplot_obj\u001b[0m\u001b[1;33m.\u001b[0m\u001b[0mgenerate\u001b[0m\u001b[1;33m(\u001b[0m\u001b[1;33m)\u001b[0m\u001b[1;33m\u001b[0m\u001b[1;33m\u001b[0m\u001b[0m\n\u001b[0m\u001b[0;32m     62\u001b[0m     \u001b[0mplot_obj\u001b[0m\u001b[1;33m.\u001b[0m\u001b[0mdraw\u001b[0m\u001b[1;33m(\u001b[0m\u001b[1;33m)\u001b[0m\u001b[1;33m\u001b[0m\u001b[1;33m\u001b[0m\u001b[0m\n\u001b[0;32m     63\u001b[0m     \u001b[1;32mreturn\u001b[0m \u001b[0mplot_obj\u001b[0m\u001b[1;33m.\u001b[0m\u001b[0mresult\u001b[0m\u001b[1;33m\u001b[0m\u001b[1;33m\u001b[0m\u001b[0m\n",
      "\u001b[1;32m~\\anaconda3\\lib\\site-packages\\pandas\\plotting\\_matplotlib\\core.py\u001b[0m in \u001b[0;36mgenerate\u001b[1;34m(self)\u001b[0m\n\u001b[0;32m    267\u001b[0m     \u001b[1;32mdef\u001b[0m \u001b[0mgenerate\u001b[0m\u001b[1;33m(\u001b[0m\u001b[0mself\u001b[0m\u001b[1;33m)\u001b[0m\u001b[1;33m:\u001b[0m\u001b[1;33m\u001b[0m\u001b[1;33m\u001b[0m\u001b[0m\n\u001b[0;32m    268\u001b[0m         \u001b[0mself\u001b[0m\u001b[1;33m.\u001b[0m\u001b[0m_args_adjust\u001b[0m\u001b[1;33m(\u001b[0m\u001b[1;33m)\u001b[0m\u001b[1;33m\u001b[0m\u001b[1;33m\u001b[0m\u001b[0m\n\u001b[1;32m--> 269\u001b[1;33m         \u001b[0mself\u001b[0m\u001b[1;33m.\u001b[0m\u001b[0m_compute_plot_data\u001b[0m\u001b[1;33m(\u001b[0m\u001b[1;33m)\u001b[0m\u001b[1;33m\u001b[0m\u001b[1;33m\u001b[0m\u001b[0m\n\u001b[0m\u001b[0;32m    270\u001b[0m         \u001b[0mself\u001b[0m\u001b[1;33m.\u001b[0m\u001b[0m_setup_subplots\u001b[0m\u001b[1;33m(\u001b[0m\u001b[1;33m)\u001b[0m\u001b[1;33m\u001b[0m\u001b[1;33m\u001b[0m\u001b[0m\n\u001b[0;32m    271\u001b[0m         \u001b[0mself\u001b[0m\u001b[1;33m.\u001b[0m\u001b[0m_make_plot\u001b[0m\u001b[1;33m(\u001b[0m\u001b[1;33m)\u001b[0m\u001b[1;33m\u001b[0m\u001b[1;33m\u001b[0m\u001b[0m\n",
      "\u001b[1;32m~\\anaconda3\\lib\\site-packages\\pandas\\plotting\\_matplotlib\\core.py\u001b[0m in \u001b[0;36m_compute_plot_data\u001b[1;34m(self)\u001b[0m\n\u001b[0;32m    416\u001b[0m         \u001b[1;31m# no non-numeric frames or series allowed\u001b[0m\u001b[1;33m\u001b[0m\u001b[1;33m\u001b[0m\u001b[1;33m\u001b[0m\u001b[0m\n\u001b[0;32m    417\u001b[0m         \u001b[1;32mif\u001b[0m \u001b[0mis_empty\u001b[0m\u001b[1;33m:\u001b[0m\u001b[1;33m\u001b[0m\u001b[1;33m\u001b[0m\u001b[0m\n\u001b[1;32m--> 418\u001b[1;33m             \u001b[1;32mraise\u001b[0m \u001b[0mTypeError\u001b[0m\u001b[1;33m(\u001b[0m\u001b[1;34m\"no numeric data to plot\"\u001b[0m\u001b[1;33m)\u001b[0m\u001b[1;33m\u001b[0m\u001b[1;33m\u001b[0m\u001b[0m\n\u001b[0m\u001b[0;32m    419\u001b[0m \u001b[1;33m\u001b[0m\u001b[0m\n\u001b[0;32m    420\u001b[0m         \u001b[1;31m# GH25587: cast ExtensionArray of pandas (IntegerArray, etc.) to\u001b[0m\u001b[1;33m\u001b[0m\u001b[1;33m\u001b[0m\u001b[1;33m\u001b[0m\u001b[0m\n",
      "\u001b[1;31mTypeError\u001b[0m: no numeric data to plot"
     ]
    }
   ],
   "source": [
    "top_notes_count_top_5 = (pd.DataFrame(fragrance_all_notes[top].sum()\n",
    "                                                          .sort_values(ascending = False)[:5][::-1],\n",
    "                                                          columns = ['Count']))\n",
    "top_notes_count_top_5.plot(kind = 'barh',\n",
    "                 color = 'gold', \n",
    "                 legend = False)\n",
    "\n",
    "plt.title('Top 5 most frequent fragrance note categories', size = 13)\n",
    "\n",
    "plt.xticks(size = 12)\n",
    "\n",
    "plt.yticks(size = 12)\n",
    "\n",
    "plt.savefig('../figures/most_freq_note_categories.png')"
   ]
  },
  {
   "cell_type": "markdown",
   "metadata": {},
   "source": [
    "### Check out differences between the \"generic\" notes columns (`notes_names`) vs. extracted notes\n",
    "\n",
    "### Case study: Honey"
   ]
  },
  {
   "cell_type": "code",
   "execution_count": 102,
   "metadata": {
    "scrolled": true
   },
   "outputs": [
    {
     "ename": "NameError",
     "evalue": "name 'fragrance_df' is not defined",
     "output_type": "error",
     "traceback": [
      "\u001b[1;31m---------------------------------------------------------------------------\u001b[0m",
      "\u001b[1;31mNameError\u001b[0m                                 Traceback (most recent call last)",
      "\u001b[1;32m<ipython-input-102-ed96fac30eab>\u001b[0m in \u001b[0;36m<module>\u001b[1;34m\u001b[0m\n\u001b[1;32m----> 1\u001b[1;33m \u001b[0mhoney_cols\u001b[0m \u001b[1;33m=\u001b[0m \u001b[1;33m[\u001b[0m\u001b[0mcol\u001b[0m \u001b[1;32mfor\u001b[0m \u001b[0mcol\u001b[0m \u001b[1;32min\u001b[0m \u001b[0mfragrance_df\u001b[0m\u001b[1;33m.\u001b[0m\u001b[0mcolumns\u001b[0m \u001b[1;32mif\u001b[0m \u001b[1;33m(\u001b[0m\u001b[1;34m'honey'\u001b[0m \u001b[1;32min\u001b[0m \u001b[0mcol\u001b[0m\u001b[1;33m)\u001b[0m\u001b[1;33m]\u001b[0m\u001b[1;33m\u001b[0m\u001b[1;33m\u001b[0m\u001b[0m\n\u001b[0m\u001b[0;32m      2\u001b[0m \u001b[1;33m\u001b[0m\u001b[0m\n\u001b[0;32m      3\u001b[0m \u001b[0mprintmd\u001b[0m\u001b[1;33m(\u001b[0m\u001b[1;34m'**There is definitely inconsistency between the generic `honey` column and the more specific columns, in terms of count. This is not cause to drop any columns, just a consideration as we move forward.**'\u001b[0m\u001b[1;33m)\u001b[0m\u001b[1;33m\u001b[0m\u001b[1;33m\u001b[0m\u001b[0m\n\u001b[0;32m      4\u001b[0m \u001b[1;33m\u001b[0m\u001b[0m\n\u001b[0;32m      5\u001b[0m \u001b[0mipd\u001b[0m\u001b[1;33m(\u001b[0m\u001b[0mfragrance_df\u001b[0m\u001b[1;33m[\u001b[0m\u001b[0mhoney_cols\u001b[0m\u001b[1;33m]\u001b[0m\u001b[1;33m.\u001b[0m\u001b[0msum\u001b[0m\u001b[1;33m(\u001b[0m\u001b[1;33m)\u001b[0m\u001b[1;33m)\u001b[0m\u001b[1;33m\u001b[0m\u001b[1;33m\u001b[0m\u001b[0m\n",
      "\u001b[1;31mNameError\u001b[0m: name 'fragrance_df' is not defined"
     ]
    }
   ],
   "source": [
    "honey_cols = [col for col in fragrance_df.columns if ('honey' in col)]\n",
    "\n",
    "printmd('**There is definitely inconsistency between the generic `honey` column and the more specific columns, in terms of count. This is not cause to drop any columns, just a consideration as we move forward.**')\n",
    "\n",
    "ipd(fragrance_df[honey_cols].sum())\n",
    "\n",
    "printmd(f'**Difference in count between generic and specific `honey`: {int(fragrance_df[honey_cols].sum().sum()) - 789}**')"
   ]
  },
  {
   "cell_type": "code",
   "execution_count": null,
   "metadata": {},
   "outputs": [],
   "source": [
    "# Get correlation of variables\n",
    "honey_corr = fragrance_df[honey_cols + ['ratings_bins']].corr()\n",
    "\n",
    "# Set up mask to be \"True\" in the upper triangle.\n",
    "mask = np.zeros_like(honey_corr)\n",
    "mask[np.triu_indices_from(mask)] = True\n",
    "\n",
    "# Plot our correlation heatmap, while masking the upper triangle to be white.\n",
    "plt.subplots(figsize = (8, 8))\n",
    "\n",
    "sns.heatmap(honey_corr.sort_values('ratings_bins'), mask = mask, square = True,\n",
    "            cmap = 'coolwarm', annot = True);\n",
    "\n",
    "# This code is taken with minor modifications from https://seaborn.pydata.org/generated/seaborn.heatmap.html and GA instructors"
   ]
  },
  {
   "cell_type": "code",
   "execution_count": null,
   "metadata": {},
   "outputs": [],
   "source": [
    "# # View `notes_generic_and_specific_fives`\n",
    "# for col in notes_generic_and_specific_fives:\n",
    "#     print(col)"
   ]
  },
  {
   "cell_type": "code",
   "execution_count": null,
   "metadata": {},
   "outputs": [],
   "source": [
    "fives[['almond','top_0_apple', 'top_0_apple_blossom']].corr()"
   ]
  },
  {
   "cell_type": "code",
   "execution_count": null,
   "metadata": {},
   "outputs": [],
   "source": [
    "ss = StandardScaler()\n",
    "fives_sc = ss.fit_transform(fives[notes_generic_and_specific_fives])"
   ]
  },
  {
   "cell_type": "code",
   "execution_count": null,
   "metadata": {},
   "outputs": [],
   "source": [
    "# Compare column count of notes in original dataframe and scaled values \n",
    "ipd(fives[notes_generic_and_specific_fives].shape[1])\n",
    "len(fives_sc[0])"
   ]
  },
  {
   "cell_type": "code",
   "execution_count": null,
   "metadata": {},
   "outputs": [],
   "source": [
    "fives_sc_df = pd.DataFrame(fives_sc, columns = fives[notes_generic_and_specific_fives].columns)\n",
    "fives_sc_df.head()"
   ]
  },
  {
   "cell_type": "code",
   "execution_count": null,
   "metadata": {},
   "outputs": [],
   "source": [
    "plt.scatter(fives_sc_df['floral'], fives_sc_df['almond'])"
   ]
  },
  {
   "cell_type": "code",
   "execution_count": null,
   "metadata": {
    "scrolled": true
   },
   "outputs": [],
   "source": [
    "# Visualize notes in `five`\n",
    "# fives_notes_counts_df = pd.DataFrame({'top_0_absinthe': 1}, index = [1])\n",
    "# fives_notes_counts_df = fives_notes_counts_df.append({'top_0_acai_berry': 1}, ignore_index = True)\n",
    "# plt.scatter(fives_notes_counts_df['top_0_absinthe'].fillna(0), fives_notes_counts_df['top_0_acai_berry'].fillna(0))"
   ]
  },
  {
   "cell_type": "markdown",
   "metadata": {},
   "source": [
    "# end: STUMPED :\\"
   ]
  },
  {
   "cell_type": "code",
   "execution_count": null,
   "metadata": {},
   "outputs": [],
   "source": [
    "# Export for safekeeping\n",
    "\n",
    "fives.to_csv('../data/data_subsets/fives.csv', index = False)"
   ]
  },
  {
   "cell_type": "code",
   "execution_count": null,
   "metadata": {},
   "outputs": [],
   "source": [
    "import random\n",
    "\n",
    "\n",
    "fig = plt.figure()\n",
    "ax = Axes3D(fig)\n",
    "\n",
    "sequence_containing_x_vals = list(range(0, 100))\n",
    "sequence_containing_y_vals = list(range(0, 100))\n",
    "sequence_containing_z_vals = list(range(0, 100))\n",
    "\n",
    "random.shuffle(sequence_containing_x_vals)\n",
    "random.shuffle(sequence_containing_y_vals)\n",
    "random.shuffle(sequence_containing_z_vals)\n",
    "\n",
    "ax.scatter(sequence_containing_x_vals, sequence_containing_y_vals, sequence_containing_z_vals)\n",
    "plt.show()\n",
    "\n",
    "# ref: https://stackoverflow.com/questions/1985856/how-to-make-a-3d-scatter-plot-in-python"
   ]
  },
  {
   "cell_type": "code",
   "execution_count": null,
   "metadata": {},
   "outputs": [],
   "source": [
    "fives"
   ]
  },
  {
   "cell_type": "code",
   "execution_count": null,
   "metadata": {},
   "outputs": [],
   "source": []
  },
  {
   "cell_type": "code",
   "execution_count": null,
   "metadata": {},
   "outputs": [],
   "source": []
  },
  {
   "cell_type": "code",
   "execution_count": null,
   "metadata": {},
   "outputs": [],
   "source": []
  },
  {
   "cell_type": "code",
   "execution_count": null,
   "metadata": {},
   "outputs": [],
   "source": []
  },
  {
   "cell_type": "code",
   "execution_count": null,
   "metadata": {},
   "outputs": [],
   "source": []
  }
 ],
 "metadata": {
  "kernelspec": {
   "display_name": "Python 3",
   "language": "python",
   "name": "python3"
  },
  "language_info": {
   "codemirror_mode": {
    "name": "ipython",
    "version": 3
   },
   "file_extension": ".py",
   "mimetype": "text/x-python",
   "name": "python",
   "nbconvert_exporter": "python",
   "pygments_lexer": "ipython3",
   "version": "3.8.3"
  }
 },
 "nbformat": 4,
 "nbformat_minor": 4
}
